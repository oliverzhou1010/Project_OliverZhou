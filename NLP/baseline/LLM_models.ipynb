{
 "cells": [
  {
   "cell_type": "code",
   "execution_count": 2,
   "metadata": {
    "_cell_guid": "b1076dfc-b9ad-4769-8c92-a6c4dae69d19",
    "_uuid": "8f2839f25d086af736a60e9eeb907d3b93b6e0e5",
    "execution": {
     "iopub.execute_input": "2024-11-19T05:25:14.344788Z",
     "iopub.status.busy": "2024-11-19T05:25:14.344088Z",
     "iopub.status.idle": "2024-11-19T05:25:14.361455Z",
     "shell.execute_reply": "2024-11-19T05:25:14.360611Z",
     "shell.execute_reply.started": "2024-11-19T05:25:14.344754Z"
    },
    "trusted": true
   },
   "outputs": [
    {
     "name": "stdout",
     "output_type": "stream",
     "text": [
      "/kaggle/input/data-scientist-linkedin-job-postings/postings.csv\n"
     ]
    }
   ],
   "source": [
    "# This Python 3 environment comes with many helpful analytics libraries installed\n",
    "# It is defined by the kaggle/python Docker image: https://github.com/kaggle/docker-python\n",
    "# For example, here's several helpful packages to load\n",
    "\n",
    "import numpy as np # linear algebra\n",
    "import pandas as pd # data processing, CSV file I/O (e.g. pd.read_csv)\n",
    "\n",
    "# Input data files are available in the read-only \"../input/\" directory\n",
    "# For example, running this (by clicking run or pressing Shift+Enter) will list all files under the input directory\n",
    "\n",
    "import os\n",
    "for dirname, _, filenames in os.walk('/kaggle/input'):\n",
    "    for filename in filenames:\n",
    "        print(os.path.join(dirname, filename))\n",
    "\n",
    "# You can write up to 20GB to the current directory (/kaggle/working/) that gets preserved as output when you create a version using \"Save & Run All\" \n",
    "# You can also write temporary files to /kaggle/temp/, but they won't be saved outside of the current session"
   ]
  },
  {
   "cell_type": "markdown",
   "metadata": {},
   "source": [
    "### Model 1 for generating job summary by OpenAI\n"
   ]
  },
  {
   "cell_type": "code",
   "execution_count": 3,
   "metadata": {
    "collapsed": true,
    "execution": {
     "iopub.execute_input": "2024-11-19T05:25:16.066736Z",
     "iopub.status.busy": "2024-11-19T05:25:16.066363Z",
     "iopub.status.idle": "2024-11-19T05:25:16.332336Z",
     "shell.execute_reply": "2024-11-19T05:25:16.331366Z",
     "shell.execute_reply.started": "2024-11-19T05:25:16.066705Z"
    },
    "jupyter": {
     "outputs_hidden": true
    },
    "trusted": true
   },
   "outputs": [
    {
     "data": {
      "text/html": [
       "<div>\n",
       "<style scoped>\n",
       "    .dataframe tbody tr th:only-of-type {\n",
       "        vertical-align: middle;\n",
       "    }\n",
       "\n",
       "    .dataframe tbody tr th {\n",
       "        vertical-align: top;\n",
       "    }\n",
       "\n",
       "    .dataframe thead th {\n",
       "        text-align: right;\n",
       "    }\n",
       "</style>\n",
       "<table border=\"1\" class=\"dataframe\">\n",
       "  <thead>\n",
       "    <tr style=\"text-align: right;\">\n",
       "      <th></th>\n",
       "      <th>job_title</th>\n",
       "      <th>company</th>\n",
       "      <th>job_location</th>\n",
       "      <th>job_link</th>\n",
       "      <th>first_seen</th>\n",
       "      <th>search_city</th>\n",
       "      <th>search_country</th>\n",
       "      <th>job level</th>\n",
       "      <th>job_type</th>\n",
       "      <th>job_summary</th>\n",
       "      <th>job_skills</th>\n",
       "    </tr>\n",
       "  </thead>\n",
       "  <tbody>\n",
       "    <tr>\n",
       "      <th>0</th>\n",
       "      <td>Technical Data Analyst</td>\n",
       "      <td>Jefferson Health Plans</td>\n",
       "      <td>Philadelphia, PA</td>\n",
       "      <td>https://www.linkedin.com/jobs/view/technical-d...</td>\n",
       "      <td>2023-12-20</td>\n",
       "      <td>Phoenixville</td>\n",
       "      <td>United States</td>\n",
       "      <td>Associate</td>\n",
       "      <td>Remote</td>\n",
       "      <td>Why Choose Jefferson Health Plans?\\nWe are an ...</td>\n",
       "      <td>KNIME, QlikView, SQL, MS Access, MS Excel, Log...</td>\n",
       "    </tr>\n",
       "    <tr>\n",
       "      <th>1</th>\n",
       "      <td>Data Center Engineer - Minneapolis</td>\n",
       "      <td>DeRisk Technologies</td>\n",
       "      <td>Minneapolis, MN</td>\n",
       "      <td>https://www.linkedin.com/jobs/view/data-center...</td>\n",
       "      <td>2023-12-20</td>\n",
       "      <td>Minneapolis</td>\n",
       "      <td>United States</td>\n",
       "      <td>Associate</td>\n",
       "      <td>Onsite</td>\n",
       "      <td>Job Responsibilities:\\nDeployment / In-Scope C...</td>\n",
       "      <td>Server, Storage, Backup, Networking, Virtualiz...</td>\n",
       "    </tr>\n",
       "    <tr>\n",
       "      <th>2</th>\n",
       "      <td>Data Analyst</td>\n",
       "      <td>Avani Tech Solutions Private Limited</td>\n",
       "      <td>Minneapolis, MN</td>\n",
       "      <td>https://www.linkedin.com/jobs/view/data-analys...</td>\n",
       "      <td>2023-12-20</td>\n",
       "      <td>Minneapolis</td>\n",
       "      <td>United States</td>\n",
       "      <td>Associate</td>\n",
       "      <td>Onsite</td>\n",
       "      <td>Success Factor knowledge\\nSchedule : Monday th...</td>\n",
       "      <td>Data Management, HR Data Retention Controls, C...</td>\n",
       "    </tr>\n",
       "    <tr>\n",
       "      <th>3</th>\n",
       "      <td>Data Engineer II - NBC Sports Next</td>\n",
       "      <td>NBC Sports Next</td>\n",
       "      <td>Minneapolis, MN</td>\n",
       "      <td>https://www.linkedin.com/jobs/view/data-engine...</td>\n",
       "      <td>2023-12-20</td>\n",
       "      <td>Minneapolis</td>\n",
       "      <td>United States</td>\n",
       "      <td>Associate</td>\n",
       "      <td>Remote</td>\n",
       "      <td>Company Description\\nNBC Sports Next is where ...</td>\n",
       "      <td>Data Engineering, Data Warehousing, SQL, MySQL...</td>\n",
       "    </tr>\n",
       "    <tr>\n",
       "      <th>4</th>\n",
       "      <td>Data Analyst - Operational Assessment</td>\n",
       "      <td>National Grid Renewables</td>\n",
       "      <td>Bloomington, MN</td>\n",
       "      <td>https://www.linkedin.com/jobs/view/data-analys...</td>\n",
       "      <td>2023-12-20</td>\n",
       "      <td>Minneapolis</td>\n",
       "      <td>United States</td>\n",
       "      <td>Associate</td>\n",
       "      <td>Hybrid</td>\n",
       "      <td>National Grid Renewables is a leading North Am...</td>\n",
       "      <td>Data Analyst, Operational Assessment, Wind Ene...</td>\n",
       "    </tr>\n",
       "    <tr>\n",
       "      <th>...</th>\n",
       "      <td>...</td>\n",
       "      <td>...</td>\n",
       "      <td>...</td>\n",
       "      <td>...</td>\n",
       "      <td>...</td>\n",
       "      <td>...</td>\n",
       "      <td>...</td>\n",
       "      <td>...</td>\n",
       "      <td>...</td>\n",
       "      <td>...</td>\n",
       "      <td>...</td>\n",
       "    </tr>\n",
       "    <tr>\n",
       "      <th>4337</th>\n",
       "      <td>Data Science &amp; Analytics Consultant</td>\n",
       "      <td>ADLIB Recruitment | B Corp™</td>\n",
       "      <td>Bristol, England, United Kingdom</td>\n",
       "      <td>https://uk.linkedin.com/jobs/view/data-science...</td>\n",
       "      <td>2023-12-20</td>\n",
       "      <td>Newport</td>\n",
       "      <td>United Kingdom</td>\n",
       "      <td>Mid senior</td>\n",
       "      <td>Onsite</td>\n",
       "      <td>Grow your career at a successful, Bristol base...</td>\n",
       "      <td>Data analytics, Data science, SQL, Python, Tab...</td>\n",
       "    </tr>\n",
       "    <tr>\n",
       "      <th>4338</th>\n",
       "      <td>Senior Data Scientist</td>\n",
       "      <td>Harnham</td>\n",
       "      <td>Bristol, England, United Kingdom</td>\n",
       "      <td>https://uk.linkedin.com/jobs/view/senior-data-...</td>\n",
       "      <td>2023-12-20</td>\n",
       "      <td>Newport</td>\n",
       "      <td>United Kingdom</td>\n",
       "      <td>Mid senior</td>\n",
       "      <td>Onsite</td>\n",
       "      <td>To Apply for this Job Click Here\\nSENIOR DATA ...</td>\n",
       "      <td>Data Science, Machine Learning, Python, R, Sta...</td>\n",
       "    </tr>\n",
       "    <tr>\n",
       "      <th>4339</th>\n",
       "      <td>Associate/Principal Mechanical Engineer - Data...</td>\n",
       "      <td>Hydrock</td>\n",
       "      <td>Bristol, England, United Kingdom</td>\n",
       "      <td>https://uk.linkedin.com/jobs/view/associate-pr...</td>\n",
       "      <td>2023-12-20</td>\n",
       "      <td>Newport</td>\n",
       "      <td>United Kingdom</td>\n",
       "      <td>Mid senior</td>\n",
       "      <td>Onsite</td>\n",
       "      <td>Job Advert\\nWe have a fantastic opportunity fo...</td>\n",
       "      <td>Mechanical Engineering, Data Centre Design, Pr...</td>\n",
       "    </tr>\n",
       "    <tr>\n",
       "      <th>4340</th>\n",
       "      <td>Senior Data Scientist</td>\n",
       "      <td>Robert Half</td>\n",
       "      <td>Bristol, England, United Kingdom</td>\n",
       "      <td>https://uk.linkedin.com/jobs/view/senior-data-...</td>\n",
       "      <td>2023-12-20</td>\n",
       "      <td>Newport</td>\n",
       "      <td>United Kingdom</td>\n",
       "      <td>Mid senior</td>\n",
       "      <td>Hybrid</td>\n",
       "      <td>Robert Half partners exclusively with Envelop ...</td>\n",
       "      <td>Python, SQL, Tableau, Power BI, GCP, AWS, Azur...</td>\n",
       "    </tr>\n",
       "    <tr>\n",
       "      <th>4341</th>\n",
       "      <td>Customer Service Representative/Data Analyst/D...</td>\n",
       "      <td>Bluebeacontruckwash</td>\n",
       "      <td>Medicine Hat, Alberta, Canada</td>\n",
       "      <td>https://ca.linkedin.com/jobs/view/customer-ser...</td>\n",
       "      <td>2023-12-20</td>\n",
       "      <td>Medicine Hat</td>\n",
       "      <td>Canada</td>\n",
       "      <td>Mid senior</td>\n",
       "      <td>Onsite</td>\n",
       "      <td>Summary:\\nThe Data Analyst will be responsible...</td>\n",
       "      <td>Data Analysis, Statistical Analysis, Data Visu...</td>\n",
       "    </tr>\n",
       "  </tbody>\n",
       "</table>\n",
       "<p>4342 rows × 11 columns</p>\n",
       "</div>"
      ],
      "text/plain": [
       "                                              job_title  \\\n",
       "0                                Technical Data Analyst   \n",
       "1                    Data Center Engineer - Minneapolis   \n",
       "2                                          Data Analyst   \n",
       "3                    Data Engineer II - NBC Sports Next   \n",
       "4                 Data Analyst - Operational Assessment   \n",
       "...                                                 ...   \n",
       "4337                Data Science & Analytics Consultant   \n",
       "4338                              Senior Data Scientist   \n",
       "4339  Associate/Principal Mechanical Engineer - Data...   \n",
       "4340                              Senior Data Scientist   \n",
       "4341  Customer Service Representative/Data Analyst/D...   \n",
       "\n",
       "                                   company                      job_location  \\\n",
       "0                   Jefferson Health Plans                  Philadelphia, PA   \n",
       "1                      DeRisk Technologies                   Minneapolis, MN   \n",
       "2     Avani Tech Solutions Private Limited                   Minneapolis, MN   \n",
       "3                          NBC Sports Next                   Minneapolis, MN   \n",
       "4                 National Grid Renewables                   Bloomington, MN   \n",
       "...                                    ...                               ...   \n",
       "4337           ADLIB Recruitment | B Corp™  Bristol, England, United Kingdom   \n",
       "4338                               Harnham  Bristol, England, United Kingdom   \n",
       "4339                               Hydrock  Bristol, England, United Kingdom   \n",
       "4340                           Robert Half  Bristol, England, United Kingdom   \n",
       "4341                   Bluebeacontruckwash     Medicine Hat, Alberta, Canada   \n",
       "\n",
       "                                               job_link  first_seen  \\\n",
       "0     https://www.linkedin.com/jobs/view/technical-d...  2023-12-20   \n",
       "1     https://www.linkedin.com/jobs/view/data-center...  2023-12-20   \n",
       "2     https://www.linkedin.com/jobs/view/data-analys...  2023-12-20   \n",
       "3     https://www.linkedin.com/jobs/view/data-engine...  2023-12-20   \n",
       "4     https://www.linkedin.com/jobs/view/data-analys...  2023-12-20   \n",
       "...                                                 ...         ...   \n",
       "4337  https://uk.linkedin.com/jobs/view/data-science...  2023-12-20   \n",
       "4338  https://uk.linkedin.com/jobs/view/senior-data-...  2023-12-20   \n",
       "4339  https://uk.linkedin.com/jobs/view/associate-pr...  2023-12-20   \n",
       "4340  https://uk.linkedin.com/jobs/view/senior-data-...  2023-12-20   \n",
       "4341  https://ca.linkedin.com/jobs/view/customer-ser...  2023-12-20   \n",
       "\n",
       "       search_city  search_country   job level job_type  \\\n",
       "0     Phoenixville   United States   Associate   Remote   \n",
       "1      Minneapolis   United States   Associate   Onsite   \n",
       "2      Minneapolis   United States   Associate   Onsite   \n",
       "3      Minneapolis   United States   Associate   Remote   \n",
       "4      Minneapolis   United States   Associate   Hybrid   \n",
       "...            ...             ...         ...      ...   \n",
       "4337       Newport  United Kingdom  Mid senior   Onsite   \n",
       "4338       Newport  United Kingdom  Mid senior   Onsite   \n",
       "4339       Newport  United Kingdom  Mid senior   Onsite   \n",
       "4340       Newport  United Kingdom  Mid senior   Hybrid   \n",
       "4341  Medicine Hat          Canada  Mid senior   Onsite   \n",
       "\n",
       "                                            job_summary  \\\n",
       "0     Why Choose Jefferson Health Plans?\\nWe are an ...   \n",
       "1     Job Responsibilities:\\nDeployment / In-Scope C...   \n",
       "2     Success Factor knowledge\\nSchedule : Monday th...   \n",
       "3     Company Description\\nNBC Sports Next is where ...   \n",
       "4     National Grid Renewables is a leading North Am...   \n",
       "...                                                 ...   \n",
       "4337  Grow your career at a successful, Bristol base...   \n",
       "4338  To Apply for this Job Click Here\\nSENIOR DATA ...   \n",
       "4339  Job Advert\\nWe have a fantastic opportunity fo...   \n",
       "4340  Robert Half partners exclusively with Envelop ...   \n",
       "4341  Summary:\\nThe Data Analyst will be responsible...   \n",
       "\n",
       "                                             job_skills  \n",
       "0     KNIME, QlikView, SQL, MS Access, MS Excel, Log...  \n",
       "1     Server, Storage, Backup, Networking, Virtualiz...  \n",
       "2     Data Management, HR Data Retention Controls, C...  \n",
       "3     Data Engineering, Data Warehousing, SQL, MySQL...  \n",
       "4     Data Analyst, Operational Assessment, Wind Ene...  \n",
       "...                                                 ...  \n",
       "4337  Data analytics, Data science, SQL, Python, Tab...  \n",
       "4338  Data Science, Machine Learning, Python, R, Sta...  \n",
       "4339  Mechanical Engineering, Data Centre Design, Pr...  \n",
       "4340  Python, SQL, Tableau, Power BI, GCP, AWS, Azur...  \n",
       "4341  Data Analysis, Statistical Analysis, Data Visu...  \n",
       "\n",
       "[4342 rows x 11 columns]"
      ]
     },
     "execution_count": 3,
     "metadata": {},
     "output_type": "execute_result"
    }
   ],
   "source": [
    "df = pd.read_csv('/kaggle/input/data-scientist-linkedin-job-postings/postings.csv')\n",
    "df"
   ]
  },
  {
   "cell_type": "code",
   "execution_count": null,
   "metadata": {
    "trusted": true
   },
   "outputs": [],
   "source": [
    "df.job_summary.tolist()"
   ]
  },
  {
   "cell_type": "code",
   "execution_count": 4,
   "metadata": {
    "execution": {
     "iopub.execute_input": "2024-11-19T05:25:23.697675Z",
     "iopub.status.busy": "2024-11-19T05:25:23.696450Z",
     "iopub.status.idle": "2024-11-19T05:25:24.636566Z",
     "shell.execute_reply": "2024-11-19T05:25:24.635737Z",
     "shell.execute_reply.started": "2024-11-19T05:25:23.697631Z"
    },
    "trusted": true
   },
   "outputs": [
    {
     "name": "stderr",
     "output_type": "stream",
     "text": [
      "/tmp/ipykernel_2501/536215640.py:13: MarkupResemblesLocatorWarning: The input looks more like a filename than markup. You may want to open this file and pass the filehandle into Beautiful Soup.\n",
      "  text = BeautifulSoup(text, \"html.parser\").get_text()\n"
     ]
    },
    {
     "name": "stdout",
     "output_type": "stream",
     "text": [
      "                                         job_summary  \\\n",
      "0  Why Choose Jefferson Health Plans?\\nWe are an ...   \n",
      "1  Job Responsibilities:\\nDeployment / In-Scope C...   \n",
      "2  Success Factor knowledge\\nSchedule : Monday th...   \n",
      "3  Company Description\\nNBC Sports Next is where ...   \n",
      "4  National Grid Renewables is a leading North Am...   \n",
      "\n",
      "                                 cleaned_job_summary  \n",
      "0  why choose jefferson health plans\\nwe are an a...  \n",
      "1  job responsibilities\\ndeployment  inscope conf...  \n",
      "2  success factor knowledge\\nschedule  monday thr...  \n",
      "3  company description\\nnbc sports next is where ...  \n",
      "4  national grid renewables is a leading north am...  \n"
     ]
    }
   ],
   "source": [
    "import pandas as pd\n",
    "import re\n",
    "from bs4 import BeautifulSoup\n",
    "\n",
    "# Define a cleaning function\n",
    "def clean_job_description(text):\n",
    "    # Check for NaN values and handle them\n",
    "    if isinstance(text, float):  # Handles NaN values\n",
    "        return \"\"\n",
    "    # Lowercase\n",
    "    text = text.lower()\n",
    "    # Remove HTML tags\n",
    "    text = BeautifulSoup(text, \"html.parser\").get_text()\n",
    "    # Remove punctuation and numbers\n",
    "    text = re.sub(r'[^\\w\\s]', '', text)\n",
    "    return text\n",
    "\n",
    "# Apply cleaning to the 'job_summary' column\n",
    "df['cleaned_job_summary'] = df['job_summary'].apply(clean_job_description)\n",
    "\n",
    "# Preview the cleaned dataset\n",
    "print(df[['job_summary', 'cleaned_job_summary']].head())\n"
   ]
  },
  {
   "cell_type": "code",
   "execution_count": 5,
   "metadata": {
    "collapsed": true,
    "execution": {
     "iopub.execute_input": "2024-11-19T05:25:28.021534Z",
     "iopub.status.busy": "2024-11-19T05:25:28.021028Z",
     "iopub.status.idle": "2024-11-19T05:25:36.347165Z",
     "shell.execute_reply": "2024-11-19T05:25:36.346013Z",
     "shell.execute_reply.started": "2024-11-19T05:25:28.021497Z"
    },
    "jupyter": {
     "outputs_hidden": true
    },
    "trusted": true
   },
   "outputs": [
    {
     "name": "stdout",
     "output_type": "stream",
     "text": [
      "Requirement already satisfied: langchain in /opt/conda/lib/python3.10/site-packages (0.3.7)\n",
      "Requirement already satisfied: PyYAML>=5.3 in /opt/conda/lib/python3.10/site-packages (from langchain) (6.0.2)\n",
      "Requirement already satisfied: SQLAlchemy<3,>=1.4 in /opt/conda/lib/python3.10/site-packages (from langchain) (2.0.30)\n",
      "Requirement already satisfied: aiohttp<4.0.0,>=3.8.3 in /opt/conda/lib/python3.10/site-packages (from langchain) (3.9.5)\n",
      "Requirement already satisfied: async-timeout<5.0.0,>=4.0.0 in /opt/conda/lib/python3.10/site-packages (from langchain) (4.0.3)\n",
      "Requirement already satisfied: langchain-core<0.4.0,>=0.3.15 in /opt/conda/lib/python3.10/site-packages (from langchain) (0.3.19)\n",
      "Requirement already satisfied: langchain-text-splitters<0.4.0,>=0.3.0 in /opt/conda/lib/python3.10/site-packages (from langchain) (0.3.2)\n",
      "Requirement already satisfied: langsmith<0.2.0,>=0.1.17 in /opt/conda/lib/python3.10/site-packages (from langchain) (0.1.143)\n",
      "Requirement already satisfied: numpy<2,>=1 in /opt/conda/lib/python3.10/site-packages (from langchain) (1.26.4)\n",
      "Requirement already satisfied: pydantic<3.0.0,>=2.7.4 in /opt/conda/lib/python3.10/site-packages (from langchain) (2.9.2)\n",
      "Requirement already satisfied: requests<3,>=2 in /opt/conda/lib/python3.10/site-packages (from langchain) (2.32.3)\n",
      "Requirement already satisfied: tenacity!=8.4.0,<10,>=8.1.0 in /opt/conda/lib/python3.10/site-packages (from langchain) (8.3.0)\n",
      "Requirement already satisfied: aiosignal>=1.1.2 in /opt/conda/lib/python3.10/site-packages (from aiohttp<4.0.0,>=3.8.3->langchain) (1.3.1)\n",
      "Requirement already satisfied: attrs>=17.3.0 in /opt/conda/lib/python3.10/site-packages (from aiohttp<4.0.0,>=3.8.3->langchain) (23.2.0)\n",
      "Requirement already satisfied: frozenlist>=1.1.1 in /opt/conda/lib/python3.10/site-packages (from aiohttp<4.0.0,>=3.8.3->langchain) (1.4.1)\n",
      "Requirement already satisfied: multidict<7.0,>=4.5 in /opt/conda/lib/python3.10/site-packages (from aiohttp<4.0.0,>=3.8.3->langchain) (6.0.5)\n",
      "Requirement already satisfied: yarl<2.0,>=1.0 in /opt/conda/lib/python3.10/site-packages (from aiohttp<4.0.0,>=3.8.3->langchain) (1.9.4)\n",
      "Requirement already satisfied: jsonpatch<2.0,>=1.33 in /opt/conda/lib/python3.10/site-packages (from langchain-core<0.4.0,>=0.3.15->langchain) (1.33)\n",
      "Requirement already satisfied: packaging<25,>=23.2 in /opt/conda/lib/python3.10/site-packages (from langchain-core<0.4.0,>=0.3.15->langchain) (24.2)\n",
      "Requirement already satisfied: typing-extensions>=4.7 in /opt/conda/lib/python3.10/site-packages (from langchain-core<0.4.0,>=0.3.15->langchain) (4.12.2)\n",
      "Requirement already satisfied: httpx<1,>=0.23.0 in /opt/conda/lib/python3.10/site-packages (from langsmith<0.2.0,>=0.1.17->langchain) (0.27.0)\n",
      "Requirement already satisfied: orjson<4.0.0,>=3.9.14 in /opt/conda/lib/python3.10/site-packages (from langsmith<0.2.0,>=0.1.17->langchain) (3.10.4)\n",
      "Requirement already satisfied: requests-toolbelt<2.0.0,>=1.0.0 in /opt/conda/lib/python3.10/site-packages (from langsmith<0.2.0,>=0.1.17->langchain) (1.0.0)\n",
      "Requirement already satisfied: annotated-types>=0.6.0 in /opt/conda/lib/python3.10/site-packages (from pydantic<3.0.0,>=2.7.4->langchain) (0.7.0)\n",
      "Requirement already satisfied: pydantic-core==2.23.4 in /opt/conda/lib/python3.10/site-packages (from pydantic<3.0.0,>=2.7.4->langchain) (2.23.4)\n",
      "Requirement already satisfied: charset-normalizer<4,>=2 in /opt/conda/lib/python3.10/site-packages (from requests<3,>=2->langchain) (3.3.2)\n",
      "Requirement already satisfied: idna<4,>=2.5 in /opt/conda/lib/python3.10/site-packages (from requests<3,>=2->langchain) (3.7)\n",
      "Requirement already satisfied: urllib3<3,>=1.21.1 in /opt/conda/lib/python3.10/site-packages (from requests<3,>=2->langchain) (1.26.18)\n",
      "Requirement already satisfied: certifi>=2017.4.17 in /opt/conda/lib/python3.10/site-packages (from requests<3,>=2->langchain) (2024.8.30)\n",
      "Requirement already satisfied: greenlet!=0.4.17 in /opt/conda/lib/python3.10/site-packages (from SQLAlchemy<3,>=1.4->langchain) (3.0.3)\n",
      "Requirement already satisfied: anyio in /opt/conda/lib/python3.10/site-packages (from httpx<1,>=0.23.0->langsmith<0.2.0,>=0.1.17->langchain) (4.4.0)\n",
      "Requirement already satisfied: httpcore==1.* in /opt/conda/lib/python3.10/site-packages (from httpx<1,>=0.23.0->langsmith<0.2.0,>=0.1.17->langchain) (1.0.5)\n",
      "Requirement already satisfied: sniffio in /opt/conda/lib/python3.10/site-packages (from httpx<1,>=0.23.0->langsmith<0.2.0,>=0.1.17->langchain) (1.3.1)\n",
      "Requirement already satisfied: h11<0.15,>=0.13 in /opt/conda/lib/python3.10/site-packages (from httpcore==1.*->httpx<1,>=0.23.0->langsmith<0.2.0,>=0.1.17->langchain) (0.14.0)\n",
      "Requirement already satisfied: jsonpointer>=1.9 in /opt/conda/lib/python3.10/site-packages (from jsonpatch<2.0,>=1.33->langchain-core<0.4.0,>=0.3.15->langchain) (2.4)\n",
      "Requirement already satisfied: exceptiongroup>=1.0.2 in /opt/conda/lib/python3.10/site-packages (from anyio->httpx<1,>=0.23.0->langsmith<0.2.0,>=0.1.17->langchain) (1.2.0)\n",
      "Note: you may need to restart the kernel to use updated packages.\n"
     ]
    }
   ],
   "source": [
    "pip install langchain"
   ]
  },
  {
   "cell_type": "code",
   "execution_count": 6,
   "metadata": {
    "execution": {
     "iopub.execute_input": "2024-11-19T05:25:42.635196Z",
     "iopub.status.busy": "2024-11-19T05:25:42.634180Z",
     "iopub.status.idle": "2024-11-19T05:25:44.735385Z",
     "shell.execute_reply": "2024-11-19T05:25:44.734505Z",
     "shell.execute_reply.started": "2024-11-19T05:25:42.635141Z"
    },
    "trusted": true
   },
   "outputs": [
    {
     "name": "stdout",
     "output_type": "stream",
     "text": [
      "Chunk 1: why choose jefferson health plans\n",
      "we are an awardwinning notforprofit health maintenance organization we are committed to creating a community where everyone belongs acknowledges and celebrates diversity and has opportunities to grow to their fullest potential\n",
      "while this job currently provides a flexible remote option due to inoffice meetings training as required or other business needs our employees are to be residents of pa or the nearby states of de or nj\n",
      "Chunk 2: perks of jhp and why you will love it here\n",
      "competitive compensation packages including 401k savings plan with company match and profit sharing\n",
      "flextime and workathome options\n",
      "benefits  wellness program including generous time off\n",
      "impact on the communities we service\n",
      "we are seeking a talented and enthusiastic technical data analyst to join our team\n",
      "Chunk 3: the data operations team primary function is to provide access to various clinical and financial data to management to support the business decision process databases are maintained by this team for analyst use business users can access analyst data and analysis through the iq portal which is also maintained by the data operations team this particular role will ensure consistent accurate data for reporting the technical data analyst will serve as the business lead for the corporate enterprise\n",
      "Chunk 4: as the business lead for the corporate enterprise data warehouses project and software conversion efforts they will work with is our consultants and other business users to verify the data model design test data builds verify algorithms and integrate the data using our new business intelligence reporting tool the person will enable other healthcare economics analysts to use current and future data sources effectively\n",
      "Chunk 5: as the technical data analyst your daily duties may include\n",
      "use knime qlikview sql ms access ms excel and other reporting tools as necessary to maintain data analytics division databases\n",
      "review logical and physical data model design make recommendations for improvement\n",
      "review and publish application and analysis to user portal\n",
      "extract transform and load data from internal and external databases into data analytics division databases\n"
     ]
    }
   ],
   "source": [
    "from langchain.schema import Document\n",
    "from langchain.text_splitter import RecursiveCharacterTextSplitter\n",
    "\n",
    "# Assuming the cleaning has been applied to the 'cleaned_job_summary' column\n",
    "# Remove invalid or empty entries after cleaning\n",
    "cleaned_documents = df['cleaned_job_summary'].dropna().tolist()\n",
    "cleaned_documents = [doc for doc in cleaned_documents if isinstance(doc, str) and doc.strip()]\n",
    "\n",
    "# Convert cleaned strings to Document objects\n",
    "doc_objects = [Document(page_content=doc) for doc in cleaned_documents]\n",
    "\n",
    "# Initialize the text splitter\n",
    "text_splitter = RecursiveCharacterTextSplitter(chunk_size=500, chunk_overlap=50)\n",
    "\n",
    "# Split the documents into smaller chunks\n",
    "chunks = text_splitter.split_documents(doc_objects)\n",
    "\n",
    "# Display results\n",
    "for idx, chunk in enumerate(chunks[:5]):  # Preview the first 5 chunks\n",
    "    print(f\"Chunk {idx + 1}: {chunk.page_content}\")\n"
   ]
  },
  {
   "cell_type": "code",
   "execution_count": null,
   "metadata": {
    "trusted": true
   },
   "outputs": [],
   "source": [
    "pip install chromadb"
   ]
  },
  {
   "cell_type": "code",
   "execution_count": null,
   "metadata": {
    "trusted": true
   },
   "outputs": [],
   "source": [
    "pip install -U langchain-community"
   ]
  },
  {
   "cell_type": "code",
   "execution_count": null,
   "metadata": {
    "trusted": true
   },
   "outputs": [],
   "source": [
    "pip install sentence-transformers"
   ]
  },
  {
   "cell_type": "code",
   "execution_count": 7,
   "metadata": {
    "execution": {
     "iopub.execute_input": "2024-11-19T05:25:51.172611Z",
     "iopub.status.busy": "2024-11-19T05:25:51.172093Z",
     "iopub.status.idle": "2024-11-19T05:27:49.068873Z",
     "shell.execute_reply": "2024-11-19T05:27:49.068103Z",
     "shell.execute_reply.started": "2024-11-19T05:25:51.172576Z"
    },
    "trusted": true
   },
   "outputs": [
    {
     "name": "stderr",
     "output_type": "stream",
     "text": [
      "/tmp/ipykernel_2501/205515783.py:5: LangChainDeprecationWarning: The class `HuggingFaceEmbeddings` was deprecated in LangChain 0.2.2 and will be removed in 1.0. An updated version of the class exists in the :class:`~langchain-huggingface package and should be used instead. To use it run `pip install -U :class:`~langchain-huggingface` and import as `from :class:`~langchain_huggingface import HuggingFaceEmbeddings``.\n",
      "  embedding_model = HuggingFaceEmbeddings(model_name=\"sentence-transformers/all-MiniLM-L6-v2\")\n",
      "/opt/conda/lib/python3.10/site-packages/transformers/tokenization_utils_base.py:1617: FutureWarning: `clean_up_tokenization_spaces` was not set. It will be set to `True` by default. This behavior will be deprecated in transformers v4.45, and will be then set to `False` by default. For more details check this issue: https://github.com/huggingface/transformers/issues/31884\n",
      "  warnings.warn(\n"
     ]
    }
   ],
   "source": [
    "from langchain.embeddings import HuggingFaceEmbeddings\n",
    "from langchain.vectorstores import Chroma\n",
    "\n",
    "# Load a free embedding model\n",
    "embedding_model = HuggingFaceEmbeddings(model_name=\"sentence-transformers/all-MiniLM-L6-v2\")\n",
    "\n",
    "# Create a Chroma vector store\n",
    "vector_store = Chroma.from_documents(chunks, embedding=embedding_model, persist_directory=\"chroma_db\")\n"
   ]
  },
  {
   "cell_type": "code",
   "execution_count": 8,
   "metadata": {
    "execution": {
     "iopub.execute_input": "2024-11-19T05:28:07.588223Z",
     "iopub.status.busy": "2024-11-19T05:28:07.587439Z",
     "iopub.status.idle": "2024-11-19T05:28:07.592825Z",
     "shell.execute_reply": "2024-11-19T05:28:07.591921Z",
     "shell.execute_reply.started": "2024-11-19T05:28:07.588185Z"
    },
    "trusted": true
   },
   "outputs": [],
   "source": [
    "retriever = vector_store.as_retriever(search_kwargs={\"k\": 3})  # Retrieve top 3 relevant chunks"
   ]
  },
  {
   "cell_type": "code",
   "execution_count": 9,
   "metadata": {
    "execution": {
     "iopub.execute_input": "2024-11-19T05:28:09.899387Z",
     "iopub.status.busy": "2024-11-19T05:28:09.898722Z",
     "iopub.status.idle": "2024-11-19T05:28:12.678247Z",
     "shell.execute_reply": "2024-11-19T05:28:12.677358Z",
     "shell.execute_reply.started": "2024-11-19T05:28:09.899335Z"
    },
    "trusted": true
   },
   "outputs": [
    {
     "name": "stderr",
     "output_type": "stream",
     "text": [
      "Hardware accelerator e.g. GPU is available in the environment, but no `device` argument is passed to the `Pipeline` object. Model will be on CPU.\n"
     ]
    }
   ],
   "source": [
    "from transformers import pipeline\n",
    "\n",
    "# Load a summarization pipeline using a free model\n",
    "summarizer = pipeline(\"summarization\", model=\"facebook/bart-large-cnn\")"
   ]
  },
  {
   "cell_type": "code",
   "execution_count": null,
   "metadata": {
    "trusted": true
   },
   "outputs": [],
   "source": [
    "def summarize_job_description(query):\n",
    "    # Retrieve relevant chunks based on the query\n",
    "    retrieved_docs = retriever.get_relevant_documents(query)\n",
    "    \n",
    "    # Concatenate the retrieved chunks into a single text\n",
    "    context = \" \".join([doc.page_content for doc in retrieved_docs])\n",
    "\n",
    "    # Generate the summary\n",
    "    summary = summarizer(context, max_length=150, min_length=50, do_sample=False)\n",
    "    return summary[0][\"summary_text\"]\n",
    "\n",
    "# Example usage\n",
    "query = \"Summarize the key skills, experience level, and job title for this role.\"\n",
    "summary = summarize_job_description(query)\n",
    "print(summary)"
   ]
  },
  {
   "cell_type": "code",
   "execution_count": null,
   "metadata": {
    "trusted": true
   },
   "outputs": [],
   "source": [
    "summaries = []\n",
    "for job in cleaned_documents:\n",
    "    summary = summarizer(job, max_length=150, min_length=50, do_sample=False)\n",
    "    summaries.append(summary[0][\"summary_text\"])\n",
    "\n",
    "# Add the summaries back to the dataset\n",
    "df1 = []\n",
    "df1 = df.dropna('cleaned_job_summary')\n",
    "df1[\"summaries\"] = summaries\n",
    "df1[\"summaries\"]"
   ]
  },
  {
   "cell_type": "code",
   "execution_count": null,
   "metadata": {
    "trusted": true
   },
   "outputs": [],
   "source": [
    "pip install openai pandas\n"
   ]
  },
  {
   "cell_type": "code",
   "execution_count": 10,
   "metadata": {
    "execution": {
     "iopub.execute_input": "2024-11-19T05:28:27.130321Z",
     "iopub.status.busy": "2024-11-19T05:28:27.129344Z",
     "iopub.status.idle": "2024-11-19T05:28:27.148554Z",
     "shell.execute_reply": "2024-11-19T05:28:27.147791Z",
     "shell.execute_reply.started": "2024-11-19T05:28:27.130269Z"
    },
    "trusted": true
   },
   "outputs": [],
   "source": [
    "import os\n",
    "import openai\n",
    "\n",
    "# Set OpenAI API key\n",
    "os.environ[\"OPENAI_API_KEY\"] = \"SET YOUR OWN OPENAI KEY\"\n",
    "openai.api_key = os.getenv(\"OPENAI_API_KEY\")\n"
   ]
  },
  {
   "cell_type": "code",
   "execution_count": 11,
   "metadata": {
    "execution": {
     "iopub.execute_input": "2024-11-19T05:28:38.306322Z",
     "iopub.status.busy": "2024-11-19T05:28:38.305663Z",
     "iopub.status.idle": "2024-11-19T05:28:38.311239Z",
     "shell.execute_reply": "2024-11-19T05:28:38.310395Z",
     "shell.execute_reply.started": "2024-11-19T05:28:38.306289Z"
    },
    "trusted": true
   },
   "outputs": [],
   "source": [
    "def summarize_text_openai(text, max_tokens=150):\n",
    "    try:\n",
    "        response = openai.Completion.create(\n",
    "            engine=\"text-davinci-003\",  # Use a GPT model (e.g., \"gpt-4\" or \"text-davinci-003\")\n",
    "            prompt=f\"You are a helpful assistant. The following data are the job description in the LinkedIn. Summarize the following job description with fluent sentences with the company name, job title, how many years of experience, skills needed.\",\n",
    "            max_tokens=max_tokens,\n",
    "            temperature=0.7,  # Adjust creativity level\n",
    "            top_p=1,\n",
    "            n=1,\n",
    "            stop=None\n",
    "        )\n",
    "        return response.choices[0].text.strip()\n",
    "    except Exception as e:\n",
    "        return f\"Error: {str(e)}\"\n"
   ]
  },
  {
   "cell_type": "code",
   "execution_count": null,
   "metadata": {
    "trusted": true
   },
   "outputs": [],
   "source": [
    "pip install openai==0.28\n"
   ]
  },
  {
   "cell_type": "code",
   "execution_count": 12,
   "metadata": {
    "execution": {
     "iopub.execute_input": "2024-11-19T05:28:46.981444Z",
     "iopub.status.busy": "2024-11-19T05:28:46.980886Z",
     "iopub.status.idle": "2024-11-19T05:34:55.452838Z",
     "shell.execute_reply": "2024-11-19T05:34:55.451923Z",
     "shell.execute_reply.started": "2024-11-19T05:28:46.981410Z"
    },
    "trusted": true
   },
   "outputs": [
    {
     "name": "stdout",
     "output_type": "stream",
     "text": [
      "                                         job_summary  \\\n",
      "0  Why Choose Jefferson Health Plans?\\nWe are an ...   \n",
      "1  Job Responsibilities:\\nDeployment / In-Scope C...   \n",
      "2  Success Factor knowledge\\nSchedule : Monday th...   \n",
      "3  Company Description\\nNBC Sports Next is where ...   \n",
      "4  National Grid Renewables is a leading North Am...   \n",
      "\n",
      "                                           summaries  \n",
      "0  Error: The model `text-davinci-003` has been d...  \n",
      "1  Error: The model `text-davinci-003` has been d...  \n",
      "2  Error: The model `text-davinci-003` has been d...  \n",
      "3  Error: The model `text-davinci-003` has been d...  \n",
      "4  Error: The model `text-davinci-003` has been d...  \n"
     ]
    }
   ],
   "source": [
    "import pandas as pd\n",
    "\n",
    "\n",
    "\n",
    "# Clean and fill NaN job summaries\n",
    "df[\"job_summary\"] = df[\"job_summary\"].fillna(\"No description available.\")\n",
    "\n",
    "# Apply the summarization function to the job_summary column\n",
    "df[\"summaries\"] = df[\"job_summary\"].apply(lambda x: summarize_text_openai(x, max_tokens=150))\n",
    "\n",
    "# Preview results\n",
    "print(df[[\"job_summary\", \"summaries\"]].head())\n"
   ]
  },
  {
   "cell_type": "code",
   "execution_count": 15,
   "metadata": {
    "execution": {
     "iopub.execute_input": "2024-11-19T05:38:21.043488Z",
     "iopub.status.busy": "2024-11-19T05:38:21.043109Z",
     "iopub.status.idle": "2024-11-19T05:38:22.233930Z",
     "shell.execute_reply": "2024-11-19T05:38:22.233032Z",
     "shell.execute_reply.started": "2024-11-19T05:38:21.043444Z"
    },
    "trusted": true
   },
   "outputs": [
    {
     "name": "stdout",
     "output_type": "stream",
     "text": [
      "Company Name: XYZ Corporation\n",
      "Job Title: Senior Marketing Manager\n",
      "Experience: 5+ years\n",
      "Skills Needed: The ideal candidate should have a minimum of 5 years of experience in marketing, with a proven track record of developing and executing successful marketing strategies. Strong analytical skills, excellent communication abilities, and proficiency in digital marketing tools are essential. The candidate should also possess leadership qualities, be detail-oriented, and have a creative mindset to drive innovative marketing campaigns.\n"
     ]
    }
   ],
   "source": [
    "import openai\n",
    "\n",
    "# Using gpt-3.5-turbo or gpt-4\n",
    "response = openai.ChatCompletion.create(\n",
    "    model=\"gpt-3.5-turbo\",  # Or use \"gpt-4\" for higher-quality results\n",
    "    messages=[\n",
    "        {\"role\": \"system\", \"content\": \"You are a helpful assistant.\"},\n",
    "        {\"role\": \"user\", \"content\": \"The following data are the job description in the LinkedIn. Summarize the following job description with fluent sentences with the company name, job title, how many years of experience, skills needed.\"}    ],\n",
    "    max_tokens=100,\n",
    "    temperature=0.7\n",
    ")\n",
    "\n",
    "# Extract the result\n",
    "print(response[\"choices\"][0][\"message\"][\"content\"])\n"
   ]
  },
  {
   "cell_type": "code",
   "execution_count": 19,
   "metadata": {
    "execution": {
     "iopub.execute_input": "2024-11-19T05:45:36.729603Z",
     "iopub.status.busy": "2024-11-19T05:45:36.728990Z",
     "iopub.status.idle": "2024-11-19T05:50:37.659791Z",
     "shell.execute_reply": "2024-11-19T05:50:37.658693Z",
     "shell.execute_reply.started": "2024-11-19T05:45:36.729568Z"
    },
    "trusted": true
   },
   "outputs": [
    {
     "name": "stderr",
     "output_type": "stream",
     "text": [
      "100%|██████████| 200/200 [05:00<00:00,  1.50s/it]\n"
     ]
    },
    {
     "name": "stdout",
     "output_type": "stream",
     "text": [
      "                                         job_summary  \\\n",
      "0  Why Choose Jefferson Health Plans?\\nWe are an ...   \n",
      "1  Job Responsibilities:\\nDeployment / In-Scope C...   \n",
      "2  Success Factor knowledge\\nSchedule : Monday th...   \n",
      "3  Company Description\\nNBC Sports Next is where ...   \n",
      "4  National Grid Renewables is a leading North Am...   \n",
      "5  VCS\\nis looking for\\nBusiness Data Analyst\\nfo...   \n",
      "6  Contract to hire opportunity.\\nClient requirem...   \n",
      "7  Description\\nThe pay range is: $96,283.00 - $1...   \n",
      "8  We're utilizing modern technology to fresh con...   \n",
      "9  Description: The pay range is $92,000.00 - $16...   \n",
      "\n",
      "                                 job_summary_summary  \n",
      "0  Company: Jefferson Health Plans\\n\\nJob Title: ...  \n",
      "1  Company Name: Not specified\\nJob Title: IT Inf...  \n",
      "2  Company: Not Specified\\nJob Title: Data Manage...  \n",
      "3  Company: NBC Sports Next\\nJob Title: Data Engi...  \n",
      "4  Company: National Grid Renewables\\n\\nJob Title...  \n",
      "5  Vish Consulting Services (VCS) is seeking a Bu...  \n",
      "6  Company Name: Not mentioned\\nJob Title: Data A...  \n",
      "7  Company Name: Target Enterprise, Inc.\\nJob Tit...  \n",
      "8  Company Name: Deluxe Corporation\\nJob Title: D...  \n",
      "9  Company: Target\\nJob Title: Sr Data Scientist ...  \n"
     ]
    }
   ],
   "source": [
    "import openai\n",
    "import pandas as pd\n",
    "from tqdm import tqdm\n",
    "\n",
    "# Load your dataset\n",
    "df = pd.read_csv('/kaggle/input/data-scientist-linkedin-job-postings/postings.csv')\n",
    "\n",
    "# Clean the job_summary column (if not already cleaned)\n",
    "df['job_summary'] = df['job_summary'].fillna('')  # Replace NaN with empty strings\n",
    "\n",
    "# Set your OpenAI API key\n",
    "openai.api_key = \"SET YOUR OWN OPENAI KEY\"\n",
    "\n",
    "# Function to summarize job descriptions\n",
    "def summarize_job(job_description):\n",
    "    try:\n",
    "        response = openai.ChatCompletion.create(\n",
    "            model=\"gpt-3.5-turbo\",  # You can use \"gpt-4\" for better quality\n",
    "            messages=[\n",
    "                {\"role\": \"system\", \"content\": \"The following data are the job description in the LinkedIn. Summarize the following job description with fluent sentences with the company name, job title, how many years of experience, skills needed.\"},\n",
    "                {\"role\": \"user\", \"content\": f\"Summarize this job description: {job_description}\"}\n",
    "            ],\n",
    "            max_tokens=100,\n",
    "            temperature=0.7\n",
    "        )\n",
    "        return response[\"choices\"][0][\"message\"][\"content\"]\n",
    "    except Exception as e:\n",
    "        print(f\"Error summarizing job description: {e}\")\n",
    "        return None\n",
    "from tqdm import tqdm\n",
    "\n",
    "# Apply the summarization function to only the first 200 rows\n",
    "tqdm.pandas()  # Progress bar for long operations\n",
    "df.loc[:199, 'job_summary_summary'] = df.loc[:199, 'job_summary'].progress_apply(summarize_job)\n",
    "\n",
    "# Save the DataFrame with the summaries\n",
    "df.to_csv(\"summarized_job_descriptions.csv\", index=False)\n",
    "\n",
    "# Preview the resulting DataFrame\n",
    "print(df[['job_summary', 'job_summary_summary']].head(10))  # Display the first 10 rows\n"
   ]
  },
  {
   "cell_type": "code",
   "execution_count": 24,
   "metadata": {
    "execution": {
     "iopub.execute_input": "2024-11-19T05:52:23.052495Z",
     "iopub.status.busy": "2024-11-19T05:52:23.051787Z",
     "iopub.status.idle": "2024-11-19T05:52:23.059320Z",
     "shell.execute_reply": "2024-11-19T05:52:23.058438Z",
     "shell.execute_reply.started": "2024-11-19T05:52:23.052443Z"
    },
    "trusted": true
   },
   "outputs": [
    {
     "data": {
      "text/plain": [
       "0      Company: Jefferson Health Plans\\n\\nJob Title: ...\n",
       "1      Company Name: Not specified\\nJob Title: IT Inf...\n",
       "2      Company: Not Specified\\nJob Title: Data Manage...\n",
       "3      Company: NBC Sports Next\\nJob Title: Data Engi...\n",
       "4      Company: National Grid Renewables\\n\\nJob Title...\n",
       "                             ...                        \n",
       "195    Company: Grammarly\\nJob Title: Data Engineer\\n...\n",
       "196    Company: Northrop Grumman\\nJob Title: Principa...\n",
       "197    Company: Leading financial services corporatio...\n",
       "198    The job is for a DataStage Developer position ...\n",
       "199    Company: Raas Infotek Corporation  \\nJob Title...\n",
       "Name: job_summary_summary, Length: 200, dtype: object"
      ]
     },
     "execution_count": 24,
     "metadata": {},
     "output_type": "execute_result"
    }
   ],
   "source": [
    "df.job_summary_summary[0:200]"
   ]
  },
  {
   "cell_type": "code",
   "execution_count": null,
   "metadata": {
    "trusted": true
   },
   "outputs": [],
   "source": [
    "from sklearn.feature_extraction.text import TfidfVectorizer\n",
    "from sklearn.metrics.pairwise import cosine_similarity\n",
    "import pandas as pd\n",
    "\n",
    "# Create a TF-IDF vectorizer\n",
    "vectorizer = TfidfVectorizer()\n",
    "\n",
    "# Fit and transform the original and summarized text\n",
    "tfidf_matrix = vectorizer.fit_transform(df[\"job_summary\"].fillna(\"\") + df[\"summaries\"])\n",
    "\n",
    "# Calculate cosine similarity between original and summarized text\n",
    "cosine_scores = cosine_similarity(tfidf_matrix, tfidf_matrix)\n",
    "\n",
    "# Diagonal elements represent the self-similarity (original vs. summary)\n",
    "relevancy_scores = [cosine_scores[i, i] for i in range(len(df))]\n",
    "\n",
    "# Add relevancy scores to the dataset\n",
    "df[\"relevancy_score\"] = relevancy_scores\n",
    "\n",
    "# Preview dataset with relevancy scores\n",
    "print(df[[\"job_summary\", \"summaries\", \"relevancy_score\"]].head())"
   ]
  },
  {
   "cell_type": "code",
   "execution_count": 25,
   "metadata": {
    "execution": {
     "iopub.execute_input": "2024-11-19T05:54:57.926819Z",
     "iopub.status.busy": "2024-11-19T05:54:57.926438Z",
     "iopub.status.idle": "2024-11-19T05:54:59.865287Z",
     "shell.execute_reply": "2024-11-19T05:54:59.864260Z",
     "shell.execute_reply.started": "2024-11-19T05:54:57.926790Z"
    },
    "trusted": true
   },
   "outputs": [
    {
     "name": "stderr",
     "output_type": "stream",
     "text": [
      "/opt/conda/lib/python3.10/site-packages/transformers/tokenization_utils_base.py:1617: FutureWarning: `clean_up_tokenization_spaces` was not set. It will be set to `True` by default. This behavior will be deprecated in transformers v4.45, and will be then set to `False` by default. For more details check this issue: https://github.com/huggingface/transformers/issues/31884\n",
      "  warnings.warn(\n"
     ]
    },
    {
     "data": {
      "application/vnd.jupyter.widget-view+json": {
       "model_id": "23ed8db3310d4f47bb6cb1b3bfa95714",
       "version_major": 2,
       "version_minor": 0
      },
      "text/plain": [
       "Batches:   0%|          | 0/7 [00:00<?, ?it/s]"
      ]
     },
     "metadata": {},
     "output_type": "display_data"
    },
    {
     "data": {
      "application/vnd.jupyter.widget-view+json": {
       "model_id": "c77fde4500344b53a8a454e9de33a7eb",
       "version_major": 2,
       "version_minor": 0
      },
      "text/plain": [
       "Batches:   0%|          | 0/7 [00:00<?, ?it/s]"
      ]
     },
     "metadata": {},
     "output_type": "display_data"
    },
    {
     "name": "stdout",
     "output_type": "stream",
     "text": [
      "                                         job_summary  \\\n",
      "0  Why Choose Jefferson Health Plans?\\nWe are an ...   \n",
      "1  Job Responsibilities:\\nDeployment / In-Scope C...   \n",
      "2  Success Factor knowledge\\nSchedule : Monday th...   \n",
      "3  Company Description\\nNBC Sports Next is where ...   \n",
      "4  National Grid Renewables is a leading North Am...   \n",
      "5  VCS\\nis looking for\\nBusiness Data Analyst\\nfo...   \n",
      "6  Contract to hire opportunity.\\nClient requirem...   \n",
      "7  Description\\nThe pay range is: $96,283.00 - $1...   \n",
      "8  We're utilizing modern technology to fresh con...   \n",
      "9  Description: The pay range is $92,000.00 - $16...   \n",
      "\n",
      "                                 job_summary_summary  relevancy_score  \n",
      "0  Company: Jefferson Health Plans\\n\\nJob Title: ...         0.702362  \n",
      "1  Company Name: Not specified\\nJob Title: IT Inf...         0.505946  \n",
      "2  Company: Not Specified\\nJob Title: Data Manage...         0.739400  \n",
      "3  Company: NBC Sports Next\\nJob Title: Data Engi...         0.343409  \n",
      "4  Company: National Grid Renewables\\n\\nJob Title...         0.710166  \n",
      "5  Vish Consulting Services (VCS) is seeking a Bu...         0.750539  \n",
      "6  Company Name: Not mentioned\\nJob Title: Data A...         0.359293  \n",
      "7  Company Name: Target Enterprise, Inc.\\nJob Tit...         0.543058  \n",
      "8  Company Name: Deluxe Corporation\\nJob Title: D...         0.404944  \n",
      "9  Company: Target\\nJob Title: Sr Data Scientist ...         0.307120  \n"
     ]
    }
   ],
   "source": [
    "from sklearn.metrics.pairwise import cosine_similarity\n",
    "from sentence_transformers import SentenceTransformer\n",
    "import numpy as np\n",
    "\n",
    "# Load the embedding model\n",
    "model = SentenceTransformer('all-MiniLM-L6-v2')\n",
    "\n",
    "# Generate embeddings for original and summarized text\n",
    "original_embeddings = model.encode(df.loc[:199, 'job_summary'].fillna(''))\n",
    "summary_embeddings = model.encode(df.loc[:199, 'job_summary_summary'].fillna(''))\n",
    "\n",
    "# Calculate cosine similarity for each row\n",
    "cosine_similarities = [\n",
    "    cosine_similarity(\n",
    "        original_embeddings[i].reshape(1, -1),\n",
    "        summary_embeddings[i].reshape(1, -1)\n",
    "    )[0][0]\n",
    "    for i in range(len(original_embeddings))\n",
    "]\n",
    "\n",
    "# Add relevancy score to the DataFrame\n",
    "df.loc[:199, 'relevancy_score'] = cosine_similarities\n",
    "\n",
    "# Check results\n",
    "print(df[['job_summary', 'job_summary_summary', 'relevancy_score']].head(10))\n"
   ]
  },
  {
   "cell_type": "code",
   "execution_count": 27,
   "metadata": {
    "execution": {
     "iopub.execute_input": "2024-11-19T05:55:43.179935Z",
     "iopub.status.busy": "2024-11-19T05:55:43.178968Z",
     "iopub.status.idle": "2024-11-19T05:55:43.187641Z",
     "shell.execute_reply": "2024-11-19T05:55:43.186548Z",
     "shell.execute_reply.started": "2024-11-19T05:55:43.179888Z"
    },
    "trusted": true
   },
   "outputs": [
    {
     "data": {
      "text/plain": [
       "0.64468596175313"
      ]
     },
     "execution_count": 27,
     "metadata": {},
     "output_type": "execute_result"
    }
   ],
   "source": [
    "df.relevancy_score.mean()"
   ]
  },
  {
   "cell_type": "code",
   "execution_count": 31,
   "metadata": {
    "execution": {
     "iopub.execute_input": "2024-11-19T06:00:05.961427Z",
     "iopub.status.busy": "2024-11-19T06:00:05.961073Z",
     "iopub.status.idle": "2024-11-19T06:00:14.469942Z",
     "shell.execute_reply": "2024-11-19T06:00:14.468658Z",
     "shell.execute_reply.started": "2024-11-19T06:00:05.961396Z"
    },
    "trusted": true
   },
   "outputs": [
    {
     "name": "stderr",
     "output_type": "stream",
     "text": [
      "huggingface/tokenizers: The current process just got forked, after parallelism has already been used. Disabling parallelism to avoid deadlocks...\n",
      "To disable this warning, you can either:\n",
      "\t- Avoid using `tokenizers` before the fork if possible\n",
      "\t- Explicitly set the environment variable TOKENIZERS_PARALLELISM=(true | false)\n"
     ]
    },
    {
     "name": "stdout",
     "output_type": "stream",
     "text": [
      "Collecting Rouge\n",
      "  Downloading rouge-1.0.1-py3-none-any.whl.metadata (4.1 kB)\n",
      "Requirement already satisfied: six in /opt/conda/lib/python3.10/site-packages (from Rouge) (1.16.0)\n",
      "Downloading rouge-1.0.1-py3-none-any.whl (13 kB)\n",
      "Installing collected packages: Rouge\n",
      "Successfully installed Rouge-1.0.1\n",
      "Note: you may need to restart the kernel to use updated packages.\n"
     ]
    }
   ],
   "source": [
    "pip install Rouge"
   ]
  },
  {
   "cell_type": "code",
   "execution_count": 32,
   "metadata": {
    "execution": {
     "iopub.execute_input": "2024-11-19T06:00:17.850271Z",
     "iopub.status.busy": "2024-11-19T06:00:17.849907Z",
     "iopub.status.idle": "2024-11-19T06:00:23.221456Z",
     "shell.execute_reply": "2024-11-19T06:00:23.220527Z",
     "shell.execute_reply.started": "2024-11-19T06:00:17.850231Z"
    },
    "trusted": true
   },
   "outputs": [
    {
     "name": "stdout",
     "output_type": "stream",
     "text": [
      "                                         job_summary  \\\n",
      "0  Why Choose Jefferson Health Plans?\\nWe are an ...   \n",
      "1  Job Responsibilities:\\nDeployment / In-Scope C...   \n",
      "2  Success Factor knowledge\\nSchedule : Monday th...   \n",
      "3  Company Description\\nNBC Sports Next is where ...   \n",
      "4  National Grid Renewables is a leading North Am...   \n",
      "5  VCS\\nis looking for\\nBusiness Data Analyst\\nfo...   \n",
      "6  Contract to hire opportunity.\\nClient requirem...   \n",
      "7  Description\\nThe pay range is: $96,283.00 - $1...   \n",
      "8  We're utilizing modern technology to fresh con...   \n",
      "9  Description: The pay range is $92,000.00 - $16...   \n",
      "\n",
      "                                 job_summary_summary  relevancy_score  \\\n",
      "0  Company: Jefferson Health Plans\\n\\nJob Title: ...         0.702362   \n",
      "1  Company Name: Not specified\\nJob Title: IT Inf...         0.505946   \n",
      "2  Company: Not Specified\\nJob Title: Data Manage...         0.739400   \n",
      "3  Company: NBC Sports Next\\nJob Title: Data Engi...         0.343409   \n",
      "4  Company: National Grid Renewables\\n\\nJob Title...         0.710166   \n",
      "5  Vish Consulting Services (VCS) is seeking a Bu...         0.750539   \n",
      "6  Company Name: Not mentioned\\nJob Title: Data A...         0.359293   \n",
      "7  Company Name: Target Enterprise, Inc.\\nJob Tit...         0.543058   \n",
      "8  Company Name: Deluxe Corporation\\nJob Title: D...         0.404944   \n",
      "9  Company: Target\\nJob Title: Sr Data Scientist ...         0.307120   \n",
      "\n",
      "   rouge_score  \n",
      "0     0.242424  \n",
      "1     0.138728  \n",
      "2     0.338235  \n",
      "3     0.163355  \n",
      "4     0.317690  \n",
      "5     0.400000  \n",
      "6     0.221477  \n",
      "7     0.208617  \n",
      "8     0.184143  \n",
      "9     0.152700  \n"
     ]
    }
   ],
   "source": [
    "from rouge import Rouge\n",
    "import pandas as pd\n",
    "\n",
    "# Initialize the ROUGE scorer\n",
    "rouge = Rouge()\n",
    "\n",
    "# Function to calculate ROUGE score\n",
    "def calculate_rouge(row):\n",
    "    if pd.isna(row['job_summary']) or pd.isna(row['job_summary_summary']):\n",
    "        return 0  # Return 0 if any text is missing\n",
    "    scores = rouge.get_scores(row['job_summary_summary'], row['job_summary'])\n",
    "    # Use ROUGE-1 F1 score as relevancy score (you can also use recall or precision)\n",
    "    return scores[0]['rouge-1']['f']\n",
    "\n",
    "# Apply ROUGE score calculation to the first 200 rows\n",
    "df.loc[:199, 'rouge_score'] = df.loc[:199].apply(calculate_rouge, axis=1)\n",
    "\n",
    "# Check the results\n",
    "print(df[['job_summary', 'job_summary_summary', 'relevancy_score','rouge_score']].head(10))\n"
   ]
  },
  {
   "cell_type": "code",
   "execution_count": 34,
   "metadata": {
    "execution": {
     "iopub.execute_input": "2024-11-19T06:00:55.645069Z",
     "iopub.status.busy": "2024-11-19T06:00:55.644725Z",
     "iopub.status.idle": "2024-11-19T06:00:55.651937Z",
     "shell.execute_reply": "2024-11-19T06:00:55.651079Z",
     "shell.execute_reply.started": "2024-11-19T06:00:55.645038Z"
    },
    "trusted": true
   },
   "outputs": [
    {
     "data": {
      "text/plain": [
       "0.23328048113713729"
      ]
     },
     "execution_count": 34,
     "metadata": {},
     "output_type": "execute_result"
    }
   ],
   "source": [
    "df['rouge_score'].mean()"
   ]
  },
  {
   "cell_type": "code",
   "execution_count": 38,
   "metadata": {
    "execution": {
     "iopub.execute_input": "2024-11-19T06:23:33.361689Z",
     "iopub.status.busy": "2024-11-19T06:23:33.361290Z",
     "iopub.status.idle": "2024-11-19T06:23:33.380172Z",
     "shell.execute_reply": "2024-11-19T06:23:33.379017Z",
     "shell.execute_reply.started": "2024-11-19T06:23:33.361655Z"
    },
    "trusted": true
   },
   "outputs": [
    {
     "data": {
      "text/html": [
       "<div>\n",
       "<style scoped>\n",
       "    .dataframe tbody tr th:only-of-type {\n",
       "        vertical-align: middle;\n",
       "    }\n",
       "\n",
       "    .dataframe tbody tr th {\n",
       "        vertical-align: top;\n",
       "    }\n",
       "\n",
       "    .dataframe thead th {\n",
       "        text-align: right;\n",
       "    }\n",
       "</style>\n",
       "<table border=\"1\" class=\"dataframe\">\n",
       "  <thead>\n",
       "    <tr style=\"text-align: right;\">\n",
       "      <th></th>\n",
       "      <th>job_title</th>\n",
       "      <th>company</th>\n",
       "      <th>job_location</th>\n",
       "      <th>job_link</th>\n",
       "      <th>first_seen</th>\n",
       "      <th>search_city</th>\n",
       "      <th>search_country</th>\n",
       "      <th>job level</th>\n",
       "      <th>job_type</th>\n",
       "      <th>job_summary</th>\n",
       "      <th>job_skills</th>\n",
       "      <th>job_summary_summary</th>\n",
       "      <th>relevancy_score</th>\n",
       "      <th>rouge_score</th>\n",
       "    </tr>\n",
       "  </thead>\n",
       "  <tbody>\n",
       "    <tr>\n",
       "      <th>0</th>\n",
       "      <td>Technical Data Analyst</td>\n",
       "      <td>Jefferson Health Plans</td>\n",
       "      <td>Philadelphia, PA</td>\n",
       "      <td>https://www.linkedin.com/jobs/view/technical-d...</td>\n",
       "      <td>2023-12-20</td>\n",
       "      <td>Phoenixville</td>\n",
       "      <td>United States</td>\n",
       "      <td>Associate</td>\n",
       "      <td>Remote</td>\n",
       "      <td>Why Choose Jefferson Health Plans?\\nWe are an ...</td>\n",
       "      <td>KNIME, QlikView, SQL, MS Access, MS Excel, Log...</td>\n",
       "      <td>Company: Jefferson Health Plans\\n\\nJob Title: ...</td>\n",
       "      <td>0.702362</td>\n",
       "      <td>0.242424</td>\n",
       "    </tr>\n",
       "    <tr>\n",
       "      <th>1</th>\n",
       "      <td>Data Center Engineer - Minneapolis</td>\n",
       "      <td>DeRisk Technologies</td>\n",
       "      <td>Minneapolis, MN</td>\n",
       "      <td>https://www.linkedin.com/jobs/view/data-center...</td>\n",
       "      <td>2023-12-20</td>\n",
       "      <td>Minneapolis</td>\n",
       "      <td>United States</td>\n",
       "      <td>Associate</td>\n",
       "      <td>Onsite</td>\n",
       "      <td>Job Responsibilities:\\nDeployment / In-Scope C...</td>\n",
       "      <td>Server, Storage, Backup, Networking, Virtualiz...</td>\n",
       "      <td>Company Name: Not specified\\nJob Title: IT Inf...</td>\n",
       "      <td>0.505946</td>\n",
       "      <td>0.138728</td>\n",
       "    </tr>\n",
       "    <tr>\n",
       "      <th>2</th>\n",
       "      <td>Data Analyst</td>\n",
       "      <td>Avani Tech Solutions Private Limited</td>\n",
       "      <td>Minneapolis, MN</td>\n",
       "      <td>https://www.linkedin.com/jobs/view/data-analys...</td>\n",
       "      <td>2023-12-20</td>\n",
       "      <td>Minneapolis</td>\n",
       "      <td>United States</td>\n",
       "      <td>Associate</td>\n",
       "      <td>Onsite</td>\n",
       "      <td>Success Factor knowledge\\nSchedule : Monday th...</td>\n",
       "      <td>Data Management, HR Data Retention Controls, C...</td>\n",
       "      <td>Company: Not Specified\\nJob Title: Data Manage...</td>\n",
       "      <td>0.739400</td>\n",
       "      <td>0.338235</td>\n",
       "    </tr>\n",
       "    <tr>\n",
       "      <th>3</th>\n",
       "      <td>Data Engineer II - NBC Sports Next</td>\n",
       "      <td>NBC Sports Next</td>\n",
       "      <td>Minneapolis, MN</td>\n",
       "      <td>https://www.linkedin.com/jobs/view/data-engine...</td>\n",
       "      <td>2023-12-20</td>\n",
       "      <td>Minneapolis</td>\n",
       "      <td>United States</td>\n",
       "      <td>Associate</td>\n",
       "      <td>Remote</td>\n",
       "      <td>Company Description\\nNBC Sports Next is where ...</td>\n",
       "      <td>Data Engineering, Data Warehousing, SQL, MySQL...</td>\n",
       "      <td>Company: NBC Sports Next\\nJob Title: Data Engi...</td>\n",
       "      <td>0.343409</td>\n",
       "      <td>0.163355</td>\n",
       "    </tr>\n",
       "    <tr>\n",
       "      <th>4</th>\n",
       "      <td>Data Analyst - Operational Assessment</td>\n",
       "      <td>National Grid Renewables</td>\n",
       "      <td>Bloomington, MN</td>\n",
       "      <td>https://www.linkedin.com/jobs/view/data-analys...</td>\n",
       "      <td>2023-12-20</td>\n",
       "      <td>Minneapolis</td>\n",
       "      <td>United States</td>\n",
       "      <td>Associate</td>\n",
       "      <td>Hybrid</td>\n",
       "      <td>National Grid Renewables is a leading North Am...</td>\n",
       "      <td>Data Analyst, Operational Assessment, Wind Ene...</td>\n",
       "      <td>Company: National Grid Renewables\\n\\nJob Title...</td>\n",
       "      <td>0.710166</td>\n",
       "      <td>0.317690</td>\n",
       "    </tr>\n",
       "    <tr>\n",
       "      <th>...</th>\n",
       "      <td>...</td>\n",
       "      <td>...</td>\n",
       "      <td>...</td>\n",
       "      <td>...</td>\n",
       "      <td>...</td>\n",
       "      <td>...</td>\n",
       "      <td>...</td>\n",
       "      <td>...</td>\n",
       "      <td>...</td>\n",
       "      <td>...</td>\n",
       "      <td>...</td>\n",
       "      <td>...</td>\n",
       "      <td>...</td>\n",
       "      <td>...</td>\n",
       "    </tr>\n",
       "    <tr>\n",
       "      <th>4337</th>\n",
       "      <td>Data Science &amp; Analytics Consultant</td>\n",
       "      <td>ADLIB Recruitment | B Corp™</td>\n",
       "      <td>Bristol, England, United Kingdom</td>\n",
       "      <td>https://uk.linkedin.com/jobs/view/data-science...</td>\n",
       "      <td>2023-12-20</td>\n",
       "      <td>Newport</td>\n",
       "      <td>United Kingdom</td>\n",
       "      <td>Mid senior</td>\n",
       "      <td>Onsite</td>\n",
       "      <td>Grow your career at a successful, Bristol base...</td>\n",
       "      <td>Data analytics, Data science, SQL, Python, Tab...</td>\n",
       "      <td>NaN</td>\n",
       "      <td>NaN</td>\n",
       "      <td>NaN</td>\n",
       "    </tr>\n",
       "    <tr>\n",
       "      <th>4338</th>\n",
       "      <td>Senior Data Scientist</td>\n",
       "      <td>Harnham</td>\n",
       "      <td>Bristol, England, United Kingdom</td>\n",
       "      <td>https://uk.linkedin.com/jobs/view/senior-data-...</td>\n",
       "      <td>2023-12-20</td>\n",
       "      <td>Newport</td>\n",
       "      <td>United Kingdom</td>\n",
       "      <td>Mid senior</td>\n",
       "      <td>Onsite</td>\n",
       "      <td>To Apply for this Job Click Here\\nSENIOR DATA ...</td>\n",
       "      <td>Data Science, Machine Learning, Python, R, Sta...</td>\n",
       "      <td>NaN</td>\n",
       "      <td>NaN</td>\n",
       "      <td>NaN</td>\n",
       "    </tr>\n",
       "    <tr>\n",
       "      <th>4339</th>\n",
       "      <td>Associate/Principal Mechanical Engineer - Data...</td>\n",
       "      <td>Hydrock</td>\n",
       "      <td>Bristol, England, United Kingdom</td>\n",
       "      <td>https://uk.linkedin.com/jobs/view/associate-pr...</td>\n",
       "      <td>2023-12-20</td>\n",
       "      <td>Newport</td>\n",
       "      <td>United Kingdom</td>\n",
       "      <td>Mid senior</td>\n",
       "      <td>Onsite</td>\n",
       "      <td>Job Advert\\nWe have a fantastic opportunity fo...</td>\n",
       "      <td>Mechanical Engineering, Data Centre Design, Pr...</td>\n",
       "      <td>NaN</td>\n",
       "      <td>NaN</td>\n",
       "      <td>NaN</td>\n",
       "    </tr>\n",
       "    <tr>\n",
       "      <th>4340</th>\n",
       "      <td>Senior Data Scientist</td>\n",
       "      <td>Robert Half</td>\n",
       "      <td>Bristol, England, United Kingdom</td>\n",
       "      <td>https://uk.linkedin.com/jobs/view/senior-data-...</td>\n",
       "      <td>2023-12-20</td>\n",
       "      <td>Newport</td>\n",
       "      <td>United Kingdom</td>\n",
       "      <td>Mid senior</td>\n",
       "      <td>Hybrid</td>\n",
       "      <td>Robert Half partners exclusively with Envelop ...</td>\n",
       "      <td>Python, SQL, Tableau, Power BI, GCP, AWS, Azur...</td>\n",
       "      <td>NaN</td>\n",
       "      <td>NaN</td>\n",
       "      <td>NaN</td>\n",
       "    </tr>\n",
       "    <tr>\n",
       "      <th>4341</th>\n",
       "      <td>Customer Service Representative/Data Analyst/D...</td>\n",
       "      <td>Bluebeacontruckwash</td>\n",
       "      <td>Medicine Hat, Alberta, Canada</td>\n",
       "      <td>https://ca.linkedin.com/jobs/view/customer-ser...</td>\n",
       "      <td>2023-12-20</td>\n",
       "      <td>Medicine Hat</td>\n",
       "      <td>Canada</td>\n",
       "      <td>Mid senior</td>\n",
       "      <td>Onsite</td>\n",
       "      <td>Summary:\\nThe Data Analyst will be responsible...</td>\n",
       "      <td>Data Analysis, Statistical Analysis, Data Visu...</td>\n",
       "      <td>NaN</td>\n",
       "      <td>NaN</td>\n",
       "      <td>NaN</td>\n",
       "    </tr>\n",
       "  </tbody>\n",
       "</table>\n",
       "<p>4342 rows × 14 columns</p>\n",
       "</div>"
      ],
      "text/plain": [
       "                                              job_title  \\\n",
       "0                                Technical Data Analyst   \n",
       "1                    Data Center Engineer - Minneapolis   \n",
       "2                                          Data Analyst   \n",
       "3                    Data Engineer II - NBC Sports Next   \n",
       "4                 Data Analyst - Operational Assessment   \n",
       "...                                                 ...   \n",
       "4337                Data Science & Analytics Consultant   \n",
       "4338                              Senior Data Scientist   \n",
       "4339  Associate/Principal Mechanical Engineer - Data...   \n",
       "4340                              Senior Data Scientist   \n",
       "4341  Customer Service Representative/Data Analyst/D...   \n",
       "\n",
       "                                   company                      job_location  \\\n",
       "0                   Jefferson Health Plans                  Philadelphia, PA   \n",
       "1                      DeRisk Technologies                   Minneapolis, MN   \n",
       "2     Avani Tech Solutions Private Limited                   Minneapolis, MN   \n",
       "3                          NBC Sports Next                   Minneapolis, MN   \n",
       "4                 National Grid Renewables                   Bloomington, MN   \n",
       "...                                    ...                               ...   \n",
       "4337           ADLIB Recruitment | B Corp™  Bristol, England, United Kingdom   \n",
       "4338                               Harnham  Bristol, England, United Kingdom   \n",
       "4339                               Hydrock  Bristol, England, United Kingdom   \n",
       "4340                           Robert Half  Bristol, England, United Kingdom   \n",
       "4341                   Bluebeacontruckwash     Medicine Hat, Alberta, Canada   \n",
       "\n",
       "                                               job_link  first_seen  \\\n",
       "0     https://www.linkedin.com/jobs/view/technical-d...  2023-12-20   \n",
       "1     https://www.linkedin.com/jobs/view/data-center...  2023-12-20   \n",
       "2     https://www.linkedin.com/jobs/view/data-analys...  2023-12-20   \n",
       "3     https://www.linkedin.com/jobs/view/data-engine...  2023-12-20   \n",
       "4     https://www.linkedin.com/jobs/view/data-analys...  2023-12-20   \n",
       "...                                                 ...         ...   \n",
       "4337  https://uk.linkedin.com/jobs/view/data-science...  2023-12-20   \n",
       "4338  https://uk.linkedin.com/jobs/view/senior-data-...  2023-12-20   \n",
       "4339  https://uk.linkedin.com/jobs/view/associate-pr...  2023-12-20   \n",
       "4340  https://uk.linkedin.com/jobs/view/senior-data-...  2023-12-20   \n",
       "4341  https://ca.linkedin.com/jobs/view/customer-ser...  2023-12-20   \n",
       "\n",
       "       search_city  search_country   job level job_type  \\\n",
       "0     Phoenixville   United States   Associate   Remote   \n",
       "1      Minneapolis   United States   Associate   Onsite   \n",
       "2      Minneapolis   United States   Associate   Onsite   \n",
       "3      Minneapolis   United States   Associate   Remote   \n",
       "4      Minneapolis   United States   Associate   Hybrid   \n",
       "...            ...             ...         ...      ...   \n",
       "4337       Newport  United Kingdom  Mid senior   Onsite   \n",
       "4338       Newport  United Kingdom  Mid senior   Onsite   \n",
       "4339       Newport  United Kingdom  Mid senior   Onsite   \n",
       "4340       Newport  United Kingdom  Mid senior   Hybrid   \n",
       "4341  Medicine Hat          Canada  Mid senior   Onsite   \n",
       "\n",
       "                                            job_summary  \\\n",
       "0     Why Choose Jefferson Health Plans?\\nWe are an ...   \n",
       "1     Job Responsibilities:\\nDeployment / In-Scope C...   \n",
       "2     Success Factor knowledge\\nSchedule : Monday th...   \n",
       "3     Company Description\\nNBC Sports Next is where ...   \n",
       "4     National Grid Renewables is a leading North Am...   \n",
       "...                                                 ...   \n",
       "4337  Grow your career at a successful, Bristol base...   \n",
       "4338  To Apply for this Job Click Here\\nSENIOR DATA ...   \n",
       "4339  Job Advert\\nWe have a fantastic opportunity fo...   \n",
       "4340  Robert Half partners exclusively with Envelop ...   \n",
       "4341  Summary:\\nThe Data Analyst will be responsible...   \n",
       "\n",
       "                                             job_skills  \\\n",
       "0     KNIME, QlikView, SQL, MS Access, MS Excel, Log...   \n",
       "1     Server, Storage, Backup, Networking, Virtualiz...   \n",
       "2     Data Management, HR Data Retention Controls, C...   \n",
       "3     Data Engineering, Data Warehousing, SQL, MySQL...   \n",
       "4     Data Analyst, Operational Assessment, Wind Ene...   \n",
       "...                                                 ...   \n",
       "4337  Data analytics, Data science, SQL, Python, Tab...   \n",
       "4338  Data Science, Machine Learning, Python, R, Sta...   \n",
       "4339  Mechanical Engineering, Data Centre Design, Pr...   \n",
       "4340  Python, SQL, Tableau, Power BI, GCP, AWS, Azur...   \n",
       "4341  Data Analysis, Statistical Analysis, Data Visu...   \n",
       "\n",
       "                                    job_summary_summary  relevancy_score  \\\n",
       "0     Company: Jefferson Health Plans\\n\\nJob Title: ...         0.702362   \n",
       "1     Company Name: Not specified\\nJob Title: IT Inf...         0.505946   \n",
       "2     Company: Not Specified\\nJob Title: Data Manage...         0.739400   \n",
       "3     Company: NBC Sports Next\\nJob Title: Data Engi...         0.343409   \n",
       "4     Company: National Grid Renewables\\n\\nJob Title...         0.710166   \n",
       "...                                                 ...              ...   \n",
       "4337                                                NaN              NaN   \n",
       "4338                                                NaN              NaN   \n",
       "4339                                                NaN              NaN   \n",
       "4340                                                NaN              NaN   \n",
       "4341                                                NaN              NaN   \n",
       "\n",
       "      rouge_score  \n",
       "0        0.242424  \n",
       "1        0.138728  \n",
       "2        0.338235  \n",
       "3        0.163355  \n",
       "4        0.317690  \n",
       "...           ...  \n",
       "4337          NaN  \n",
       "4338          NaN  \n",
       "4339          NaN  \n",
       "4340          NaN  \n",
       "4341          NaN  \n",
       "\n",
       "[4342 rows x 14 columns]"
      ]
     },
     "execution_count": 38,
     "metadata": {},
     "output_type": "execute_result"
    }
   ],
   "source": [
    "df"
   ]
  },
  {
   "cell_type": "code",
   "execution_count": 39,
   "metadata": {
    "execution": {
     "iopub.execute_input": "2024-11-19T06:23:46.921713Z",
     "iopub.status.busy": "2024-11-19T06:23:46.921349Z",
     "iopub.status.idle": "2024-11-19T06:23:47.420859Z",
     "shell.execute_reply": "2024-11-19T06:23:47.420070Z",
     "shell.execute_reply.started": "2024-11-19T06:23:46.921683Z"
    },
    "trusted": true
   },
   "outputs": [],
   "source": [
    "df.to_csv(\"summarized_job_descriptions_1.csv\", index=False)"
   ]
  },
  {
   "cell_type": "code",
   "execution_count": 37,
   "metadata": {
    "execution": {
     "iopub.execute_input": "2024-11-19T06:19:05.712460Z",
     "iopub.status.busy": "2024-11-19T06:19:05.711601Z",
     "iopub.status.idle": "2024-11-19T06:19:07.093634Z",
     "shell.execute_reply": "2024-11-19T06:19:07.092735Z",
     "shell.execute_reply.started": "2024-11-19T06:19:05.712424Z"
    },
    "trusted": true
   },
   "outputs": [
    {
     "name": "stdout",
     "output_type": "stream",
     "text": [
      "Company: CARIAD, automotive software development team within the Volkswagen Group.\n",
      "\n",
      "Job Title: Digital Software Engineer.\n",
      "\n",
      "Experience: Not specified in the job description.\n",
      "\n",
      "Skills needed: The ideal candidate should possess talent and digital skills to create innovative code for the automotive industry. They should have a strong background in software development and be passionate about creating outstanding digital experiences and products. Additionally, the candidate should have the ability to work collaboratively in a team to shape the future of mobility.\n"
     ]
    }
   ],
   "source": [
    "job_1 = \"We are CARIAD, an automotive software development team with the Volkswagen Group. Our mission is to make the automotive experience safer, more sustainable, more comfortable, more digital, and more fun. To achieve that we are building the leading tech stack for the automotive industry and creating a unified software platform for over 10 million new vehicles per year. We’re looking for talented, digital minds like you to help us create code that moves the world. Together with you, we’ll build outstanding digital experiences and products for all Volkswagen Group brands that will transform mobility. Join us as we shape the future of the car and everyone around it.\"\n",
    "test1 = summarize_job(job_1)\n",
    "print(test1)"
   ]
  },
  {
   "cell_type": "code",
   "execution_count": null,
   "metadata": {},
   "outputs": [],
   "source": [
    "import pandas as pd\n",
    "df1 = pd.read_csv(\"summarized_job_descriptions_1.csv\")\n",
    "df1"
   ]
  },
  {
   "cell_type": "code",
   "execution_count": 2,
   "metadata": {},
   "outputs": [
    {
     "name": "stdout",
     "output_type": "stream",
     "text": [
      "\u001b[33mWARNING: Skipping /opt/anaconda3/lib/python3.11/site-packages/nlopt-2.7.1.dist-info due to invalid metadata entry 'name'\u001b[0m\u001b[33m\n",
      "\u001b[0mCollecting rouge-score\n",
      "  Downloading rouge_score-0.1.2.tar.gz (17 kB)\n",
      "  Preparing metadata (setup.py) ... \u001b[?25ldone\n",
      "\u001b[?25hRequirement already satisfied: absl-py in /opt/anaconda3/lib/python3.11/site-packages (from rouge-score) (2.1.0)\n",
      "Requirement already satisfied: nltk in /opt/anaconda3/lib/python3.11/site-packages (from rouge-score) (3.8.1)\n",
      "Requirement already satisfied: numpy in /opt/anaconda3/lib/python3.11/site-packages (from rouge-score) (1.26.4)\n",
      "Requirement already satisfied: six>=1.14.0 in /opt/anaconda3/lib/python3.11/site-packages (from rouge-score) (1.16.0)\n",
      "Requirement already satisfied: click in /opt/anaconda3/lib/python3.11/site-packages (from nltk->rouge-score) (8.1.7)\n",
      "Requirement already satisfied: joblib in /opt/anaconda3/lib/python3.11/site-packages (from nltk->rouge-score) (1.2.0)\n",
      "Requirement already satisfied: regex>=2021.8.3 in /opt/anaconda3/lib/python3.11/site-packages (from nltk->rouge-score) (2023.10.3)\n",
      "Requirement already satisfied: tqdm in /opt/anaconda3/lib/python3.11/site-packages (from nltk->rouge-score) (4.66.5)\n",
      "Building wheels for collected packages: rouge-score\n",
      "  Building wheel for rouge-score (setup.py) ... \u001b[?25ldone\n",
      "\u001b[?25h  Created wheel for rouge-score: filename=rouge_score-0.1.2-py3-none-any.whl size=24932 sha256=2d4d10b716dca46f9b55b6485dec03746b616f7e1933db04f7635149f56c96d8\n",
      "  Stored in directory: /Users/yixie/Library/Caches/pip/wheels/1e/19/43/8a442dc83660ca25e163e1bd1f89919284ab0d0c1475475148\n",
      "Successfully built rouge-score\n",
      "\u001b[33mWARNING: Skipping /opt/anaconda3/lib/python3.11/site-packages/nlopt-2.7.1.dist-info due to invalid metadata entry 'name'\u001b[0m\u001b[33m\n",
      "\u001b[0mInstalling collected packages: rouge-score\n",
      "Successfully installed rouge-score-0.1.2\n",
      "Note: you may need to restart the kernel to use updated packages.\n"
     ]
    }
   ],
   "source": [
    "pip install rouge-score\n"
   ]
  },
  {
   "cell_type": "code",
   "execution_count": 5,
   "metadata": {},
   "outputs": [
    {
     "name": "stdout",
     "output_type": "stream",
     "text": [
      "                                         job_summary  \\\n",
      "0  Why Choose Jefferson Health Plans?\\nWe are an ...   \n",
      "1  Job Responsibilities:\\nDeployment / In-Scope C...   \n",
      "2  Success Factor knowledge\\nSchedule : Monday th...   \n",
      "3  Company Description\\nNBC Sports Next is where ...   \n",
      "4  National Grid Renewables is a leading North Am...   \n",
      "5  VCS\\nis looking for\\nBusiness Data Analyst\\nfo...   \n",
      "6  Contract to hire opportunity.\\nClient requirem...   \n",
      "7  Description\\nThe pay range is: $96,283.00 - $1...   \n",
      "8  We're utilizing modern technology to fresh con...   \n",
      "9  Description: The pay range is $92,000.00 - $16...   \n",
      "\n",
      "                                 job_summary_summary    rouge1    rouge2  \\\n",
      "0  Company: Jefferson Health Plans\\n\\nJob Title: ...  0.222222  0.192366   \n",
      "1  Company Name: Not specified\\nJob Title: IT Inf...  0.248000  0.096386   \n",
      "2  Company: Not Specified\\nJob Title: Data Manage...  0.534759  0.345946   \n",
      "3  Company: NBC Sports Next\\nJob Title: Data Engi...  0.160622  0.116883   \n",
      "4  Company: National Grid Renewables\\n\\nJob Title...  0.296471  0.245863   \n",
      "5  Vish Consulting Services (VCS) is seeking a Bu...  0.500000  0.247863   \n",
      "6  Company Name: Not mentioned\\nJob Title: Data A...  0.286364  0.187215   \n",
      "7  Company Name: Target Enterprise, Inc.\\nJob Tit...  0.195051  0.137226   \n",
      "8  Company Name: Deluxe Corporation\\nJob Title: D...  0.216405  0.147110   \n",
      "9  Company: Target\\nJob Title: Sr Data Scientist ...  0.154672  0.096878   \n",
      "\n",
      "     rougeL  \n",
      "0  0.207002  \n",
      "1  0.136000  \n",
      "2  0.438503  \n",
      "3  0.147668  \n",
      "4  0.230588  \n",
      "5  0.364407  \n",
      "6  0.213636  \n",
      "7  0.139738  \n",
      "8  0.167539  \n",
      "9  0.133190  \n"
     ]
    }
   ],
   "source": [
    "from rouge_score import rouge_scorer\n",
    "import pandas as pd\n",
    "\n",
    "# Load your DataFrame (replace with your actual data if it's already loaded)\n",
    "df = pd.read_csv(\"/Users/yixie/Downloads/job_posting_withscore.csv\")\n",
    "\n",
    "# Define a function to compute ROUGE scores\n",
    "def compute_rouge(reference, candidate):\n",
    "    # Initialize ROUGE scorer\n",
    "    scorer = rouge_scorer.RougeScorer(['rouge1', 'rouge2', 'rougeL'], use_stemmer=True)\n",
    "    \n",
    "    # Calculate scores\n",
    "    scores = scorer.score(reference, candidate)\n",
    "    \n",
    "    # Extract and return the metrics\n",
    "    return {\n",
    "        \"rouge1\": scores[\"rouge1\"].fmeasure,\n",
    "        \"rouge2\": scores[\"rouge2\"].fmeasure,\n",
    "        \"rougeL\": scores[\"rougeL\"].fmeasure\n",
    "    }\n",
    "\n",
    "# Apply the function to calculate ROUGE scores for each row\n",
    "# Assuming 'job_summary' is the reference and 'job_summary_summary' is the generated text\n",
    "df['rouge_scores'] = df.apply(\n",
    "    lambda row: compute_rouge(row['job_summary'], row['job_summary_summary']),\n",
    "    axis=1\n",
    ")\n",
    "\n",
    "# Split the scores into separate columns for better readability\n",
    "df['rouge1'] = df['rouge_scores'].apply(lambda x: x['rouge1'])\n",
    "df['rouge2'] = df['rouge_scores'].apply(lambda x: x['rouge2'])\n",
    "df['rougeL'] = df['rouge_scores'].apply(lambda x: x['rougeL'])\n",
    "\n",
    "# Save the DataFrame with ROUGE scores\n",
    "df.to_csv(\"summarized_job_descriptions_with_rouge.csv\", index=False)\n",
    "\n",
    "# Preview the resulting DataFrame\n",
    "print(df[['job_summary', 'job_summary_summary', 'rouge1', 'rouge2', 'rougeL']].head(10))\n",
    "\n"
   ]
  },
  {
   "cell_type": "code",
   "execution_count": 6,
   "metadata": {},
   "outputs": [
    {
     "data": {
      "text/plain": [
       "0.24451879027821588"
      ]
     },
     "execution_count": 6,
     "metadata": {},
     "output_type": "execute_result"
    }
   ],
   "source": [
    "df.rouge1.mean()"
   ]
  },
  {
   "cell_type": "code",
   "execution_count": 7,
   "metadata": {},
   "outputs": [
    {
     "data": {
      "text/plain": [
       "0.16040370244996116"
      ]
     },
     "execution_count": 7,
     "metadata": {},
     "output_type": "execute_result"
    }
   ],
   "source": [
    "df.rouge2.mean()"
   ]
  },
  {
   "cell_type": "code",
   "execution_count": 9,
   "metadata": {},
   "outputs": [
    {
     "data": {
      "text/plain": [
       "0.19109079661598444"
      ]
     },
     "execution_count": 9,
     "metadata": {},
     "output_type": "execute_result"
    }
   ],
   "source": [
    "df.rougeL.mean()"
   ]
  },
  {
   "cell_type": "code",
   "execution_count": 15,
   "metadata": {},
   "outputs": [],
   "source": [
    "def calculate_rouge_scores(reference, candidate):\n",
    "    # Initialize the ROUGE scorer\n",
    "    scorer = rouge_scorer.RougeScorer(['rouge1', 'rougeL'], use_stemmer=True)\n",
    "    \n",
    "    # Calculate scores\n",
    "    scores = scorer.score(reference, candidate)\n",
    "    \n",
    "    # Return ROUGE-1 and ROUGE-L F1-scores\n",
    "    return {\n",
    "        \"rouge1_f1\": scores[\"rouge1\"].fmeasure,  # ROUGE-1 F1-score\n",
    "        \"rougeL_f1\": scores[\"rougeL\"].fmeasure  # ROUGE-L F1-score\n",
    "    }\n"
   ]
  },
  {
   "cell_type": "code",
   "execution_count": 16,
   "metadata": {},
   "outputs": [],
   "source": [
    "# Apply the ROUGE scoring function to the dataset\n",
    "df['rouge_scores'] = df.apply(\n",
    "    lambda row: calculate_rouge_scores(row['job_summary'], row['job_summary_summary']),\n",
    "    axis=1\n",
    ")\n",
    "\n",
    "# Extract ROUGE-1 and ROUGE-L F1-scores into separate columns\n",
    "df['rouge1_f1'] = df['rouge_scores'].apply(lambda x: x['rouge1_f1'])\n",
    "df['rougeL_f1'] = df['rouge_scores'].apply(lambda x: x['rougeL_f1'])\n"
   ]
  },
  {
   "cell_type": "code",
   "execution_count": 17,
   "metadata": {},
   "outputs": [
    {
     "name": "stdout",
     "output_type": "stream",
     "text": [
      "ROUGE-1 Mean F1: 0.24451879027821588\n",
      "ROUGE-Lsum Mean F1: 0.19109079661598444\n"
     ]
    }
   ],
   "source": [
    "# Calculate mean ROUGE scores\n",
    "rouge1_mean = df['rouge1_f1'].mean()\n",
    "rougeLsum_mean = df['rougeL_f1'].mean()\n",
    "\n",
    "# Print the mean scores\n",
    "print(f\"ROUGE-1 Mean F1: {rouge1_mean}\")\n",
    "print(f\"ROUGE-Lsum Mean F1: {rougeLsum_mean}\")\n"
   ]
  },
  {
   "cell_type": "code",
   "execution_count": 20,
   "metadata": {},
   "outputs": [
    {
     "name": "stderr",
     "output_type": "stream",
     "text": [
      "/opt/anaconda3/lib/python3.11/site-packages/seaborn/_oldcore.py:1119: FutureWarning: use_inf_as_na option is deprecated and will be removed in a future version. Convert inf values to NaN before operating instead.\n",
      "  with pd.option_context('mode.use_inf_as_na', True):\n"
     ]
    },
    {
     "data": {
      "image/png": "[encoded data removed]",
      "text/plain": [
       "<Figure size 1000x600 with 1 Axes>"
      ]
     },
     "metadata": {},
     "output_type": "display_data"
    }
   ],
   "source": [
    "import pandas as pd\n",
    "import matplotlib.pyplot as plt\n",
    "import seaborn as sns\n",
    "\n",
    "\n",
    "# Plot the distribution of 'rouge1_f1' column using a barplot\n",
    "plt.figure(figsize=(10, 6))\n",
    "sns.histplot(df['relevancy_score'], bins=20, kde=False, color='skyblue')  # Set bins for more granularity\n",
    "\n",
    "# Add labels and title\n",
    "plt.title(\"Distribution of Relevancy Scores\", fontsize=16)\n",
    "plt.xlabel(\"Relevacy Score\", fontsize=14)\n",
    "plt.ylabel(\"Frequency\", fontsize=14)\n",
    "\n",
    "# Show the plot\n",
    "plt.show()\n"
   ]
  }
 ],
 "metadata": {
  "kaggle": {
   "accelerator": "nvidiaTeslaT4",
   "dataSources": [
    {
     "datasetId": 4198043,
     "sourceId": 8736229,
     "sourceType": "datasetVersion"
    }
   ],
   "dockerImageVersionId": 30787,
   "isGpuEnabled": true,
   "isInternetEnabled": true,
   "language": "python",
   "sourceType": "notebook"
  },
  "kernelspec": {
   "display_name": "base",
   "language": "python",
   "name": "python3"
  },
  "language_info": {
   "codemirror_mode": {
    "name": "ipython",
    "version": 3
   },
   "file_extension": ".py",
   "mimetype": "text/x-python",
   "name": "python",
   "nbconvert_exporter": "python",
   "pygments_lexer": "ipython3",
   "version": "3.11.8"
  }
 },
 "nbformat": 4,
 "nbformat_minor": 4
}
