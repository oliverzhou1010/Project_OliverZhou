{
  "nbformat": 4,
  "nbformat_minor": 0,
  "metadata": {
    "colab": {
      "provenance": []
    },
    "kernelspec": {
      "name": "python3",
      "display_name": "Python 3"
    },
    "language_info": {
      "name": "python"
    }
  },
  "cells": [
    {
      "cell_type": "code",
      "execution_count": null,
      "metadata": {
        "id": "AImNlJXp-ce1"
      },
      "outputs": [],
      "source": [
        "import numpy as np\n",
        "from numpy import array\n",
        "import pandas as pd\n",
        "import matplotlib.pyplot as plt\n",
        "from matplotlib.pyplot import figure\n",
        "import os\n",
        "from sklearn.preprocessing import MinMaxScaler\n",
        "from sklearn.model_selection import train_test_split\n",
        "from sklearn.linear_model import LinearRegression\n",
        "\n",
        "from tensorflow.keras.models import Sequential\n",
        "from tensorflow.keras.layers import Dense, SimpleRNN\n",
        "from tensorflow.keras.layers import LSTM, Conv2D, Flatten\n",
        "\n",
        "import math\n",
        "from sklearn.metrics import mean_squared_error"
      ]
    },
    {
      "cell_type": "code",
      "source": [
        "from google.colab import drive\n",
        "drive.mount('/content/drive')\n",
        "gs = pd.read_csv('/content/drive/MyDrive/STATS 315 project/Goldman Sachs Stock.csv')\n",
        "gs"
      ],
      "metadata": {
        "colab": {
          "base_uri": "https://localhost:8080/",
          "height": 461
        },
        "id": "hsYeY7asmK63",
        "outputId": "152794c4-0449-4c74-b240-98edee691be1"
      },
      "execution_count": null,
      "outputs": [
        {
          "output_type": "stream",
          "name": "stdout",
          "text": [
            "Drive already mounted at /content/drive; to attempt to forcibly remount, call drive.mount(\"/content/drive\", force_remount=True).\n"
          ]
        },
        {
          "output_type": "execute_result",
          "data": {
            "text/plain": [
              "            Date        Open        High         Low       Close   Adj Close  \\\n",
              "0     1999-05-04   76.000000   77.250000   70.000000   70.375000   53.576797   \n",
              "1     1999-05-05   69.875000   69.875000   66.250000   69.125000   52.625153   \n",
              "2     1999-05-06   68.000000   69.375000   67.062500   67.937500   51.721100   \n",
              "3     1999-05-07   67.937500   74.875000   66.750000   74.125000   56.431648   \n",
              "4     1999-05-10   73.375000   73.500000   70.250000   70.687500   53.814709   \n",
              "...          ...         ...         ...         ...         ...         ...   \n",
              "5757  2022-03-18  338.869995  346.769989  337.299988  345.380005  345.380005   \n",
              "5758  2022-03-21  345.260010  346.299988  337.149994  339.000000  339.000000   \n",
              "5759  2022-03-22  342.200012  346.239990  340.119995  343.010010  343.010010   \n",
              "5760  2022-03-23  340.000000  340.829987  335.130005  335.609985  335.609985   \n",
              "5761  2022-03-24  336.440002  337.500000  334.299988  336.230011  336.230011   \n",
              "\n",
              "        Volume  \n",
              "0     22320900  \n",
              "1      7565700  \n",
              "2      2905700  \n",
              "3      4862300  \n",
              "4      2589400  \n",
              "...        ...  \n",
              "5757   5861100  \n",
              "5758   3401200  \n",
              "5759   2840200  \n",
              "5760   2196800  \n",
              "5761   1943600  \n",
              "\n",
              "[5762 rows x 7 columns]"
            ],
            "text/html": [
              "\n",
              "  <div id=\"df-785cad0c-824b-41ba-85d4-53bc670167b3\">\n",
              "    <div class=\"colab-df-container\">\n",
              "      <div>\n",
              "<style scoped>\n",
              "    .dataframe tbody tr th:only-of-type {\n",
              "        vertical-align: middle;\n",
              "    }\n",
              "\n",
              "    .dataframe tbody tr th {\n",
              "        vertical-align: top;\n",
              "    }\n",
              "\n",
              "    .dataframe thead th {\n",
              "        text-align: right;\n",
              "    }\n",
              "</style>\n",
              "<table border=\"1\" class=\"dataframe\">\n",
              "  <thead>\n",
              "    <tr style=\"text-align: right;\">\n",
              "      <th></th>\n",
              "      <th>Date</th>\n",
              "      <th>Open</th>\n",
              "      <th>High</th>\n",
              "      <th>Low</th>\n",
              "      <th>Close</th>\n",
              "      <th>Adj Close</th>\n",
              "      <th>Volume</th>\n",
              "    </tr>\n",
              "  </thead>\n",
              "  <tbody>\n",
              "    <tr>\n",
              "      <th>0</th>\n",
              "      <td>1999-05-04</td>\n",
              "      <td>76.000000</td>\n",
              "      <td>77.250000</td>\n",
              "      <td>70.000000</td>\n",
              "      <td>70.375000</td>\n",
              "      <td>53.576797</td>\n",
              "      <td>22320900</td>\n",
              "    </tr>\n",
              "    <tr>\n",
              "      <th>1</th>\n",
              "      <td>1999-05-05</td>\n",
              "      <td>69.875000</td>\n",
              "      <td>69.875000</td>\n",
              "      <td>66.250000</td>\n",
              "      <td>69.125000</td>\n",
              "      <td>52.625153</td>\n",
              "      <td>7565700</td>\n",
              "    </tr>\n",
              "    <tr>\n",
              "      <th>2</th>\n",
              "      <td>1999-05-06</td>\n",
              "      <td>68.000000</td>\n",
              "      <td>69.375000</td>\n",
              "      <td>67.062500</td>\n",
              "      <td>67.937500</td>\n",
              "      <td>51.721100</td>\n",
              "      <td>2905700</td>\n",
              "    </tr>\n",
              "    <tr>\n",
              "      <th>3</th>\n",
              "      <td>1999-05-07</td>\n",
              "      <td>67.937500</td>\n",
              "      <td>74.875000</td>\n",
              "      <td>66.750000</td>\n",
              "      <td>74.125000</td>\n",
              "      <td>56.431648</td>\n",
              "      <td>4862300</td>\n",
              "    </tr>\n",
              "    <tr>\n",
              "      <th>4</th>\n",
              "      <td>1999-05-10</td>\n",
              "      <td>73.375000</td>\n",
              "      <td>73.500000</td>\n",
              "      <td>70.250000</td>\n",
              "      <td>70.687500</td>\n",
              "      <td>53.814709</td>\n",
              "      <td>2589400</td>\n",
              "    </tr>\n",
              "    <tr>\n",
              "      <th>...</th>\n",
              "      <td>...</td>\n",
              "      <td>...</td>\n",
              "      <td>...</td>\n",
              "      <td>...</td>\n",
              "      <td>...</td>\n",
              "      <td>...</td>\n",
              "      <td>...</td>\n",
              "    </tr>\n",
              "    <tr>\n",
              "      <th>5757</th>\n",
              "      <td>2022-03-18</td>\n",
              "      <td>338.869995</td>\n",
              "      <td>346.769989</td>\n",
              "      <td>337.299988</td>\n",
              "      <td>345.380005</td>\n",
              "      <td>345.380005</td>\n",
              "      <td>5861100</td>\n",
              "    </tr>\n",
              "    <tr>\n",
              "      <th>5758</th>\n",
              "      <td>2022-03-21</td>\n",
              "      <td>345.260010</td>\n",
              "      <td>346.299988</td>\n",
              "      <td>337.149994</td>\n",
              "      <td>339.000000</td>\n",
              "      <td>339.000000</td>\n",
              "      <td>3401200</td>\n",
              "    </tr>\n",
              "    <tr>\n",
              "      <th>5759</th>\n",
              "      <td>2022-03-22</td>\n",
              "      <td>342.200012</td>\n",
              "      <td>346.239990</td>\n",
              "      <td>340.119995</td>\n",
              "      <td>343.010010</td>\n",
              "      <td>343.010010</td>\n",
              "      <td>2840200</td>\n",
              "    </tr>\n",
              "    <tr>\n",
              "      <th>5760</th>\n",
              "      <td>2022-03-23</td>\n",
              "      <td>340.000000</td>\n",
              "      <td>340.829987</td>\n",
              "      <td>335.130005</td>\n",
              "      <td>335.609985</td>\n",
              "      <td>335.609985</td>\n",
              "      <td>2196800</td>\n",
              "    </tr>\n",
              "    <tr>\n",
              "      <th>5761</th>\n",
              "      <td>2022-03-24</td>\n",
              "      <td>336.440002</td>\n",
              "      <td>337.500000</td>\n",
              "      <td>334.299988</td>\n",
              "      <td>336.230011</td>\n",
              "      <td>336.230011</td>\n",
              "      <td>1943600</td>\n",
              "    </tr>\n",
              "  </tbody>\n",
              "</table>\n",
              "<p>5762 rows × 7 columns</p>\n",
              "</div>\n",
              "      <button class=\"colab-df-convert\" onclick=\"convertToInteractive('df-785cad0c-824b-41ba-85d4-53bc670167b3')\"\n",
              "              title=\"Convert this dataframe to an interactive table.\"\n",
              "              style=\"display:none;\">\n",
              "        \n",
              "  <svg xmlns=\"http://www.w3.org/2000/svg\" height=\"24px\"viewBox=\"0 0 24 24\"\n",
              "       width=\"24px\">\n",
              "    <path d=\"M0 0h24v24H0V0z\" fill=\"none\"/>\n",
              "    <path d=\"M18.56 5.44l.94 2.06.94-2.06 2.06-.94-2.06-.94-.94-2.06-.94 2.06-2.06.94zm-11 1L8.5 8.5l.94-2.06 2.06-.94-2.06-.94L8.5 2.5l-.94 2.06-2.06.94zm10 10l.94 2.06.94-2.06 2.06-.94-2.06-.94-.94-2.06-.94 2.06-2.06.94z\"/><path d=\"M17.41 7.96l-1.37-1.37c-.4-.4-.92-.59-1.43-.59-.52 0-1.04.2-1.43.59L10.3 9.45l-7.72 7.72c-.78.78-.78 2.05 0 2.83L4 21.41c.39.39.9.59 1.41.59.51 0 1.02-.2 1.41-.59l7.78-7.78 2.81-2.81c.8-.78.8-2.07 0-2.86zM5.41 20L4 18.59l7.72-7.72 1.47 1.35L5.41 20z\"/>\n",
              "  </svg>\n",
              "      </button>\n",
              "      \n",
              "  <style>\n",
              "    .colab-df-container {\n",
              "      display:flex;\n",
              "      flex-wrap:wrap;\n",
              "      gap: 12px;\n",
              "    }\n",
              "\n",
              "    .colab-df-convert {\n",
              "      background-color: #E8F0FE;\n",
              "      border: none;\n",
              "      border-radius: 50%;\n",
              "      cursor: pointer;\n",
              "      display: none;\n",
              "      fill: #1967D2;\n",
              "      height: 32px;\n",
              "      padding: 0 0 0 0;\n",
              "      width: 32px;\n",
              "    }\n",
              "\n",
              "    .colab-df-convert:hover {\n",
              "      background-color: #E2EBFA;\n",
              "      box-shadow: 0px 1px 2px rgba(60, 64, 67, 0.3), 0px 1px 3px 1px rgba(60, 64, 67, 0.15);\n",
              "      fill: #174EA6;\n",
              "    }\n",
              "\n",
              "    [theme=dark] .colab-df-convert {\n",
              "      background-color: #3B4455;\n",
              "      fill: #D2E3FC;\n",
              "    }\n",
              "\n",
              "    [theme=dark] .colab-df-convert:hover {\n",
              "      background-color: #434B5C;\n",
              "      box-shadow: 0px 1px 3px 1px rgba(0, 0, 0, 0.15);\n",
              "      filter: drop-shadow(0px 1px 2px rgba(0, 0, 0, 0.3));\n",
              "      fill: #FFFFFF;\n",
              "    }\n",
              "  </style>\n",
              "\n",
              "      <script>\n",
              "        const buttonEl =\n",
              "          document.querySelector('#df-785cad0c-824b-41ba-85d4-53bc670167b3 button.colab-df-convert');\n",
              "        buttonEl.style.display =\n",
              "          google.colab.kernel.accessAllowed ? 'block' : 'none';\n",
              "\n",
              "        async function convertToInteractive(key) {\n",
              "          const element = document.querySelector('#df-785cad0c-824b-41ba-85d4-53bc670167b3');\n",
              "          const dataTable =\n",
              "            await google.colab.kernel.invokeFunction('convertToInteractive',\n",
              "                                                     [key], {});\n",
              "          if (!dataTable) return;\n",
              "\n",
              "          const docLinkHtml = 'Like what you see? Visit the ' +\n",
              "            '<a target=\"_blank\" href=https://colab.research.google.com/notebooks/data_table.ipynb>data table notebook</a>'\n",
              "            + ' to learn more about interactive tables.';\n",
              "          element.innerHTML = '';\n",
              "          dataTable['output_type'] = 'display_data';\n",
              "          await google.colab.output.renderOutput(dataTable, element);\n",
              "          const docLink = document.createElement('div');\n",
              "          docLink.innerHTML = docLinkHtml;\n",
              "          element.appendChild(docLink);\n",
              "        }\n",
              "      </script>\n",
              "    </div>\n",
              "  </div>\n",
              "  "
            ]
          },
          "metadata": {},
          "execution_count": 8
        }
      ]
    },
    {
      "cell_type": "markdown",
      "source": [
        "*** Table 1 ***"
      ],
      "metadata": {
        "id": "Oj5Dum95SZ_3"
      }
    },
    {
      "cell_type": "code",
      "source": [
        "closing = gs.reset_index()['Close']\n",
        "closing\n",
        "plt.plot(closing, color = \"red\")\n",
        "plt.xlabel(\"Time Starting 1999/05/04\")\n",
        "plt.ylabel(\"Goldman Sachs Stock Price (closing) in USD\")\n",
        "plt.title(\"Closing Stock Price\")\n",
        "figure(figsize=(8,6), dpi = 100)"
      ],
      "metadata": {
        "colab": {
          "base_uri": "https://localhost:8080/",
          "height": 331
        },
        "id": "7xQK2IKUncLJ",
        "outputId": "22568b50-dd0f-4d3f-a74b-c88cd6249966"
      },
      "execution_count": null,
      "outputs": [
        {
          "output_type": "execute_result",
          "data": {
            "text/plain": [
              "<Figure size 800x600 with 0 Axes>"
            ]
          },
          "metadata": {},
          "execution_count": 10
        },
        {
          "output_type": "display_data",
          "data": {
            "text/plain": [
              "<Figure size 432x288 with 1 Axes>"
            ],
            "image/png": "[encoded data removed]"
          },
          "metadata": {
            "needs_background": "light"
          }
        },
        {
          "output_type": "display_data",
          "data": {
            "text/plain": [
              "<Figure size 800x600 with 0 Axes>"
            ]
          },
          "metadata": {}
        }
      ]
    },
    {
      "cell_type": "markdown",
      "source": [
        "*** Figure 1 ***"
      ],
      "metadata": {
        "id": "J2alsEYEUy2I"
      }
    },
    {
      "cell_type": "code",
      "source": [
        "gs.shape\n",
        "print(closing)"
      ],
      "metadata": {
        "colab": {
          "base_uri": "https://localhost:8080/"
        },
        "id": "3DAWUl5Lo5xb",
        "outputId": "526e0388-4e97-4c14-8a65-95bc9257e897"
      },
      "execution_count": null,
      "outputs": [
        {
          "output_type": "stream",
          "name": "stdout",
          "text": [
            "0        70.375000\n",
            "1        69.125000\n",
            "2        67.937500\n",
            "3        74.125000\n",
            "4        70.687500\n",
            "           ...    \n",
            "5757    345.380005\n",
            "5758    339.000000\n",
            "5759    343.010010\n",
            "5760    335.609985\n",
            "5761    336.230011\n",
            "Name: Close, Length: 5762, dtype: float64\n"
          ]
        }
      ]
    },
    {
      "cell_type": "code",
      "source": [
        "opening = gs.reset_index()['Open']\n",
        "plt.plot(opening, color = \"blue\")\n",
        "plt.xlabel(\"Time Starting 1999/05/04\")\n",
        "plt.ylabel(\"Goldman Sachs Stock Price (opening) in USD\")\n",
        "plt.title(\"Opening Stock Price\")\n",
        "\n",
        "\n",
        "\n",
        "\n"
      ],
      "metadata": {
        "colab": {
          "base_uri": "https://localhost:8080/",
          "height": 313
        },
        "id": "m02-Zn8IqMRE",
        "outputId": "8f3753d2-4599-445a-814f-c279b8af0a48"
      },
      "execution_count": null,
      "outputs": [
        {
          "output_type": "execute_result",
          "data": {
            "text/plain": [
              "Text(0.5, 1.0, 'Opening Stock Price')"
            ]
          },
          "metadata": {},
          "execution_count": 12
        },
        {
          "output_type": "display_data",
          "data": {
            "text/plain": [
              "<Figure size 432x288 with 1 Axes>"
            ],
            "image/png": "[encoded data removed]"
          },
          "metadata": {
            "needs_background": "light"
          }
        }
      ]
    },
    {
      "cell_type": "markdown",
      "source": [
        "*** Figure 2 ***"
      ],
      "metadata": {
        "id": "8-UjkF6H446p"
      }
    },
    {
      "cell_type": "markdown",
      "source": [
        "## Now let's fit some model!\n",
        "\n",
        "But first - I need to rearrange the data so that it will be easily accessible for the future split of train/test datasets."
      ],
      "metadata": {
        "id": "EKFYnvgHiGuO"
      }
    },
    {
      "cell_type": "code",
      "source": [
        "scaler = MinMaxScaler(feature_range=(0,1))\n",
        "closing = scaler.fit_transform(np.array(closing).reshape(-1,1))"
      ],
      "metadata": {
        "id": "a0bo4wmIiF5H"
      },
      "execution_count": null,
      "outputs": []
    },
    {
      "cell_type": "markdown",
      "source": [
        "First, let's use 70% of the data as our train data, and the rest as for testing."
      ],
      "metadata": {
        "id": "fQqdWVY6kelL"
      }
    },
    {
      "cell_type": "code",
      "source": [
        "size_train = int(len(closing)*0.7)\n",
        "size_test = len(closing)-size_train"
      ],
      "metadata": {
        "id": "DUUMI2OliF82"
      },
      "execution_count": null,
      "outputs": []
    },
    {
      "cell_type": "markdown",
      "source": [
        "Now we specify the train data and test data."
      ],
      "metadata": {
        "id": "5a61ZSv4kntk"
      }
    },
    {
      "cell_type": "code",
      "source": [
        "train_data,test_data=closing[0:size_train,:],closing[size_train:len(closing),:1]"
      ],
      "metadata": {
        "id": "cMiti6tHjb6T"
      },
      "execution_count": null,
      "outputs": []
    },
    {
      "cell_type": "code",
      "source": [
        "size_train, size_test"
      ],
      "metadata": {
        "colab": {
          "base_uri": "https://localhost:8080/"
        },
        "id": "q_z9aa-FjcCM",
        "outputId": "ed4dc055-1085-4975-f30d-c02634d8e9e3"
      },
      "execution_count": null,
      "outputs": [
        {
          "output_type": "execute_result",
          "data": {
            "text/plain": [
              "(4033, 1729)"
            ]
          },
          "metadata": {},
          "execution_count": 17
        }
      ]
    },
    {
      "cell_type": "code",
      "source": [
        "def create_dataset(dataset, cons=1):\n",
        "\ttemp1, temp2 = [], []\n",
        "\tfor i in range(len(dataset)-cons-1):\n",
        "\t\ta = dataset[i:(i+cons), 0]\n",
        "\t\ttemp1.append(a)\n",
        "\t\ttemp2.append(dataset[i + cons, 0])\n",
        "\treturn np.array(temp1), np.array(temp2)"
      ],
      "metadata": {
        "id": "2s5dSEEnjcE2"
      },
      "execution_count": null,
      "outputs": []
    },
    {
      "cell_type": "code",
      "source": [
        "past = 100\n",
        "X_train, y_train = create_dataset(train_data, past)\n",
        "X_test, y_test = create_dataset(test_data, past)"
      ],
      "metadata": {
        "id": "zQV3B3u2jcHf"
      },
      "execution_count": null,
      "outputs": []
    },
    {
      "cell_type": "code",
      "source": [
        "print(X_train.shape), print(y_train.shape)\n",
        "print(X_test.shape), print(y_test.shape)"
      ],
      "metadata": {
        "colab": {
          "base_uri": "https://localhost:8080/"
        },
        "id": "QZoGYpNsjcJ0",
        "outputId": "7503f655-e2c4-45ad-c85b-5e509c956a57"
      },
      "execution_count": null,
      "outputs": [
        {
          "output_type": "stream",
          "name": "stdout",
          "text": [
            "(3932, 100)\n",
            "(3932,)\n",
            "(1628, 100)\n",
            "(1628,)\n"
          ]
        },
        {
          "output_type": "execute_result",
          "data": {
            "text/plain": [
              "(None, None)"
            ]
          },
          "metadata": {},
          "execution_count": 91
        }
      ]
    },
    {
      "cell_type": "code",
      "source": [
        "X_train =X_train.reshape(X_train.shape[0],X_train.shape[1] , 1)\n",
        "X_test = X_test.reshape(X_test.shape[0],X_test.shape[1] , 1)\n",
        "\n"
      ],
      "metadata": {
        "id": "xSQrm4GijcMc"
      },
      "execution_count": null,
      "outputs": []
    },
    {
      "cell_type": "code",
      "source": [
        "print(X_train.shape), print(y_train.shape)\n",
        "print(X_test.shape), print(y_test.shape)"
      ],
      "metadata": {
        "colab": {
          "base_uri": "https://localhost:8080/"
        },
        "id": "NKfORJCRoEp4",
        "outputId": "8c79899c-07c2-447c-c6c5-c9cf82100e12"
      },
      "execution_count": null,
      "outputs": [
        {
          "output_type": "stream",
          "name": "stdout",
          "text": [
            "(3932, 100, 1)\n",
            "(3932,)\n",
            "(1628, 100, 1)\n",
            "(1628,)\n"
          ]
        },
        {
          "output_type": "execute_result",
          "data": {
            "text/plain": [
              "(None, None)"
            ]
          },
          "metadata": {},
          "execution_count": 93
        }
      ]
    },
    {
      "cell_type": "markdown",
      "source": [
        "Building up layers and models!"
      ],
      "metadata": {
        "id": "PNHwdEyjoRH7"
      }
    },
    {
      "cell_type": "code",
      "source": [
        "model=Sequential()\n",
        "model.add(LSTM(50,return_sequences=True,input_shape=(100,1)))\n",
        "model.add(LSTM(50,return_sequences=True))\n",
        "model.add(LSTM(50))\n",
        "model.add(Dense(1))\n",
        "model.compile(loss='mean_squared_error',optimizer='adam')\n"
      ],
      "metadata": {
        "id": "D8wsKsbgoEs1"
      },
      "execution_count": null,
      "outputs": []
    },
    {
      "cell_type": "code",
      "source": [
        "model.fit(X_train,y_train,validation_data = (X_test, y_test), epochs=50,batch_size=32,verbose=1)"
      ],
      "metadata": {
        "colab": {
          "base_uri": "https://localhost:8080/"
        },
        "id": "-cJboXw8oEvw",
        "outputId": "70887687-9693-4529-e2e0-3b34f2e036be"
      },
      "execution_count": null,
      "outputs": [
        {
          "output_type": "stream",
          "name": "stdout",
          "text": [
            "Epoch 1/50\n",
            "123/123 [==============================] - 15s 103ms/step - loss: 7.3495e-05 - val_loss: 1.7623e-04\n",
            "Epoch 2/50\n",
            "123/123 [==============================] - 12s 94ms/step - loss: 7.4292e-05 - val_loss: 1.7936e-04\n",
            "Epoch 3/50\n",
            "123/123 [==============================] - 12s 94ms/step - loss: 7.4833e-05 - val_loss: 2.4097e-04\n",
            "Epoch 4/50\n",
            "123/123 [==============================] - 11s 94ms/step - loss: 7.7170e-05 - val_loss: 4.7857e-04\n",
            "Epoch 5/50\n",
            "123/123 [==============================] - 12s 95ms/step - loss: 8.7876e-05 - val_loss: 5.3595e-04\n",
            "Epoch 6/50\n",
            "123/123 [==============================] - 12s 94ms/step - loss: 7.4187e-05 - val_loss: 2.4137e-04\n",
            "Epoch 7/50\n",
            "123/123 [==============================] - 12s 94ms/step - loss: 8.3045e-05 - val_loss: 1.8920e-04\n",
            "Epoch 8/50\n",
            "123/123 [==============================] - 12s 95ms/step - loss: 7.3569e-05 - val_loss: 2.6535e-04\n",
            "Epoch 9/50\n",
            "123/123 [==============================] - 12s 98ms/step - loss: 7.5657e-05 - val_loss: 2.0661e-04\n",
            "Epoch 10/50\n",
            "123/123 [==============================] - 12s 95ms/step - loss: 7.7424e-05 - val_loss: 5.1963e-04\n",
            "Epoch 11/50\n",
            "123/123 [==============================] - 12s 94ms/step - loss: 7.1760e-05 - val_loss: 2.1316e-04\n",
            "Epoch 12/50\n",
            "123/123 [==============================] - 12s 94ms/step - loss: 7.4979e-05 - val_loss: 3.2826e-04\n",
            "Epoch 13/50\n",
            "123/123 [==============================] - 11s 93ms/step - loss: 7.8128e-05 - val_loss: 2.7713e-04\n",
            "Epoch 14/50\n",
            "123/123 [==============================] - 12s 96ms/step - loss: 7.4934e-05 - val_loss: 2.4067e-04\n",
            "Epoch 15/50\n",
            "123/123 [==============================] - 12s 95ms/step - loss: 7.2641e-05 - val_loss: 2.2966e-04\n",
            "Epoch 16/50\n",
            "123/123 [==============================] - 12s 95ms/step - loss: 7.6127e-05 - val_loss: 3.3588e-04\n",
            "Epoch 17/50\n",
            "123/123 [==============================] - 12s 95ms/step - loss: 7.2533e-05 - val_loss: 2.6525e-04\n",
            "Epoch 18/50\n",
            "123/123 [==============================] - 12s 94ms/step - loss: 7.4772e-05 - val_loss: 2.2013e-04\n",
            "Epoch 19/50\n",
            "123/123 [==============================] - 12s 95ms/step - loss: 7.8962e-05 - val_loss: 2.5830e-04\n",
            "Epoch 20/50\n",
            "123/123 [==============================] - 12s 95ms/step - loss: 8.2885e-05 - val_loss: 3.1601e-04\n",
            "Epoch 21/50\n",
            "123/123 [==============================] - 12s 95ms/step - loss: 7.6302e-05 - val_loss: 5.8464e-04\n",
            "Epoch 22/50\n",
            "123/123 [==============================] - 12s 95ms/step - loss: 7.1904e-05 - val_loss: 3.7573e-04\n",
            "Epoch 23/50\n",
            "123/123 [==============================] - 12s 95ms/step - loss: 7.1472e-05 - val_loss: 2.9418e-04\n",
            "Epoch 24/50\n",
            "123/123 [==============================] - 12s 95ms/step - loss: 7.2487e-05 - val_loss: 2.6399e-04\n",
            "Epoch 25/50\n",
            "123/123 [==============================] - 12s 96ms/step - loss: 6.9928e-05 - val_loss: 4.7580e-04\n",
            "Epoch 26/50\n",
            "123/123 [==============================] - 12s 97ms/step - loss: 7.4105e-05 - val_loss: 2.9847e-04\n",
            "Epoch 27/50\n",
            "123/123 [==============================] - 12s 96ms/step - loss: 7.1358e-05 - val_loss: 5.8034e-04\n",
            "Epoch 28/50\n",
            "123/123 [==============================] - 12s 95ms/step - loss: 7.3227e-05 - val_loss: 4.8843e-04\n",
            "Epoch 29/50\n",
            "123/123 [==============================] - 12s 96ms/step - loss: 7.8638e-05 - val_loss: 3.0038e-04\n",
            "Epoch 30/50\n",
            "123/123 [==============================] - 12s 97ms/step - loss: 7.5930e-05 - val_loss: 3.0945e-04\n",
            "Epoch 31/50\n",
            "123/123 [==============================] - 12s 98ms/step - loss: 7.3705e-05 - val_loss: 3.0682e-04\n",
            "Epoch 32/50\n",
            "123/123 [==============================] - 12s 99ms/step - loss: 7.1570e-05 - val_loss: 8.3382e-04\n",
            "Epoch 33/50\n",
            "123/123 [==============================] - 12s 99ms/step - loss: 7.4442e-05 - val_loss: 3.4740e-04\n",
            "Epoch 34/50\n",
            "123/123 [==============================] - 13s 105ms/step - loss: 7.0915e-05 - val_loss: 3.9611e-04\n",
            "Epoch 35/50\n",
            "123/123 [==============================] - 14s 113ms/step - loss: 7.8238e-05 - val_loss: 4.9297e-04\n",
            "Epoch 36/50\n",
            "123/123 [==============================] - 12s 96ms/step - loss: 7.2504e-05 - val_loss: 3.8232e-04\n",
            "Epoch 37/50\n",
            "123/123 [==============================] - 12s 96ms/step - loss: 7.3975e-05 - val_loss: 3.2598e-04\n",
            "Epoch 38/50\n",
            "123/123 [==============================] - 12s 95ms/step - loss: 7.1845e-05 - val_loss: 3.6559e-04\n",
            "Epoch 39/50\n",
            "123/123 [==============================] - 12s 96ms/step - loss: 7.3740e-05 - val_loss: 3.4849e-04\n",
            "Epoch 40/50\n",
            "123/123 [==============================] - 12s 96ms/step - loss: 7.2714e-05 - val_loss: 6.1444e-04\n",
            "Epoch 41/50\n",
            "123/123 [==============================] - 12s 95ms/step - loss: 7.9249e-05 - val_loss: 3.7055e-04\n",
            "Epoch 42/50\n",
            "123/123 [==============================] - 12s 95ms/step - loss: 7.1620e-05 - val_loss: 4.6632e-04\n",
            "Epoch 43/50\n",
            "123/123 [==============================] - 12s 95ms/step - loss: 7.1356e-05 - val_loss: 4.2909e-04\n",
            "Epoch 44/50\n",
            "123/123 [==============================] - 12s 96ms/step - loss: 7.6494e-05 - val_loss: 4.8123e-04\n",
            "Epoch 45/50\n",
            "123/123 [==============================] - 12s 95ms/step - loss: 6.8863e-05 - val_loss: 4.8379e-04\n",
            "Epoch 46/50\n",
            "123/123 [==============================] - 12s 96ms/step - loss: 6.8071e-05 - val_loss: 3.6065e-04\n",
            "Epoch 47/50\n",
            "123/123 [==============================] - 12s 96ms/step - loss: 7.0388e-05 - val_loss: 3.6303e-04\n",
            "Epoch 48/50\n",
            "123/123 [==============================] - 12s 96ms/step - loss: 6.9949e-05 - val_loss: 4.9934e-04\n",
            "Epoch 49/50\n",
            "123/123 [==============================] - 12s 96ms/step - loss: 7.0039e-05 - val_loss: 5.9760e-04\n",
            "Epoch 50/50\n",
            "123/123 [==============================] - 12s 95ms/step - loss: 6.6783e-05 - val_loss: 8.8691e-04\n"
          ]
        },
        {
          "output_type": "execute_result",
          "data": {
            "text/plain": [
              "<keras.callbacks.History at 0x7f85be9375e0>"
            ]
          },
          "metadata": {},
          "execution_count": 104
        }
      ]
    },
    {
      "cell_type": "code",
      "source": [
        "model_modified =Sequential()\n",
        "model_modified.add(LSTM(50,return_sequences=True,input_shape=(100,1)))\n",
        "model_modified.add(LSTM(50,return_sequences=True))\n",
        "model_modified.add(LSTM(50))\n",
        "model_modified.add(Dense(1))\n",
        "model_modified.compile(loss='binary_crossentropy',optimizer='adam')\n",
        "model_modified.fit(X_train,y_train,validation_split = 0.3, epochs=50,batch_size=32,verbose=1)"
      ],
      "metadata": {
        "colab": {
          "base_uri": "https://localhost:8080/"
        },
        "id": "HV6LGnZjC39Q",
        "outputId": "f7b2af94-7391-490c-fc23-670390bce1a4"
      },
      "execution_count": null,
      "outputs": [
        {
          "output_type": "stream",
          "name": "stdout",
          "text": [
            "Epoch 1/50\n",
            "86/86 [==============================] - 11s 92ms/step - loss: 0.4530 - val_loss: 0.5532\n",
            "Epoch 2/50\n",
            "86/86 [==============================] - 7s 82ms/step - loss: 0.4421 - val_loss: 0.5532\n",
            "Epoch 3/50\n",
            "86/86 [==============================] - 7s 82ms/step - loss: 0.4419 - val_loss: 0.5530\n",
            "Epoch 4/50\n",
            "86/86 [==============================] - 7s 81ms/step - loss: 0.4418 - val_loss: 0.5529\n",
            "Epoch 5/50\n",
            "86/86 [==============================] - 7s 82ms/step - loss: 0.4416 - val_loss: 0.5531\n",
            "Epoch 6/50\n",
            "86/86 [==============================] - 7s 83ms/step - loss: 0.4415 - val_loss: 0.5530\n",
            "Epoch 7/50\n",
            "86/86 [==============================] - 7s 83ms/step - loss: 0.4414 - val_loss: 0.5528\n",
            "Epoch 8/50\n",
            "86/86 [==============================] - 7s 82ms/step - loss: 0.4414 - val_loss: 0.5531\n",
            "Epoch 9/50\n",
            "86/86 [==============================] - 7s 82ms/step - loss: 0.4413 - val_loss: 0.5528\n",
            "Epoch 10/50\n",
            "86/86 [==============================] - 7s 81ms/step - loss: 0.4413 - val_loss: 0.5528\n",
            "Epoch 11/50\n",
            "86/86 [==============================] - 7s 83ms/step - loss: 0.4413 - val_loss: 0.5528\n",
            "Epoch 12/50\n",
            "86/86 [==============================] - 7s 81ms/step - loss: 0.4412 - val_loss: 0.5527\n",
            "Epoch 13/50\n",
            "86/86 [==============================] - 7s 82ms/step - loss: 0.4411 - val_loss: 0.5528\n",
            "Epoch 14/50\n",
            "86/86 [==============================] - 7s 82ms/step - loss: 0.4411 - val_loss: 0.5528\n",
            "Epoch 15/50\n",
            "86/86 [==============================] - 7s 82ms/step - loss: 0.4410 - val_loss: 0.5526\n",
            "Epoch 16/50\n",
            "86/86 [==============================] - 7s 81ms/step - loss: 0.4410 - val_loss: 0.5528\n",
            "Epoch 17/50\n",
            "86/86 [==============================] - 7s 83ms/step - loss: 0.4410 - val_loss: 0.5526\n",
            "Epoch 18/50\n",
            "86/86 [==============================] - 7s 82ms/step - loss: 0.4409 - val_loss: 0.5526\n",
            "Epoch 19/50\n",
            "86/86 [==============================] - 7s 82ms/step - loss: 0.4409 - val_loss: 0.5527\n",
            "Epoch 20/50\n",
            "86/86 [==============================] - 7s 82ms/step - loss: 0.4408 - val_loss: 0.5525\n",
            "Epoch 21/50\n",
            "86/86 [==============================] - 7s 81ms/step - loss: 0.4408 - val_loss: 0.5525\n",
            "Epoch 22/50\n",
            "86/86 [==============================] - 7s 82ms/step - loss: 0.4408 - val_loss: 0.5525\n",
            "Epoch 23/50\n",
            "86/86 [==============================] - 7s 82ms/step - loss: 0.4407 - val_loss: 0.5525\n",
            "Epoch 24/50\n",
            "86/86 [==============================] - 7s 82ms/step - loss: 0.4407 - val_loss: 0.5525\n",
            "Epoch 25/50\n",
            "86/86 [==============================] - 7s 82ms/step - loss: 0.4407 - val_loss: 0.5526\n",
            "Epoch 26/50\n",
            "86/86 [==============================] - 7s 81ms/step - loss: 0.4407 - val_loss: 0.5525\n",
            "Epoch 27/50\n",
            "86/86 [==============================] - 7s 83ms/step - loss: 0.4406 - val_loss: 0.5524\n",
            "Epoch 28/50\n",
            "86/86 [==============================] - 7s 82ms/step - loss: 0.4406 - val_loss: 0.5526\n",
            "Epoch 29/50\n",
            "86/86 [==============================] - 7s 84ms/step - loss: 0.4406 - val_loss: 0.5524\n",
            "Epoch 30/50\n",
            "86/86 [==============================] - 7s 83ms/step - loss: 0.4406 - val_loss: 0.5525\n",
            "Epoch 31/50\n",
            "86/86 [==============================] - 7s 84ms/step - loss: 0.4406 - val_loss: 0.5524\n",
            "Epoch 32/50\n",
            "86/86 [==============================] - 7s 83ms/step - loss: 0.4406 - val_loss: 0.5524\n",
            "Epoch 33/50\n",
            "86/86 [==============================] - 7s 81ms/step - loss: 0.4406 - val_loss: 0.5525\n",
            "Epoch 34/50\n",
            "86/86 [==============================] - 7s 82ms/step - loss: 0.4407 - val_loss: 0.5526\n",
            "Epoch 35/50\n",
            "86/86 [==============================] - 7s 82ms/step - loss: 0.4406 - val_loss: 0.5524\n",
            "Epoch 36/50\n",
            "86/86 [==============================] - 7s 82ms/step - loss: 0.4406 - val_loss: 0.5524\n",
            "Epoch 37/50\n",
            "86/86 [==============================] - 7s 84ms/step - loss: 0.4407 - val_loss: 0.5524\n",
            "Epoch 38/50\n",
            "86/86 [==============================] - 7s 83ms/step - loss: 0.4406 - val_loss: 0.5525\n",
            "Epoch 39/50\n",
            "86/86 [==============================] - 7s 82ms/step - loss: 0.4406 - val_loss: 0.5525\n",
            "Epoch 40/50\n",
            "86/86 [==============================] - 7s 81ms/step - loss: 0.4406 - val_loss: 0.5524\n",
            "Epoch 41/50\n",
            "86/86 [==============================] - 7s 83ms/step - loss: 0.4406 - val_loss: 0.5524\n",
            "Epoch 42/50\n",
            "86/86 [==============================] - 7s 83ms/step - loss: 0.4405 - val_loss: 0.5524\n",
            "Epoch 43/50\n",
            "86/86 [==============================] - 9s 104ms/step - loss: 0.4405 - val_loss: 0.5525\n",
            "Epoch 44/50\n",
            "86/86 [==============================] - 10s 120ms/step - loss: 0.4406 - val_loss: 0.5524\n",
            "Epoch 45/50\n",
            "86/86 [==============================] - 9s 102ms/step - loss: 0.4405 - val_loss: 0.5524\n",
            "Epoch 46/50\n",
            "86/86 [==============================] - 7s 83ms/step - loss: 0.4406 - val_loss: 0.5524\n",
            "Epoch 47/50\n",
            "86/86 [==============================] - 7s 84ms/step - loss: 0.4405 - val_loss: 0.5524\n",
            "Epoch 48/50\n",
            "86/86 [==============================] - 7s 84ms/step - loss: 0.4405 - val_loss: 0.5524\n",
            "Epoch 49/50\n",
            "86/86 [==============================] - 7s 85ms/step - loss: 0.4405 - val_loss: 0.5525\n",
            "Epoch 50/50\n",
            "86/86 [==============================] - 7s 84ms/step - loss: 0.4407 - val_loss: 0.5526\n"
          ]
        },
        {
          "output_type": "execute_result",
          "data": {
            "text/plain": [
              "<keras.callbacks.History at 0x7f85b9b32b20>"
            ]
          },
          "metadata": {},
          "execution_count": 107
        }
      ]
    },
    {
      "cell_type": "code",
      "source": [
        "acc = model.evaluate(X_test, y_test, batch_size=3)\n",
        "print('Accuracy for model:', acc)\n",
        "\n",
        "acc_mo = model_modified.evaluate(X_test, y_test, batch_size=3)\n",
        "print('Accuracy for model_modified:', acc_mo)"
      ],
      "metadata": {
        "colab": {
          "base_uri": "https://localhost:8080/"
        },
        "id": "7mbAj4ejvr0P",
        "outputId": "16999fe3-4ac4-4402-fcd6-b325b9e58f4c"
      },
      "execution_count": null,
      "outputs": [
        {
          "output_type": "stream",
          "name": "stdout",
          "text": [
            "543/543 [==============================] - 6s 12ms/step - loss: 8.8691e-04\n",
            "Accuracy for model: 0.0008869105949997902\n",
            "543/543 [==============================] - 6s 11ms/step - loss: 0.6187\n",
            "Accuracy for model_modified: 0.6187497973442078\n"
          ]
        }
      ]
    },
    {
      "cell_type": "code",
      "source": [
        "train_predict=model.predict(X_train)\n",
        "test_predict=model.predict(X_test)\n",
        "\n",
        "train_predict=scaler.inverse_transform(train_predict)\n",
        "test_predict=scaler.inverse_transform(test_predict)"
      ],
      "metadata": {
        "colab": {
          "base_uri": "https://localhost:8080/"
        },
        "id": "HYVS8zbTdW4n",
        "outputId": "e954068a-5d84-4f83-f4cc-93423bbfe255"
      },
      "execution_count": null,
      "outputs": [
        {
          "output_type": "stream",
          "name": "stdout",
          "text": [
            "123/123 [==============================] - 3s 22ms/step\n",
            "51/51 [==============================] - 1s 22ms/step\n"
          ]
        }
      ]
    },
    {
      "cell_type": "code",
      "source": [
        "past=100\n",
        "trainPredictPlot = np.empty_like(closing)\n",
        "trainPredictPlot[:, :] = np.nan\n",
        "trainPredictPlot[past:len(train_predict)+past, :] = train_predict\n",
        "# shift test predictions for plotting\n",
        "testPredictPlot = np.empty_like(closing)\n",
        "testPredictPlot[:, :] = np.nan\n",
        "testPredictPlot[len(train_predict)+(past*2)+1:len(closing)-1, :] = test_predict\n",
        "\n",
        "# plot baseline and predictions\n",
        "plt.plot(scaler.inverse_transform(closing), color = 'blue', linestyle = 'solid')\n",
        "plt.plot(trainPredictPlot, color = 'yellow', linestyle = 'dashed')\n",
        "plt.plot(testPredictPlot, color = 'red', linestyle = 'dashed')\n",
        "plt.xlabel(\"Time\")\n",
        "plt.ylabel(\"Goldman Sachs Stock Price\")\n",
        "plt.legend([\"Real Data\", \"Train Data\", \"Test Data(Prediction)\"], loc = 'lower right', prop = {'size' : 8})\n",
        "figure(figsize=(20,10))\n",
        "plt.show()\n",
        "\n",
        "\n",
        "\n",
        "\n",
        "\n",
        "\n",
        "\n",
        "\n",
        "\n",
        "\n",
        "\n"
      ],
      "metadata": {
        "colab": {
          "base_uri": "https://localhost:8080/",
          "height": 297
        },
        "id": "7cyVzYgloE1d",
        "outputId": "0a5ccb1a-64de-48ea-fc8a-e2a60c20b5d5"
      },
      "execution_count": null,
      "outputs": [
        {
          "output_type": "display_data",
          "data": {
            "text/plain": [
              "<Figure size 432x288 with 1 Axes>"
            ],
            "image/png": "[encoded data removed]"
          },
          "metadata": {
            "needs_background": "light"
          }
        },
        {
          "output_type": "display_data",
          "data": {
            "text/plain": [
              "<Figure size 1440x720 with 0 Axes>"
            ]
          },
          "metadata": {}
        }
      ]
    },
    {
      "cell_type": "markdown",
      "source": [
        "*** Figure 3 ***"
      ],
      "metadata": {
        "id": "jiiJTijlIQk0"
      }
    },
    {
      "cell_type": "markdown",
      "source": [
        "As shown above, it is a very good prediction!"
      ],
      "metadata": {
        "id": "pOnPXTZALkLw"
      }
    },
    {
      "cell_type": "markdown",
      "source": [
        "Now we reduce the number of units in each LSTM layers to see the effects on overall accuracy"
      ],
      "metadata": {
        "id": "s1hSNqNKiraU"
      }
    },
    {
      "cell_type": "code",
      "source": [
        "model2=Sequential()\n",
        "model2.add(LSTM(10,return_sequences=True,input_shape=(100,1)))\n",
        "model2.add(LSTM(10,return_sequences=True))\n",
        "model2.add(LSTM(10))\n",
        "model2.add(Dense(1))\n",
        "model2.compile(loss='mean_squared_error',optimizer='adam')"
      ],
      "metadata": {
        "id": "jXwJks--x7H3"
      },
      "execution_count": null,
      "outputs": []
    },
    {
      "cell_type": "code",
      "source": [
        "model2.fit(X_train,y_train,validation_data = (X_test, y_test),epochs=50,batch_size=32,verbose=1)"
      ],
      "metadata": {
        "id": "o0OWipUix7FF",
        "colab": {
          "base_uri": "https://localhost:8080/"
        },
        "outputId": "afde835e-435f-46b4-91ed-a767d1f7a0c1"
      },
      "execution_count": null,
      "outputs": [
        {
          "output_type": "stream",
          "name": "stdout",
          "text": [
            "Epoch 1/50\n",
            "123/123 [==============================] - 13s 70ms/step - loss: 0.0046 - val_loss: 0.0082\n",
            "Epoch 2/50\n",
            "123/123 [==============================] - 8s 62ms/step - loss: 4.9210e-04 - val_loss: 0.0051\n",
            "Epoch 3/50\n",
            "123/123 [==============================] - 8s 63ms/step - loss: 4.3992e-04 - val_loss: 0.0039\n",
            "Epoch 4/50\n",
            "123/123 [==============================] - 8s 63ms/step - loss: 3.7403e-04 - val_loss: 0.0018\n",
            "Epoch 5/50\n",
            "123/123 [==============================] - 8s 66ms/step - loss: 3.6935e-04 - val_loss: 0.0017\n",
            "Epoch 6/50\n",
            "123/123 [==============================] - 9s 74ms/step - loss: 3.1651e-04 - val_loss: 0.0011\n",
            "Epoch 7/50\n",
            "123/123 [==============================] - 9s 71ms/step - loss: 2.9143e-04 - val_loss: 8.6038e-04\n",
            "Epoch 8/50\n",
            "123/123 [==============================] - 8s 67ms/step - loss: 2.8343e-04 - val_loss: 0.0016\n",
            "Epoch 9/50\n",
            "123/123 [==============================] - 11s 90ms/step - loss: 2.9923e-04 - val_loss: 0.0014\n",
            "Epoch 10/50\n",
            "123/123 [==============================] - 8s 65ms/step - loss: 2.7724e-04 - val_loss: 0.0017\n",
            "Epoch 11/50\n",
            "123/123 [==============================] - 10s 85ms/step - loss: 2.4051e-04 - val_loss: 0.0012\n",
            "Epoch 12/50\n",
            "123/123 [==============================] - 8s 65ms/step - loss: 2.5649e-04 - val_loss: 0.0020\n",
            "Epoch 13/50\n",
            "123/123 [==============================] - 8s 63ms/step - loss: 2.2446e-04 - val_loss: 0.0016\n",
            "Epoch 14/50\n",
            "123/123 [==============================] - 8s 65ms/step - loss: 2.2586e-04 - val_loss: 0.0015\n",
            "Epoch 15/50\n",
            "123/123 [==============================] - 8s 65ms/step - loss: 2.3017e-04 - val_loss: 0.0018\n",
            "Epoch 16/50\n",
            "123/123 [==============================] - 8s 63ms/step - loss: 2.0884e-04 - val_loss: 0.0023\n",
            "Epoch 17/50\n",
            "123/123 [==============================] - 8s 64ms/step - loss: 2.0878e-04 - val_loss: 0.0027\n",
            "Epoch 18/50\n",
            "123/123 [==============================] - 8s 64ms/step - loss: 2.0616e-04 - val_loss: 0.0025\n",
            "Epoch 19/50\n",
            "123/123 [==============================] - 8s 65ms/step - loss: 1.8966e-04 - val_loss: 0.0020\n",
            "Epoch 20/50\n",
            "123/123 [==============================] - 8s 64ms/step - loss: 1.7638e-04 - val_loss: 0.0030\n",
            "Epoch 21/50\n",
            "123/123 [==============================] - 8s 64ms/step - loss: 1.7251e-04 - val_loss: 0.0025\n",
            "Epoch 22/50\n",
            "123/123 [==============================] - 8s 68ms/step - loss: 1.6439e-04 - val_loss: 0.0025\n",
            "Epoch 23/50\n",
            "123/123 [==============================] - 8s 64ms/step - loss: 1.5965e-04 - val_loss: 0.0027\n",
            "Epoch 24/50\n",
            "123/123 [==============================] - 9s 69ms/step - loss: 1.5947e-04 - val_loss: 0.0025\n",
            "Epoch 25/50\n",
            "123/123 [==============================] - 9s 70ms/step - loss: 1.5454e-04 - val_loss: 0.0029\n",
            "Epoch 26/50\n",
            "123/123 [==============================] - 8s 64ms/step - loss: 1.5799e-04 - val_loss: 0.0025\n",
            "Epoch 27/50\n",
            "123/123 [==============================] - 8s 63ms/step - loss: 1.4689e-04 - val_loss: 0.0025\n",
            "Epoch 28/50\n",
            "123/123 [==============================] - 8s 65ms/step - loss: 1.4426e-04 - val_loss: 0.0029\n",
            "Epoch 29/50\n",
            "123/123 [==============================] - 8s 64ms/step - loss: 1.4045e-04 - val_loss: 0.0019\n",
            "Epoch 30/50\n",
            "123/123 [==============================] - 8s 65ms/step - loss: 1.3104e-04 - val_loss: 0.0021\n",
            "Epoch 31/50\n",
            "123/123 [==============================] - 8s 66ms/step - loss: 1.1998e-04 - val_loss: 0.0020\n",
            "Epoch 32/50\n",
            "123/123 [==============================] - 8s 67ms/step - loss: 1.1982e-04 - val_loss: 0.0014\n",
            "Epoch 33/50\n",
            "123/123 [==============================] - 8s 66ms/step - loss: 1.1947e-04 - val_loss: 0.0016\n",
            "Epoch 34/50\n",
            "123/123 [==============================] - 8s 65ms/step - loss: 1.1404e-04 - val_loss: 0.0020\n",
            "Epoch 35/50\n",
            "123/123 [==============================] - 8s 66ms/step - loss: 1.1389e-04 - val_loss: 0.0011\n",
            "Epoch 36/50\n",
            "123/123 [==============================] - 8s 64ms/step - loss: 1.0876e-04 - val_loss: 0.0011\n",
            "Epoch 37/50\n",
            "123/123 [==============================] - 8s 66ms/step - loss: 1.0388e-04 - val_loss: 0.0012\n",
            "Epoch 38/50\n",
            "123/123 [==============================] - 8s 65ms/step - loss: 1.0527e-04 - val_loss: 0.0011\n",
            "Epoch 39/50\n",
            "123/123 [==============================] - 8s 65ms/step - loss: 1.0110e-04 - val_loss: 0.0013\n",
            "Epoch 40/50\n",
            "123/123 [==============================] - 8s 64ms/step - loss: 1.0168e-04 - val_loss: 0.0012\n",
            "Epoch 41/50\n",
            "123/123 [==============================] - 8s 65ms/step - loss: 9.5542e-05 - val_loss: 0.0016\n",
            "Epoch 42/50\n",
            "123/123 [==============================] - 8s 63ms/step - loss: 9.3957e-05 - val_loss: 0.0013\n",
            "Epoch 43/50\n",
            "123/123 [==============================] - 8s 64ms/step - loss: 1.0377e-04 - val_loss: 0.0019\n",
            "Epoch 44/50\n",
            "123/123 [==============================] - 8s 64ms/step - loss: 9.7677e-05 - val_loss: 0.0012\n",
            "Epoch 45/50\n",
            "123/123 [==============================] - 8s 65ms/step - loss: 8.9608e-05 - val_loss: 0.0010\n",
            "Epoch 46/50\n",
            "123/123 [==============================] - 8s 64ms/step - loss: 9.0825e-05 - val_loss: 0.0011\n",
            "Epoch 47/50\n",
            "123/123 [==============================] - 8s 65ms/step - loss: 8.7262e-05 - val_loss: 9.3495e-04\n",
            "Epoch 48/50\n",
            "123/123 [==============================] - 8s 64ms/step - loss: 8.0768e-05 - val_loss: 9.7305e-04\n",
            "Epoch 49/50\n",
            "123/123 [==============================] - 8s 64ms/step - loss: 9.1429e-05 - val_loss: 7.6139e-04\n",
            "Epoch 50/50\n",
            "123/123 [==============================] - 8s 65ms/step - loss: 8.8637e-05 - val_loss: 9.7827e-04\n"
          ]
        },
        {
          "output_type": "execute_result",
          "data": {
            "text/plain": [
              "<keras.callbacks.History at 0x7f85b9ff06d0>"
            ]
          },
          "metadata": {},
          "execution_count": 116
        }
      ]
    },
    {
      "cell_type": "code",
      "source": [
        "acc2 = model2.evaluate(X_test, y_test, batch_size=3)\n",
        "print('Accuracy for model2:', acc2)"
      ],
      "metadata": {
        "colab": {
          "base_uri": "https://localhost:8080/"
        },
        "id": "wCq26kqzx6b7",
        "outputId": "8d523882-eca1-49d4-8136-d12c2582833b"
      },
      "execution_count": null,
      "outputs": [
        {
          "output_type": "stream",
          "name": "stdout",
          "text": [
            "543/543 [==============================] - 5s 9ms/step - loss: 9.7827e-04\n",
            "Accuracy for model2: 0.0009782687993720174\n"
          ]
        }
      ]
    },
    {
      "cell_type": "markdown",
      "source": [
        "Then we try to use a SimpleRNN model to predict:"
      ],
      "metadata": {
        "id": "MorYLPTDo79Z"
      }
    },
    {
      "cell_type": "code",
      "source": [
        "model3 = Sequential()\n",
        "model3.add(SimpleRNN(units = 50, activation='relu'))\n",
        "model3.add(Dense(1))\n",
        "model3.compile(loss = 'mean_squared_error', optimizer = 'adam')\n",
        "model3.fit(X_train, y_train, epochs = 50, batch_size = 32)"
      ],
      "metadata": {
        "id": "H0HZ_VDCo8Fz",
        "colab": {
          "base_uri": "https://localhost:8080/"
        },
        "outputId": "89898b30-d34e-4b4b-9e45-7a7ba4e1fecb"
      },
      "execution_count": null,
      "outputs": [
        {
          "output_type": "stream",
          "name": "stdout",
          "text": [
            "Epoch 1/50\n",
            "123/123 [==============================] - 2s 10ms/step - loss: 0.0022\n",
            "Epoch 2/50\n",
            "123/123 [==============================] - 1s 11ms/step - loss: 1.0879e-04\n",
            "Epoch 3/50\n",
            "123/123 [==============================] - 1s 11ms/step - loss: 1.0077e-04\n",
            "Epoch 4/50\n",
            "123/123 [==============================] - 2s 13ms/step - loss: 9.0056e-05\n",
            "Epoch 5/50\n",
            "123/123 [==============================] - 1s 11ms/step - loss: 8.5205e-05\n",
            "Epoch 6/50\n",
            "123/123 [==============================] - 1s 11ms/step - loss: 8.1837e-05\n",
            "Epoch 7/50\n",
            "123/123 [==============================] - 1s 11ms/step - loss: 7.5709e-05\n",
            "Epoch 8/50\n",
            "123/123 [==============================] - 1s 11ms/step - loss: 7.6451e-05\n",
            "Epoch 9/50\n",
            "123/123 [==============================] - 1s 10ms/step - loss: 7.2832e-05\n",
            "Epoch 10/50\n",
            "123/123 [==============================] - 1s 10ms/step - loss: 7.0955e-05\n",
            "Epoch 11/50\n",
            "123/123 [==============================] - 1s 10ms/step - loss: 6.9696e-05\n",
            "Epoch 12/50\n",
            "123/123 [==============================] - 1s 11ms/step - loss: 7.0137e-05\n",
            "Epoch 13/50\n",
            "123/123 [==============================] - 1s 10ms/step - loss: 7.0927e-05\n",
            "Epoch 14/50\n",
            "123/123 [==============================] - 1s 11ms/step - loss: 7.0036e-05\n",
            "Epoch 15/50\n",
            "123/123 [==============================] - 1s 10ms/step - loss: 7.1264e-05\n",
            "Epoch 16/50\n",
            "123/123 [==============================] - 1s 11ms/step - loss: 6.7783e-05\n",
            "Epoch 17/50\n",
            "123/123 [==============================] - 1s 11ms/step - loss: 6.7658e-05\n",
            "Epoch 18/50\n",
            "123/123 [==============================] - 1s 11ms/step - loss: 6.9078e-05\n",
            "Epoch 19/50\n",
            "123/123 [==============================] - 1s 11ms/step - loss: 6.6945e-05\n",
            "Epoch 20/50\n",
            "123/123 [==============================] - 1s 11ms/step - loss: 7.1217e-05\n",
            "Epoch 21/50\n",
            "123/123 [==============================] - 1s 10ms/step - loss: 6.9375e-05\n",
            "Epoch 22/50\n",
            "123/123 [==============================] - 1s 10ms/step - loss: 6.7396e-05\n",
            "Epoch 23/50\n",
            "123/123 [==============================] - 1s 10ms/step - loss: 7.0657e-05\n",
            "Epoch 24/50\n",
            "123/123 [==============================] - 1s 10ms/step - loss: 7.1736e-05\n",
            "Epoch 25/50\n",
            "123/123 [==============================] - 1s 11ms/step - loss: 6.9622e-05\n",
            "Epoch 26/50\n",
            "123/123 [==============================] - 1s 10ms/step - loss: 6.7852e-05\n",
            "Epoch 27/50\n",
            "123/123 [==============================] - 1s 10ms/step - loss: 6.9478e-05\n",
            "Epoch 28/50\n",
            "123/123 [==============================] - 1s 11ms/step - loss: 6.7433e-05\n",
            "Epoch 29/50\n",
            "123/123 [==============================] - 1s 10ms/step - loss: 7.0147e-05\n",
            "Epoch 30/50\n",
            "123/123 [==============================] - 1s 10ms/step - loss: 7.0484e-05\n",
            "Epoch 31/50\n",
            "123/123 [==============================] - 1s 11ms/step - loss: 6.6282e-05\n",
            "Epoch 32/50\n",
            "123/123 [==============================] - 1s 10ms/step - loss: 7.0999e-05\n",
            "Epoch 33/50\n",
            "123/123 [==============================] - 1s 11ms/step - loss: 6.9775e-05\n",
            "Epoch 34/50\n",
            "123/123 [==============================] - 1s 10ms/step - loss: 6.9481e-05\n",
            "Epoch 35/50\n",
            "123/123 [==============================] - 1s 11ms/step - loss: 6.7797e-05\n",
            "Epoch 36/50\n",
            "123/123 [==============================] - 1s 10ms/step - loss: 7.1041e-05\n",
            "Epoch 37/50\n",
            "123/123 [==============================] - 1s 10ms/step - loss: 6.9881e-05\n",
            "Epoch 38/50\n",
            "123/123 [==============================] - 1s 10ms/step - loss: 6.9074e-05\n",
            "Epoch 39/50\n",
            "123/123 [==============================] - 1s 10ms/step - loss: 7.0285e-05\n",
            "Epoch 40/50\n",
            "123/123 [==============================] - 1s 10ms/step - loss: 6.7086e-05\n",
            "Epoch 41/50\n",
            "123/123 [==============================] - 1s 11ms/step - loss: 6.7254e-05\n",
            "Epoch 42/50\n",
            "123/123 [==============================] - 1s 11ms/step - loss: 7.3154e-05\n",
            "Epoch 43/50\n",
            "123/123 [==============================] - 1s 10ms/step - loss: 6.5402e-05\n",
            "Epoch 44/50\n",
            "123/123 [==============================] - 1s 11ms/step - loss: 6.7827e-05\n",
            "Epoch 45/50\n",
            "123/123 [==============================] - 1s 11ms/step - loss: 6.9307e-05\n",
            "Epoch 46/50\n",
            "123/123 [==============================] - 1s 10ms/step - loss: 6.8517e-05\n",
            "Epoch 47/50\n",
            "123/123 [==============================] - 1s 11ms/step - loss: 6.7960e-05\n",
            "Epoch 48/50\n",
            "123/123 [==============================] - 1s 10ms/step - loss: 7.0083e-05\n",
            "Epoch 49/50\n",
            "123/123 [==============================] - 1s 10ms/step - loss: 7.0111e-05\n",
            "Epoch 50/50\n",
            "123/123 [==============================] - 1s 10ms/step - loss: 6.8781e-05\n"
          ]
        },
        {
          "output_type": "execute_result",
          "data": {
            "text/plain": [
              "<keras.callbacks.History at 0x7f85ba7cbdf0>"
            ]
          },
          "metadata": {},
          "execution_count": 123
        }
      ]
    },
    {
      "cell_type": "code",
      "source": [
        "acc3 = model3.evaluate(X_test, y_test, batch_size=3)\n",
        "print('Accuracy for model3:', acc3)"
      ],
      "metadata": {
        "colab": {
          "base_uri": "https://localhost:8080/"
        },
        "id": "-oWm42nfo8MF",
        "outputId": "5b3097d4-a235-4c27-b923-c797b76b1b33"
      },
      "execution_count": null,
      "outputs": [
        {
          "output_type": "stream",
          "name": "stdout",
          "text": [
            "543/543 [==============================] - 2s 3ms/step - loss: 1.7643e-04\n",
            "Accuracy for model3: 0.00017642784223426133\n"
          ]
        }
      ]
    },
    {
      "cell_type": "markdown",
      "source": [
        "The shown loss is very convincing, let's make a small change to see the difference:"
      ],
      "metadata": {
        "id": "zSVMGS-rsFRy"
      }
    },
    {
      "cell_type": "code",
      "source": [
        "model3_modified = Sequential()\n",
        "model3_modified.add(SimpleRNN(units = 5, activation='relu'))\n",
        "model3_modified.add(Dense(1))\n",
        "model3_modified.compile(loss = 'mean_squared_error', optimizer = 'adam')\n",
        "model3_modified.fit(X_train, y_train, epochs = 50, batch_size = 32)\n"
      ],
      "metadata": {
        "colab": {
          "base_uri": "https://localhost:8080/"
        },
        "id": "zNlnaPbFPaHF",
        "outputId": "0f81e513-641f-4c64-81c8-a773778a1ec0"
      },
      "execution_count": null,
      "outputs": [
        {
          "output_type": "stream",
          "name": "stdout",
          "text": [
            "Epoch 1/50\n",
            "123/123 [==============================] - 2s 7ms/step - loss: 0.0181\n",
            "Epoch 2/50\n",
            "123/123 [==============================] - 1s 7ms/step - loss: 2.9056e-04\n",
            "Epoch 3/50\n",
            "123/123 [==============================] - 1s 7ms/step - loss: 7.3866e-05\n",
            "Epoch 4/50\n",
            "123/123 [==============================] - 1s 8ms/step - loss: 6.6546e-05\n",
            "Epoch 5/50\n",
            "123/123 [==============================] - 1s 8ms/step - loss: 6.9037e-05\n",
            "Epoch 6/50\n",
            "123/123 [==============================] - 1s 8ms/step - loss: 6.8653e-05\n",
            "Epoch 7/50\n",
            "123/123 [==============================] - 1s 8ms/step - loss: 7.0779e-05\n",
            "Epoch 8/50\n",
            "123/123 [==============================] - 1s 8ms/step - loss: 6.7384e-05\n",
            "Epoch 9/50\n",
            "123/123 [==============================] - 1s 8ms/step - loss: 7.3347e-05\n",
            "Epoch 10/50\n",
            "123/123 [==============================] - 1s 8ms/step - loss: 7.0180e-05\n",
            "Epoch 11/50\n",
            "123/123 [==============================] - 1s 8ms/step - loss: 6.7955e-05\n",
            "Epoch 12/50\n",
            "123/123 [==============================] - 1s 8ms/step - loss: 6.7022e-05\n",
            "Epoch 13/50\n",
            "123/123 [==============================] - 1s 8ms/step - loss: 6.7966e-05\n",
            "Epoch 14/50\n",
            "123/123 [==============================] - 1s 8ms/step - loss: 6.7817e-05\n",
            "Epoch 15/50\n",
            "123/123 [==============================] - 1s 8ms/step - loss: 6.7013e-05\n",
            "Epoch 16/50\n",
            "123/123 [==============================] - 1s 8ms/step - loss: 6.8242e-05\n",
            "Epoch 17/50\n",
            "123/123 [==============================] - 1s 7ms/step - loss: 6.7571e-05\n",
            "Epoch 18/50\n",
            "123/123 [==============================] - 1s 8ms/step - loss: 6.8840e-05\n",
            "Epoch 19/50\n",
            "123/123 [==============================] - 1s 8ms/step - loss: 6.7489e-05\n",
            "Epoch 20/50\n",
            "123/123 [==============================] - 1s 8ms/step - loss: 6.9546e-05\n",
            "Epoch 21/50\n",
            "123/123 [==============================] - 1s 8ms/step - loss: 6.7243e-05\n",
            "Epoch 22/50\n",
            "123/123 [==============================] - 1s 8ms/step - loss: 6.9874e-05\n",
            "Epoch 23/50\n",
            "123/123 [==============================] - 1s 8ms/step - loss: 6.8842e-05\n",
            "Epoch 24/50\n",
            "123/123 [==============================] - 1s 7ms/step - loss: 6.6090e-05\n",
            "Epoch 25/50\n",
            "123/123 [==============================] - 1s 7ms/step - loss: 6.7663e-05\n",
            "Epoch 26/50\n",
            "123/123 [==============================] - 1s 7ms/step - loss: 7.0177e-05\n",
            "Epoch 27/50\n",
            "123/123 [==============================] - 1s 8ms/step - loss: 7.0293e-05\n",
            "Epoch 28/50\n",
            "123/123 [==============================] - 1s 8ms/step - loss: 6.9463e-05\n",
            "Epoch 29/50\n",
            "123/123 [==============================] - 1s 8ms/step - loss: 7.0207e-05\n",
            "Epoch 30/50\n",
            "123/123 [==============================] - 1s 7ms/step - loss: 6.8577e-05\n",
            "Epoch 31/50\n",
            "123/123 [==============================] - 1s 8ms/step - loss: 6.6983e-05\n",
            "Epoch 32/50\n",
            "123/123 [==============================] - 1s 8ms/step - loss: 6.7825e-05\n",
            "Epoch 33/50\n",
            "123/123 [==============================] - 1s 7ms/step - loss: 6.6734e-05\n",
            "Epoch 34/50\n",
            "123/123 [==============================] - 1s 8ms/step - loss: 6.7530e-05\n",
            "Epoch 35/50\n",
            "123/123 [==============================] - 1s 8ms/step - loss: 6.7361e-05\n",
            "Epoch 36/50\n",
            "123/123 [==============================] - 1s 7ms/step - loss: 6.8364e-05\n",
            "Epoch 37/50\n",
            "123/123 [==============================] - 1s 8ms/step - loss: 6.8294e-05\n",
            "Epoch 38/50\n",
            "123/123 [==============================] - 1s 8ms/step - loss: 6.8053e-05\n",
            "Epoch 39/50\n",
            "123/123 [==============================] - 1s 8ms/step - loss: 6.6660e-05\n",
            "Epoch 40/50\n",
            "123/123 [==============================] - 1s 8ms/step - loss: 6.7849e-05\n",
            "Epoch 41/50\n",
            "123/123 [==============================] - 1s 8ms/step - loss: 6.6948e-05\n",
            "Epoch 42/50\n",
            "123/123 [==============================] - 1s 8ms/step - loss: 6.9145e-05\n",
            "Epoch 43/50\n",
            "123/123 [==============================] - 1s 7ms/step - loss: 6.6498e-05\n",
            "Epoch 44/50\n",
            "123/123 [==============================] - 1s 8ms/step - loss: 6.7333e-05\n",
            "Epoch 45/50\n",
            "123/123 [==============================] - 1s 7ms/step - loss: 6.7041e-05\n",
            "Epoch 46/50\n",
            "123/123 [==============================] - 1s 8ms/step - loss: 6.7324e-05\n",
            "Epoch 47/50\n",
            "123/123 [==============================] - 1s 7ms/step - loss: 7.2930e-05\n",
            "Epoch 48/50\n",
            "123/123 [==============================] - 1s 8ms/step - loss: 6.7941e-05\n",
            "Epoch 49/50\n",
            "123/123 [==============================] - 1s 8ms/step - loss: 6.6566e-05\n",
            "Epoch 50/50\n",
            "123/123 [==============================] - 1s 8ms/step - loss: 6.7433e-05\n",
            "543/543 [==============================] - 2s 3ms/step - loss: 0.0222\n",
            "Accuracy for model3_modified: 0.022191757336258888\n"
          ]
        }
      ]
    },
    {
      "cell_type": "code",
      "source": [
        "acc3_mo = model3_modified.evaluate(X_test, y_test, batch_size=3)\n",
        "print('Accuracy for model3_modified:', acc3_mo)"
      ],
      "metadata": {
        "colab": {
          "base_uri": "https://localhost:8080/"
        },
        "id": "12coqy1uQISl",
        "outputId": "9a4b675b-1b74-4fc7-8630-b4acaaf3c1c2"
      },
      "execution_count": null,
      "outputs": [
        {
          "output_type": "stream",
          "name": "stdout",
          "text": [
            "543/543 [==============================] - 2s 4ms/step - loss: 0.0222\n",
            "Accuracy for model3_modified: 0.022191757336258888\n"
          ]
        }
      ]
    },
    {
      "cell_type": "markdown",
      "source": [
        "With a significant decrease in the number of units, the accuracy decreased. However, the model is still very convincing based on the high accuracy."
      ],
      "metadata": {
        "id": "RAz90dcGQWwF"
      }
    },
    {
      "cell_type": "code",
      "source": [
        "train_predict3=model3.predict(X_train)\n",
        "test_predict3=model3.predict(X_test)\n",
        "\n",
        "train_predict3=scaler.inverse_transform(train_predict3)\n",
        "test_predict3=scaler.inverse_transform(test_predict3)"
      ],
      "metadata": {
        "colab": {
          "base_uri": "https://localhost:8080/"
        },
        "id": "1f__m9QvrjHW",
        "outputId": "93560562-41ad-462d-f46d-8e96c4b702e4"
      },
      "execution_count": null,
      "outputs": [
        {
          "output_type": "stream",
          "name": "stdout",
          "text": [
            "123/123 [==============================] - 1s 4ms/step\n",
            "51/51 [==============================] - 0s 4ms/step\n"
          ]
        }
      ]
    },
    {
      "cell_type": "code",
      "source": [
        "past=100\n",
        "trainPredictPlot3 = np.empty_like(closing)\n",
        "trainPredictPlot3[:, :] = np.nan\n",
        "trainPredictPlot3[past:len(train_predict3)+past, :] = train_predict3\n",
        "# shift test predictions for plotting\n",
        "testPredictPlot3 = np.empty_like(closing)\n",
        "testPredictPlot3[:, :] = np.nan\n",
        "testPredictPlot3[len(train_predict3)+(past*2)+1:len(closing)-1, :] = test_predict3\n",
        "\n",
        "# plot baseline and predictions\n",
        "plt.plot(scaler.inverse_transform(closing), color = 'blue', linestyle = 'solid')\n",
        "plt.plot(trainPredictPlot3, color = 'yellow', linestyle = 'dashed')\n",
        "plt.plot(testPredictPlot3, color = 'red', linestyle = 'dashed')\n",
        "plt.xlabel(\"Time\")\n",
        "plt.ylabel(\"Goldman Sachs Stock Price\")\n",
        "plt.legend([\"Real Data\", \"Train Data\", \"Test Data(Prediction)\"], loc = 'lower right', prop = {'size' : 8})\n",
        "figure(figsize=(20,10))\n",
        "plt.show()"
      ],
      "metadata": {
        "colab": {
          "base_uri": "https://localhost:8080/",
          "height": 297
        },
        "id": "TJveFjbQrjJk",
        "outputId": "151b4218-b899-4ed9-c8e8-e614ab1843f5"
      },
      "execution_count": null,
      "outputs": [
        {
          "output_type": "display_data",
          "data": {
            "text/plain": [
              "<Figure size 432x288 with 1 Axes>"
            ],
            "image/png": "[encoded data removed]"
          },
          "metadata": {
            "needs_background": "light"
          }
        },
        {
          "output_type": "display_data",
          "data": {
            "text/plain": [
              "<Figure size 1440x720 with 0 Axes>"
            ]
          },
          "metadata": {}
        }
      ]
    },
    {
      "cell_type": "markdown",
      "source": [
        "*** Figure 4 ***\n",
        "\n",
        "It is a very good fit for our dataset, as the red line (prediction) aligns with the blue line (true data) very well thoroughly."
      ],
      "metadata": {
        "id": "DhhLj0H9PYNy"
      }
    },
    {
      "cell_type": "markdown",
      "source": [
        "# Now we fit with a different layer type"
      ],
      "metadata": {
        "id": "ULroP3bDRMwO"
      }
    },
    {
      "cell_type": "code",
      "source": [
        "model4 = Sequential()\n",
        "\n",
        "model4.add(Flatten())\n",
        "model4.add(Dense(50, activation = 'relu'))\n",
        "model4.add(Dense(10, activation = 'relu'))\n",
        "model4.add(Dense(10, activation = 'relu'))\n",
        "model4.add(Dense(1))"
      ],
      "metadata": {
        "id": "TD18nVsSsZdZ"
      },
      "execution_count": null,
      "outputs": []
    },
    {
      "cell_type": "code",
      "source": [
        "model4.compile(optimizer = 'adam', loss = 'mean_squared_error')\n",
        "model4.fit(X_train, y_train, epochs = 50, batch_size = 32)"
      ],
      "metadata": {
        "colab": {
          "base_uri": "https://localhost:8080/"
        },
        "id": "HuxYe7I7s0T8",
        "outputId": "7dbcff10-1657-4d73-ed2e-28058ac3c0ad"
      },
      "execution_count": null,
      "outputs": [
        {
          "output_type": "stream",
          "name": "stdout",
          "text": [
            "Epoch 1/50\n",
            "123/123 [==============================] - 1s 1ms/step - loss: 0.0050\n",
            "Epoch 2/50\n",
            "123/123 [==============================] - 0s 1ms/step - loss: 6.7698e-04\n",
            "Epoch 3/50\n",
            "123/123 [==============================] - 0s 1ms/step - loss: 3.9614e-04\n",
            "Epoch 4/50\n",
            "123/123 [==============================] - 0s 1ms/step - loss: 3.1077e-04\n",
            "Epoch 5/50\n",
            "123/123 [==============================] - 0s 1ms/step - loss: 2.5261e-04\n",
            "Epoch 6/50\n",
            "123/123 [==============================] - 0s 1ms/step - loss: 2.3819e-04\n",
            "Epoch 7/50\n",
            "123/123 [==============================] - 0s 1ms/step - loss: 2.1408e-04\n",
            "Epoch 8/50\n",
            "123/123 [==============================] - 0s 1ms/step - loss: 1.9155e-04\n",
            "Epoch 9/50\n",
            "123/123 [==============================] - 0s 1ms/step - loss: 1.8773e-04\n",
            "Epoch 10/50\n",
            "123/123 [==============================] - 0s 1ms/step - loss: 1.7703e-04\n",
            "Epoch 11/50\n",
            "123/123 [==============================] - 0s 1ms/step - loss: 1.7603e-04\n",
            "Epoch 12/50\n",
            "123/123 [==============================] - 0s 1ms/step - loss: 1.5836e-04\n",
            "Epoch 13/50\n",
            "123/123 [==============================] - 0s 1ms/step - loss: 1.5195e-04\n",
            "Epoch 14/50\n",
            "123/123 [==============================] - 0s 1ms/step - loss: 1.7834e-04\n",
            "Epoch 15/50\n",
            "123/123 [==============================] - 0s 1ms/step - loss: 1.4840e-04\n",
            "Epoch 16/50\n",
            "123/123 [==============================] - 0s 1ms/step - loss: 1.7037e-04\n",
            "Epoch 17/50\n",
            "123/123 [==============================] - 0s 1ms/step - loss: 1.4760e-04\n",
            "Epoch 18/50\n",
            "123/123 [==============================] - 0s 1ms/step - loss: 1.4088e-04\n",
            "Epoch 19/50\n",
            "123/123 [==============================] - 0s 1ms/step - loss: 1.2740e-04\n",
            "Epoch 20/50\n",
            "123/123 [==============================] - 0s 1ms/step - loss: 1.2380e-04\n",
            "Epoch 21/50\n",
            "123/123 [==============================] - 0s 1ms/step - loss: 1.2590e-04\n",
            "Epoch 22/50\n",
            "123/123 [==============================] - 0s 1ms/step - loss: 1.2942e-04\n",
            "Epoch 23/50\n",
            "123/123 [==============================] - 0s 1ms/step - loss: 1.2433e-04\n",
            "Epoch 24/50\n",
            "123/123 [==============================] - 0s 1ms/step - loss: 1.3311e-04\n",
            "Epoch 25/50\n",
            "123/123 [==============================] - 0s 1ms/step - loss: 1.1501e-04\n",
            "Epoch 26/50\n",
            "123/123 [==============================] - 0s 1ms/step - loss: 1.3239e-04\n",
            "Epoch 27/50\n",
            "123/123 [==============================] - 0s 1ms/step - loss: 1.5356e-04\n",
            "Epoch 28/50\n",
            "123/123 [==============================] - 0s 1ms/step - loss: 1.2056e-04\n",
            "Epoch 29/50\n",
            "123/123 [==============================] - 0s 1ms/step - loss: 1.2221e-04\n",
            "Epoch 30/50\n",
            "123/123 [==============================] - 0s 1ms/step - loss: 1.0532e-04\n",
            "Epoch 31/50\n",
            "123/123 [==============================] - 0s 1ms/step - loss: 1.0902e-04\n",
            "Epoch 32/50\n",
            "123/123 [==============================] - 0s 1ms/step - loss: 1.0645e-04\n",
            "Epoch 33/50\n",
            "123/123 [==============================] - 0s 1ms/step - loss: 1.1360e-04\n",
            "Epoch 34/50\n",
            "123/123 [==============================] - 0s 1ms/step - loss: 1.0985e-04\n",
            "Epoch 35/50\n",
            "123/123 [==============================] - 0s 1ms/step - loss: 9.6585e-05\n",
            "Epoch 36/50\n",
            "123/123 [==============================] - 0s 1ms/step - loss: 1.0675e-04\n",
            "Epoch 37/50\n",
            "123/123 [==============================] - 0s 1ms/step - loss: 1.1741e-04\n",
            "Epoch 38/50\n",
            "123/123 [==============================] - 0s 1ms/step - loss: 1.2677e-04\n",
            "Epoch 39/50\n",
            "123/123 [==============================] - 0s 1ms/step - loss: 1.0729e-04\n",
            "Epoch 40/50\n",
            "123/123 [==============================] - 0s 1ms/step - loss: 1.3717e-04\n",
            "Epoch 41/50\n",
            "123/123 [==============================] - 0s 1ms/step - loss: 1.0374e-04\n",
            "Epoch 42/50\n",
            "123/123 [==============================] - 0s 1ms/step - loss: 1.0134e-04\n",
            "Epoch 43/50\n",
            "123/123 [==============================] - 0s 1ms/step - loss: 1.0524e-04\n",
            "Epoch 44/50\n",
            "123/123 [==============================] - 0s 1ms/step - loss: 9.5248e-05\n",
            "Epoch 45/50\n",
            "123/123 [==============================] - 0s 1ms/step - loss: 1.0647e-04\n",
            "Epoch 46/50\n",
            "123/123 [==============================] - 0s 1ms/step - loss: 9.6616e-05\n",
            "Epoch 47/50\n",
            "123/123 [==============================] - 0s 1ms/step - loss: 9.6737e-05\n",
            "Epoch 48/50\n",
            "123/123 [==============================] - 0s 1ms/step - loss: 9.2110e-05\n",
            "Epoch 49/50\n",
            "123/123 [==============================] - 0s 1ms/step - loss: 8.9713e-05\n",
            "Epoch 50/50\n",
            "123/123 [==============================] - 0s 1ms/step - loss: 9.9705e-05\n"
          ]
        },
        {
          "output_type": "execute_result",
          "data": {
            "text/plain": [
              "<keras.callbacks.History at 0x7f85b59eed90>"
            ]
          },
          "metadata": {},
          "execution_count": 136
        }
      ]
    },
    {
      "cell_type": "code",
      "source": [
        "acc4 = model4.evaluate(X_test, y_test, batch_size=3)\n",
        "print('Accuracy for model4', acc4)"
      ],
      "metadata": {
        "colab": {
          "base_uri": "https://localhost:8080/"
        },
        "id": "_gxQ5-LBy4-v",
        "outputId": "c96fec01-bff5-45c9-8e1a-8fde91879df3"
      },
      "execution_count": null,
      "outputs": [
        {
          "output_type": "stream",
          "name": "stdout",
          "text": [
            "543/543 [==============================] - 1s 895us/step - loss: 3.0982e-04\n",
            "Accuracy for model4 0.00030981944291852415\n"
          ]
        }
      ]
    },
    {
      "cell_type": "code",
      "source": [
        "train_predict4=model4.predict(X_train)\n",
        "test_predict4=model4.predict(X_test)"
      ],
      "metadata": {
        "colab": {
          "base_uri": "https://localhost:8080/"
        },
        "id": "p4jRK9-rzHvJ",
        "outputId": "e95ae734-4526-4baf-d378-8b8a9009f6d8"
      },
      "execution_count": null,
      "outputs": [
        {
          "output_type": "stream",
          "name": "stdout",
          "text": [
            "123/123 [==============================] - 0s 1ms/step\n",
            "51/51 [==============================] - 0s 2ms/step\n"
          ]
        }
      ]
    },
    {
      "cell_type": "code",
      "source": [
        "past=100\n",
        "trainPredictPlot4 = np.empty_like(closing)\n",
        "trainPredictPlot4[:, :] = np.nan\n",
        "trainPredictPlot4[past:len(train_predict4)+past, :] = train_predict4\n",
        "# shift test predictions for plotting\n",
        "testPredictPlot4 = np.empty_like(closing)\n",
        "testPredictPlot4[:, :] = np.nan\n",
        "testPredictPlot4[len(train_predict4)+(past*2)+1:len(closing)-1, :] = test_predict4\n",
        "\n",
        "# plot baseline and predictions\n",
        "plt.plot(scaler.inverse_transform(closing), color = 'blue', linestyle = 'solid')\n",
        "plt.plot(trainPredictPlot3, color = 'red', linestyle = 'dashed')\n",
        "plt.plot(testPredictPlot3, color = 'green', linestyle = 'dashed')\n",
        "plt.xlabel(\"Time\")\n",
        "plt.ylabel(\"Goldman Sachs Stock Price\")\n",
        "plt.legend([\"Real Data\", \"Train Data\", \"Test Data(Prediction)\"], loc = 'lower right', prop = {'size' : 8})\n",
        "figure(figsize=(20,10))\n",
        "plt.show()"
      ],
      "metadata": {
        "colab": {
          "base_uri": "https://localhost:8080/",
          "height": 297
        },
        "id": "iRv7Lh-9zA5L",
        "outputId": "8059fe35-b299-4d52-80cc-3b6bb2533968"
      },
      "execution_count": null,
      "outputs": [
        {
          "output_type": "display_data",
          "data": {
            "text/plain": [
              "<Figure size 432x288 with 1 Axes>"
            ],
            "image/png": "[encoded data removed]"
          },
          "metadata": {
            "needs_background": "light"
          }
        },
        {
          "output_type": "display_data",
          "data": {
            "text/plain": [
              "<Figure size 1440x720 with 0 Axes>"
            ]
          },
          "metadata": {}
        }
      ]
    },
    {
      "cell_type": "markdown",
      "source": [
        "*** Figure 5 ***"
      ],
      "metadata": {
        "id": "FEVbtzVAkZZH"
      }
    },
    {
      "cell_type": "markdown",
      "source": [
        "Again, our predicted stock prices (gree line) is very close to the underlying real stock prices (blue line). This is also a very good fit!"
      ],
      "metadata": {
        "id": "rMBtgzAnSfSX"
      }
    },
    {
      "cell_type": "markdown",
      "source": [
        "## Non-Sequential Model"
      ],
      "metadata": {
        "id": "8lHMyzOTVZ2f"
      }
    },
    {
      "cell_type": "code",
      "source": [
        "import tensorflow as tf\n",
        "import numpy as np\n",
        "import pandas as pd\n",
        "import matplotlib.pyplot as plt\n",
        "from tensorflow.keras import Model\n",
        "import urllib.request\n",
        "from tensorflow.python.ops.array_ops import tensor_strided_slice_update\n",
        "import tensorflow as tf\n",
        "from tensorflow.keras import Model, layers\n",
        "\n",
        "class NonSequential(Model):\n",
        "  def __init__(self):\n",
        "    super(NonSequential, self).__init__()\n",
        "    self.rnn = layers.SimpleRNN(64)\n",
        "    self.relu1 = layers.Activation('relu')\n",
        "\n",
        "    self.flatten1 = layers.Flatten()\n",
        "    self.dense1 = layers.Dense(20)\n",
        "\n",
        "    self.flatten2 = layers.Flatten()\n",
        "    self.dense2 = layers.Dense(20)\n",
        "    self.relu3 = layers.Activation('relu')\n",
        "\n",
        "    self.dense3 = layers.Dense(1)\n",
        "\n",
        "  def call(self, x):\n",
        "    weighted_x = self.rnn(x)\n",
        "    weighted_x = self.relu1(weighted_x)\n",
        "\n",
        "    weighted_x2 = self.flatten1(weighted_x)\n",
        "    weighted_x2 = self.dense1(weighted_x2)\n",
        "\n",
        "    weighted_x3 = self.flatten2(weighted_x)\n",
        "    weighted_x3 = self.dense2(weighted_x3)\n",
        "    weighted_x3 = self.relu3(weighted_x3)\n",
        "\n",
        "    return self.dense3(weighted_x2 + weighted_x3)\n",
        "\n",
        "\n",
        "model_nS = NonSequential()\n",
        "\n",
        "model_nS.compile(optimizer = 'adam', loss = 'mean_squared_error')\n",
        "model_nS.fit(X_train, y_train, epochs = 50, batch_size = 32)\n"
      ],
      "metadata": {
        "colab": {
          "base_uri": "https://localhost:8080/"
        },
        "id": "UK6hsNQQVdqt",
        "outputId": "6ddec62f-213c-48e4-c210-52050dd1fe2d"
      },
      "execution_count": null,
      "outputs": [
        {
          "output_type": "stream",
          "name": "stdout",
          "text": [
            "Epoch 1/50\n",
            "123/123 [==============================] - 2s 11ms/step - loss: 0.0024\n",
            "Epoch 2/50\n",
            "123/123 [==============================] - 1s 11ms/step - loss: 2.0963e-04\n",
            "Epoch 3/50\n",
            "123/123 [==============================] - 1s 11ms/step - loss: 1.4717e-04\n",
            "Epoch 4/50\n",
            "123/123 [==============================] - 1s 11ms/step - loss: 1.2829e-04\n",
            "Epoch 5/50\n",
            "123/123 [==============================] - 1s 10ms/step - loss: 1.0531e-04\n",
            "Epoch 6/50\n",
            "123/123 [==============================] - 1s 11ms/step - loss: 1.1295e-04\n",
            "Epoch 7/50\n",
            "123/123 [==============================] - 2s 15ms/step - loss: 1.2138e-04\n",
            "Epoch 8/50\n",
            "123/123 [==============================] - 2s 13ms/step - loss: 9.6676e-05\n",
            "Epoch 9/50\n",
            "123/123 [==============================] - 1s 11ms/step - loss: 8.0953e-05\n",
            "Epoch 10/50\n",
            "123/123 [==============================] - 1s 11ms/step - loss: 9.1994e-05\n",
            "Epoch 11/50\n",
            "123/123 [==============================] - 1s 11ms/step - loss: 8.1743e-05\n",
            "Epoch 12/50\n",
            "123/123 [==============================] - 1s 11ms/step - loss: 9.1301e-05\n",
            "Epoch 13/50\n",
            "123/123 [==============================] - 1s 10ms/step - loss: 7.8804e-05\n",
            "Epoch 14/50\n",
            "123/123 [==============================] - 1s 11ms/step - loss: 7.1780e-05\n",
            "Epoch 15/50\n",
            "123/123 [==============================] - 1s 11ms/step - loss: 7.8759e-05\n",
            "Epoch 16/50\n",
            "123/123 [==============================] - 1s 11ms/step - loss: 7.3329e-05\n",
            "Epoch 17/50\n",
            "123/123 [==============================] - 1s 11ms/step - loss: 7.3841e-05\n",
            "Epoch 18/50\n",
            "123/123 [==============================] - 1s 11ms/step - loss: 7.8572e-05\n",
            "Epoch 19/50\n",
            "123/123 [==============================] - 1s 11ms/step - loss: 7.5968e-05\n",
            "Epoch 20/50\n",
            "123/123 [==============================] - 1s 11ms/step - loss: 7.4642e-05\n",
            "Epoch 21/50\n",
            "123/123 [==============================] - 1s 11ms/step - loss: 7.2393e-05\n",
            "Epoch 22/50\n",
            "123/123 [==============================] - 1s 11ms/step - loss: 7.6865e-05\n",
            "Epoch 23/50\n",
            "123/123 [==============================] - 1s 11ms/step - loss: 8.0616e-05\n",
            "Epoch 24/50\n",
            "123/123 [==============================] - 1s 11ms/step - loss: 7.3326e-05\n",
            "Epoch 25/50\n",
            "123/123 [==============================] - 1s 11ms/step - loss: 6.9556e-05\n",
            "Epoch 26/50\n",
            "123/123 [==============================] - 1s 11ms/step - loss: 7.6962e-05\n",
            "Epoch 27/50\n",
            "123/123 [==============================] - 1s 11ms/step - loss: 7.2984e-05\n",
            "Epoch 28/50\n",
            "123/123 [==============================] - 1s 11ms/step - loss: 7.7138e-05\n",
            "Epoch 29/50\n",
            "123/123 [==============================] - 1s 11ms/step - loss: 7.7654e-05\n",
            "Epoch 30/50\n",
            "123/123 [==============================] - 1s 11ms/step - loss: 7.3214e-05\n",
            "Epoch 31/50\n",
            "123/123 [==============================] - 1s 11ms/step - loss: 6.9562e-05\n",
            "Epoch 32/50\n",
            "123/123 [==============================] - 1s 11ms/step - loss: 7.4147e-05\n",
            "Epoch 33/50\n",
            "123/123 [==============================] - 1s 11ms/step - loss: 6.8535e-05\n",
            "Epoch 34/50\n",
            "123/123 [==============================] - 1s 11ms/step - loss: 8.3437e-05\n",
            "Epoch 35/50\n",
            "123/123 [==============================] - 1s 11ms/step - loss: 6.7948e-05\n",
            "Epoch 36/50\n",
            "123/123 [==============================] - 1s 11ms/step - loss: 8.0598e-05\n",
            "Epoch 37/50\n",
            "123/123 [==============================] - 1s 11ms/step - loss: 7.3918e-05\n",
            "Epoch 38/50\n",
            "123/123 [==============================] - 1s 11ms/step - loss: 7.4467e-05\n",
            "Epoch 39/50\n",
            "123/123 [==============================] - 1s 11ms/step - loss: 7.4771e-05\n",
            "Epoch 40/50\n",
            "123/123 [==============================] - 1s 11ms/step - loss: 6.7451e-05\n",
            "Epoch 41/50\n",
            "123/123 [==============================] - 1s 11ms/step - loss: 6.7809e-05\n",
            "Epoch 42/50\n",
            "123/123 [==============================] - 1s 11ms/step - loss: 6.8822e-05\n",
            "Epoch 43/50\n",
            "123/123 [==============================] - 1s 11ms/step - loss: 7.2994e-05\n",
            "Epoch 44/50\n",
            "123/123 [==============================] - 1s 11ms/step - loss: 7.1513e-05\n",
            "Epoch 45/50\n",
            "123/123 [==============================] - 1s 11ms/step - loss: 6.4288e-05\n",
            "Epoch 46/50\n",
            "123/123 [==============================] - 1s 11ms/step - loss: 6.7773e-05\n",
            "Epoch 47/50\n",
            "123/123 [==============================] - 1s 11ms/step - loss: 7.4002e-05\n",
            "Epoch 48/50\n",
            "123/123 [==============================] - 1s 11ms/step - loss: 7.4338e-05\n",
            "Epoch 49/50\n",
            "123/123 [==============================] - 1s 11ms/step - loss: 7.0527e-05\n",
            "Epoch 50/50\n",
            "123/123 [==============================] - 1s 11ms/step - loss: 7.2147e-05\n",
            "543/543 [==============================] - 2s 3ms/step - loss: 4.5392e-04\n",
            "Accuracy for Non-Sequential model 0.0004539211804512888\n"
          ]
        }
      ]
    },
    {
      "cell_type": "code",
      "source": [
        "acc_ns = model_nS.evaluate(X_test, y_test, batch_size=3)\n",
        "print('Accuracy for Non-Sequential model', acc_ns)"
      ],
      "metadata": {
        "colab": {
          "base_uri": "https://localhost:8080/"
        },
        "id": "qTkSR2xpf23o",
        "outputId": "1358afbb-c85a-4c02-dcb6-2ee0a604c75b"
      },
      "execution_count": null,
      "outputs": [
        {
          "output_type": "stream",
          "name": "stdout",
          "text": [
            "543/543 [==============================] - 2s 3ms/step - loss: 4.5392e-04\n",
            "Accuracy for Non-Sequential model 0.0004539211804512888\n"
          ]
        }
      ]
    },
    {
      "cell_type": "markdown",
      "source": [
        "We see that the accuracy for this non-sequential model is also very high. We change a little bit and check the accuracy again.\n"
      ],
      "metadata": {
        "id": "BFTsC0lzf6zY"
      }
    },
    {
      "cell_type": "code",
      "source": [
        "class NonSequential2(Model):\n",
        "  def __init__(self):\n",
        "    super(NonSequential2, self).__init__()\n",
        "    self.conv1 = layers.conv1D(64, input_shape = (100,1))\n",
        "    self.relu1 = layers.Activation('relu')\n",
        "\n",
        "    self.flatten1 = layers.Flatten()\n",
        "    self.dense1 = layers.Dense(20)\n",
        "\n",
        "    self.flatten2 = layers.Flatten()\n",
        "    self.dense2 = layers.Dense(20)\n",
        "    self.relu3 = layers.Activation('relu')\n",
        "\n",
        "    self.dense3 = layers.Dense(1)\n",
        "\n",
        "  def call(self, x):\n",
        "    weighted_x = self.conv1(x)\n",
        "    weighted_x = self.relu1(weighted_x)\n",
        "\n",
        "    weighted_x2 = self.flatten1(weighted_x)\n",
        "    weighted_x2 = self.dense1(weighted_x2)\n",
        "\n",
        "    weighted_x3 = self.flatten2(weighted_x)\n",
        "    weighted_x3 = self.dense2(weighted_x3)\n",
        "    weighted_x3 = self.relu3(weighted_x3)\n",
        "\n",
        "    return self.dense3(weighted_x2 + weighted_x3)\n",
        "\n",
        "\n",
        "model_nS2 = NonSequential()\n",
        "\n",
        "model_nS2.compile(optimizer = 'adam', loss = 'mean_squared_error')\n",
        "model_nS2.fit(X_train, y_train, epochs = 50, batch_size = 32)"
      ],
      "metadata": {
        "colab": {
          "base_uri": "https://localhost:8080/"
        },
        "id": "OGtx1KBegEag",
        "outputId": "7fa38902-7dd1-4624-a9b6-244e25dabcaa"
      },
      "execution_count": null,
      "outputs": [
        {
          "output_type": "stream",
          "name": "stdout",
          "text": [
            "Epoch 1/50\n",
            "123/123 [==============================] - 2s 11ms/step - loss: 0.0047\n",
            "Epoch 2/50\n",
            "123/123 [==============================] - 1s 11ms/step - loss: 1.8139e-04\n",
            "Epoch 3/50\n",
            "123/123 [==============================] - 1s 11ms/step - loss: 1.4606e-04\n",
            "Epoch 4/50\n",
            "123/123 [==============================] - 1s 11ms/step - loss: 1.2695e-04\n",
            "Epoch 5/50\n",
            "123/123 [==============================] - 1s 11ms/step - loss: 1.0659e-04\n",
            "Epoch 6/50\n",
            "123/123 [==============================] - 1s 11ms/step - loss: 9.9103e-05\n",
            "Epoch 7/50\n",
            "123/123 [==============================] - 1s 11ms/step - loss: 9.3299e-05\n",
            "Epoch 8/50\n",
            "123/123 [==============================] - 1s 11ms/step - loss: 1.0451e-04\n",
            "Epoch 9/50\n",
            "123/123 [==============================] - 1s 11ms/step - loss: 8.5892e-05\n",
            "Epoch 10/50\n",
            "123/123 [==============================] - 1s 11ms/step - loss: 8.6020e-05\n",
            "Epoch 11/50\n",
            "123/123 [==============================] - 1s 10ms/step - loss: 7.6947e-05\n",
            "Epoch 12/50\n",
            "123/123 [==============================] - 1s 11ms/step - loss: 8.4274e-05\n",
            "Epoch 13/50\n",
            "123/123 [==============================] - 1s 11ms/step - loss: 8.1827e-05\n",
            "Epoch 14/50\n",
            "123/123 [==============================] - 1s 11ms/step - loss: 7.5447e-05\n",
            "Epoch 15/50\n",
            "123/123 [==============================] - 1s 11ms/step - loss: 7.7298e-05\n",
            "Epoch 16/50\n",
            "123/123 [==============================] - 1s 11ms/step - loss: 7.9851e-05\n",
            "Epoch 17/50\n",
            "123/123 [==============================] - 1s 11ms/step - loss: 7.6100e-05\n",
            "Epoch 18/50\n",
            "123/123 [==============================] - 2s 15ms/step - loss: 8.0296e-05\n",
            "Epoch 19/50\n",
            "123/123 [==============================] - 1s 11ms/step - loss: 7.5424e-05\n",
            "Epoch 20/50\n",
            "123/123 [==============================] - 1s 12ms/step - loss: 8.4775e-05\n",
            "Epoch 21/50\n",
            "123/123 [==============================] - 1s 11ms/step - loss: 7.2499e-05\n",
            "Epoch 22/50\n",
            "123/123 [==============================] - 1s 11ms/step - loss: 7.4267e-05\n",
            "Epoch 23/50\n",
            "123/123 [==============================] - 2s 17ms/step - loss: 7.3862e-05\n",
            "Epoch 24/50\n",
            "123/123 [==============================] - 2s 17ms/step - loss: 7.6748e-05\n",
            "Epoch 25/50\n",
            "123/123 [==============================] - 2s 17ms/step - loss: 6.9189e-05\n",
            "Epoch 26/50\n",
            "123/123 [==============================] - 3s 21ms/step - loss: 6.7578e-05\n",
            "Epoch 27/50\n",
            "123/123 [==============================] - 2s 14ms/step - loss: 8.6222e-05\n",
            "Epoch 28/50\n",
            "123/123 [==============================] - 1s 11ms/step - loss: 7.4333e-05\n",
            "Epoch 29/50\n",
            "123/123 [==============================] - 1s 11ms/step - loss: 7.4583e-05\n",
            "Epoch 30/50\n",
            "123/123 [==============================] - 1s 11ms/step - loss: 7.7701e-05\n",
            "Epoch 31/50\n",
            "123/123 [==============================] - 1s 11ms/step - loss: 6.7983e-05\n",
            "Epoch 32/50\n",
            "123/123 [==============================] - 1s 11ms/step - loss: 6.6403e-05\n",
            "Epoch 33/50\n",
            "123/123 [==============================] - 2s 13ms/step - loss: 6.9041e-05\n",
            "Epoch 34/50\n",
            "123/123 [==============================] - 2s 15ms/step - loss: 7.4295e-05\n",
            "Epoch 35/50\n",
            "123/123 [==============================] - 1s 12ms/step - loss: 7.1306e-05\n",
            "Epoch 36/50\n",
            "123/123 [==============================] - 1s 11ms/step - loss: 6.7482e-05\n",
            "Epoch 37/50\n",
            "123/123 [==============================] - 1s 11ms/step - loss: 8.9808e-05\n",
            "Epoch 38/50\n",
            "123/123 [==============================] - 1s 11ms/step - loss: 7.6965e-05\n",
            "Epoch 39/50\n",
            "123/123 [==============================] - 1s 11ms/step - loss: 7.0388e-05\n",
            "Epoch 40/50\n",
            "123/123 [==============================] - 1s 11ms/step - loss: 7.0179e-05\n",
            "Epoch 41/50\n",
            "123/123 [==============================] - 1s 11ms/step - loss: 7.1988e-05\n",
            "Epoch 42/50\n",
            "123/123 [==============================] - 1s 10ms/step - loss: 7.5095e-05\n",
            "Epoch 43/50\n",
            "123/123 [==============================] - 1s 10ms/step - loss: 7.2194e-05\n",
            "Epoch 44/50\n",
            "123/123 [==============================] - 1s 10ms/step - loss: 7.2049e-05\n",
            "Epoch 45/50\n",
            "123/123 [==============================] - 1s 11ms/step - loss: 6.6395e-05\n",
            "Epoch 46/50\n",
            "123/123 [==============================] - 1s 11ms/step - loss: 6.9642e-05\n",
            "Epoch 47/50\n",
            "123/123 [==============================] - 1s 11ms/step - loss: 7.4878e-05\n",
            "Epoch 48/50\n",
            "123/123 [==============================] - 1s 11ms/step - loss: 7.6008e-05\n",
            "Epoch 49/50\n",
            "123/123 [==============================] - 1s 11ms/step - loss: 6.6152e-05\n",
            "Epoch 50/50\n",
            "123/123 [==============================] - 1s 11ms/step - loss: 7.3745e-05\n"
          ]
        },
        {
          "output_type": "execute_result",
          "data": {
            "text/plain": [
              "<keras.callbacks.History at 0x7f85aaed9730>"
            ]
          },
          "metadata": {},
          "execution_count": 152
        }
      ]
    },
    {
      "cell_type": "code",
      "source": [
        "acc_ns2 = model_nS2.evaluate(X_test, y_test, batch_size=3)\n",
        "print('Accuracy for Non-Sequential model 2', acc_ns2)"
      ],
      "metadata": {
        "colab": {
          "base_uri": "https://localhost:8080/"
        },
        "id": "7uVwIJhpgb7p",
        "outputId": "e4978afc-7c49-4b63-85c0-d428010b7b9c"
      },
      "execution_count": null,
      "outputs": [
        {
          "output_type": "stream",
          "name": "stdout",
          "text": [
            "543/543 [==============================] - 2s 3ms/step - loss: 7.4554e-04\n",
            "Accuracy for Non-Sequential model 2 0.0007455385639332235\n"
          ]
        }
      ]
    },
    {
      "cell_type": "markdown",
      "source": [
        "We see the accuracy decrease a little bit, but this model is still very good. We observe that even we did not use any SimpleRNN or LSTM layers, we can still arrive at some pretty decent outcomes using sequential and non-sequential models."
      ],
      "metadata": {
        "id": "Wnlh_RwGgyuh"
      }
    },
    {
      "cell_type": "markdown",
      "source": [
        "## Linear Regression Model"
      ],
      "metadata": {
        "id": "yMBsvXl7-PYH"
      }
    },
    {
      "cell_type": "code",
      "source": [
        "X_LR = gs[['High','Low','Open','Volume']].values\n",
        "y_LR = gs['Close'].values"
      ],
      "metadata": {
        "id": "XVN4cqtV91RQ"
      },
      "execution_count": null,
      "outputs": []
    },
    {
      "cell_type": "code",
      "source": [
        "X_LR_train, X_LR_test, y_LR_train, y_LR_test = train_test_split(X_LR,y_LR, test_size=0.3, random_state=1)"
      ],
      "metadata": {
        "id": "3UPJ5IzQ-T4H"
      },
      "execution_count": null,
      "outputs": []
    },
    {
      "cell_type": "code",
      "source": [
        "rg = LinearRegression()\n",
        "rg.fit(X_LR_train, y_LR_train)\n",
        "print(rg.coef_)\n",
        "print(rg.intercept_)\n",
        "\n",
        "prediction = rg.predict(X_LR_test)\n",
        "print(prediction)"
      ],
      "metadata": {
        "colab": {
          "base_uri": "https://localhost:8080/"
        },
        "id": "as3a9X1b-lk9",
        "outputId": "ee2f915f-d924-4878-c443-36e6433ec803"
      },
      "execution_count": null,
      "outputs": [
        {
          "output_type": "stream",
          "name": "stdout",
          "text": [
            "[ 7.95954956e-01  7.92577066e-01 -5.88396122e-01  1.16758272e-08]\n",
            "-0.06227950409197547\n",
            "[216.14365765 210.18982355 197.09339735 ... 188.96856919 151.11622747\n",
            "  76.05420306]\n"
          ]
        }
      ]
    },
    {
      "cell_type": "markdown",
      "source": [
        "Do comparison with the true closing stock price:"
      ],
      "metadata": {
        "id": "sCzP5JoD-6b8"
      }
    },
    {
      "cell_type": "code",
      "source": [
        "data = pd.DataFrame({'Actual': y_LR_test.flatten(), 'Predicted' : prediction.flatten()})\n",
        "data"
      ],
      "metadata": {
        "colab": {
          "base_uri": "https://localhost:8080/",
          "height": 424
        },
        "id": "77JwX_oj-_el",
        "outputId": "3514eebe-7469-4869-c1a1-d0c24ebcec53"
      },
      "execution_count": null,
      "outputs": [
        {
          "output_type": "execute_result",
          "data": {
            "text/plain": [
              "          Actual   Predicted\n",
              "0     217.139999  216.143658\n",
              "1     209.940002  210.189824\n",
              "2     196.419998  197.093397\n",
              "3     110.875000  111.041833\n",
              "4      81.500000   81.276313\n",
              "...          ...         ...\n",
              "1724  158.240005  157.779724\n",
              "1725  243.940002  245.102347\n",
              "1726  189.779999  188.968569\n",
              "1727  149.949997  151.116227\n",
              "1728   76.150002   76.054203\n",
              "\n",
              "[1729 rows x 2 columns]"
            ],
            "text/html": [
              "\n",
              "  <div id=\"df-a3381dde-8230-4b1b-af42-0038edd2a6c6\">\n",
              "    <div class=\"colab-df-container\">\n",
              "      <div>\n",
              "<style scoped>\n",
              "    .dataframe tbody tr th:only-of-type {\n",
              "        vertical-align: middle;\n",
              "    }\n",
              "\n",
              "    .dataframe tbody tr th {\n",
              "        vertical-align: top;\n",
              "    }\n",
              "\n",
              "    .dataframe thead th {\n",
              "        text-align: right;\n",
              "    }\n",
              "</style>\n",
              "<table border=\"1\" class=\"dataframe\">\n",
              "  <thead>\n",
              "    <tr style=\"text-align: right;\">\n",
              "      <th></th>\n",
              "      <th>Actual</th>\n",
              "      <th>Predicted</th>\n",
              "    </tr>\n",
              "  </thead>\n",
              "  <tbody>\n",
              "    <tr>\n",
              "      <th>0</th>\n",
              "      <td>217.139999</td>\n",
              "      <td>216.143658</td>\n",
              "    </tr>\n",
              "    <tr>\n",
              "      <th>1</th>\n",
              "      <td>209.940002</td>\n",
              "      <td>210.189824</td>\n",
              "    </tr>\n",
              "    <tr>\n",
              "      <th>2</th>\n",
              "      <td>196.419998</td>\n",
              "      <td>197.093397</td>\n",
              "    </tr>\n",
              "    <tr>\n",
              "      <th>3</th>\n",
              "      <td>110.875000</td>\n",
              "      <td>111.041833</td>\n",
              "    </tr>\n",
              "    <tr>\n",
              "      <th>4</th>\n",
              "      <td>81.500000</td>\n",
              "      <td>81.276313</td>\n",
              "    </tr>\n",
              "    <tr>\n",
              "      <th>...</th>\n",
              "      <td>...</td>\n",
              "      <td>...</td>\n",
              "    </tr>\n",
              "    <tr>\n",
              "      <th>1724</th>\n",
              "      <td>158.240005</td>\n",
              "      <td>157.779724</td>\n",
              "    </tr>\n",
              "    <tr>\n",
              "      <th>1725</th>\n",
              "      <td>243.940002</td>\n",
              "      <td>245.102347</td>\n",
              "    </tr>\n",
              "    <tr>\n",
              "      <th>1726</th>\n",
              "      <td>189.779999</td>\n",
              "      <td>188.968569</td>\n",
              "    </tr>\n",
              "    <tr>\n",
              "      <th>1727</th>\n",
              "      <td>149.949997</td>\n",
              "      <td>151.116227</td>\n",
              "    </tr>\n",
              "    <tr>\n",
              "      <th>1728</th>\n",
              "      <td>76.150002</td>\n",
              "      <td>76.054203</td>\n",
              "    </tr>\n",
              "  </tbody>\n",
              "</table>\n",
              "<p>1729 rows × 2 columns</p>\n",
              "</div>\n",
              "      <button class=\"colab-df-convert\" onclick=\"convertToInteractive('df-a3381dde-8230-4b1b-af42-0038edd2a6c6')\"\n",
              "              title=\"Convert this dataframe to an interactive table.\"\n",
              "              style=\"display:none;\">\n",
              "        \n",
              "  <svg xmlns=\"http://www.w3.org/2000/svg\" height=\"24px\"viewBox=\"0 0 24 24\"\n",
              "       width=\"24px\">\n",
              "    <path d=\"M0 0h24v24H0V0z\" fill=\"none\"/>\n",
              "    <path d=\"M18.56 5.44l.94 2.06.94-2.06 2.06-.94-2.06-.94-.94-2.06-.94 2.06-2.06.94zm-11 1L8.5 8.5l.94-2.06 2.06-.94-2.06-.94L8.5 2.5l-.94 2.06-2.06.94zm10 10l.94 2.06.94-2.06 2.06-.94-2.06-.94-.94-2.06-.94 2.06-2.06.94z\"/><path d=\"M17.41 7.96l-1.37-1.37c-.4-.4-.92-.59-1.43-.59-.52 0-1.04.2-1.43.59L10.3 9.45l-7.72 7.72c-.78.78-.78 2.05 0 2.83L4 21.41c.39.39.9.59 1.41.59.51 0 1.02-.2 1.41-.59l7.78-7.78 2.81-2.81c.8-.78.8-2.07 0-2.86zM5.41 20L4 18.59l7.72-7.72 1.47 1.35L5.41 20z\"/>\n",
              "  </svg>\n",
              "      </button>\n",
              "      \n",
              "  <style>\n",
              "    .colab-df-container {\n",
              "      display:flex;\n",
              "      flex-wrap:wrap;\n",
              "      gap: 12px;\n",
              "    }\n",
              "\n",
              "    .colab-df-convert {\n",
              "      background-color: #E8F0FE;\n",
              "      border: none;\n",
              "      border-radius: 50%;\n",
              "      cursor: pointer;\n",
              "      display: none;\n",
              "      fill: #1967D2;\n",
              "      height: 32px;\n",
              "      padding: 0 0 0 0;\n",
              "      width: 32px;\n",
              "    }\n",
              "\n",
              "    .colab-df-convert:hover {\n",
              "      background-color: #E2EBFA;\n",
              "      box-shadow: 0px 1px 2px rgba(60, 64, 67, 0.3), 0px 1px 3px 1px rgba(60, 64, 67, 0.15);\n",
              "      fill: #174EA6;\n",
              "    }\n",
              "\n",
              "    [theme=dark] .colab-df-convert {\n",
              "      background-color: #3B4455;\n",
              "      fill: #D2E3FC;\n",
              "    }\n",
              "\n",
              "    [theme=dark] .colab-df-convert:hover {\n",
              "      background-color: #434B5C;\n",
              "      box-shadow: 0px 1px 3px 1px rgba(0, 0, 0, 0.15);\n",
              "      filter: drop-shadow(0px 1px 2px rgba(0, 0, 0, 0.3));\n",
              "      fill: #FFFFFF;\n",
              "    }\n",
              "  </style>\n",
              "\n",
              "      <script>\n",
              "        const buttonEl =\n",
              "          document.querySelector('#df-a3381dde-8230-4b1b-af42-0038edd2a6c6 button.colab-df-convert');\n",
              "        buttonEl.style.display =\n",
              "          google.colab.kernel.accessAllowed ? 'block' : 'none';\n",
              "\n",
              "        async function convertToInteractive(key) {\n",
              "          const element = document.querySelector('#df-a3381dde-8230-4b1b-af42-0038edd2a6c6');\n",
              "          const dataTable =\n",
              "            await google.colab.kernel.invokeFunction('convertToInteractive',\n",
              "                                                     [key], {});\n",
              "          if (!dataTable) return;\n",
              "\n",
              "          const docLinkHtml = 'Like what you see? Visit the ' +\n",
              "            '<a target=\"_blank\" href=https://colab.research.google.com/notebooks/data_table.ipynb>data table notebook</a>'\n",
              "            + ' to learn more about interactive tables.';\n",
              "          element.innerHTML = '';\n",
              "          dataTable['output_type'] = 'display_data';\n",
              "          await google.colab.output.renderOutput(dataTable, element);\n",
              "          const docLink = document.createElement('div');\n",
              "          docLink.innerHTML = docLinkHtml;\n",
              "          element.appendChild(docLink);\n",
              "        }\n",
              "      </script>\n",
              "    </div>\n",
              "  </div>\n",
              "  "
            ]
          },
          "metadata": {},
          "execution_count": 158
        }
      ]
    },
    {
      "cell_type": "markdown",
      "source": [
        "*** Table 2 ***"
      ],
      "metadata": {
        "id": "OO5vxoaRkdXu"
      }
    },
    {
      "cell_type": "code",
      "source": [
        "x=0\n",
        "for i in range(0, 1729):\n",
        "   if np.abs(y_LR_test[i] - prediction[i])<1:\n",
        "      x=x+1\n",
        "print(x/len(gs))\n",
        "\n",
        "plt.plot(data[\"Predicted\"])\n",
        "plt.plot(gs['Close'], color = \"red\")\n",
        "\n",
        "plt.xlim([1500, 1750])\n",
        "plt.title(\"Goldman Sachs Stock Price Prediction Using Linear Regression\")\n",
        "plt.xlabel(\"Time\")\n",
        "plt.ylabel(\"Price (USD)\")\n",
        "plt.legend([\"Predicted Stock Price\", \"Real Stock Price\"], loc = 'lower right', prop = {'size' : 8})"
      ],
      "metadata": {
        "colab": {
          "base_uri": "https://localhost:8080/",
          "height": 331
        },
        "id": "qymm4IDUAW25",
        "outputId": "93603c9c-dfd9-4ae4-831b-904ba95d9817"
      },
      "execution_count": null,
      "outputs": [
        {
          "output_type": "stream",
          "name": "stdout",
          "text": [
            "0.20982297813259285\n"
          ]
        },
        {
          "output_type": "execute_result",
          "data": {
            "text/plain": [
              "<matplotlib.legend.Legend at 0x7f85c3085fa0>"
            ]
          },
          "metadata": {},
          "execution_count": 164
        },
        {
          "output_type": "display_data",
          "data": {
            "text/plain": [
              "<Figure size 432x288 with 1 Axes>"
            ],
            "image/png": "[encoded data removed]"
          },
          "metadata": {
            "needs_background": "light"
          }
        }
      ]
    },
    {
      "cell_type": "markdown",
      "source": [
        "*** Figure 6 ***"
      ],
      "metadata": {
        "id": "0a8vW5btkpNk"
      }
    },
    {
      "cell_type": "markdown",
      "source": [
        "When the real stock price is within $1 of the predicted stock price, we considered it as close enough and hence a good guess.\n",
        "\n",
        "By the table above, we find that approximately 21% of our result lied within the good guess range. This is a relatively low accuracy. We also observe the plot above, our predicted stock price bounce back and forth continuously, representing an unsteady state. Therefore, by comaprison, clearly we should go for the neural networks for stock price prediction tasks.\n"
      ],
      "metadata": {
        "id": "0meoZTw2HIxH"
      }
    }
  ]
}